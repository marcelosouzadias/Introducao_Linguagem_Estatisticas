{
 "cells": [
  {
   "cell_type": "markdown",
   "metadata": {
    "nbpresent": {
     "id": "2f409300-8733-4486-99c9-8c7cce7b16f5"
    }
   },
   "source": [
    "# Pós Graduação em Ciência de Dados e Big Data PUC Minas Uberlândia\n",
    "## ILE - Introdução às Linguagens Estatísticas\n",
    "**Professor**: Arthur Gouveia\n",
    "\n",
    "Muitos destes exercícios foram retirados, com autorização, do livro **Introdução à Programação com Python** de **Nilo Ney Coutinho Menezes** (@lskbr) ISBN: 978-85-7522-408-3.\n",
    "\n",
    "## Índice\n",
    "* [1. O Básico de Python](#1.-O-Básico-de-Python)\n",
    "* [2. Variáveis](#2.-Variáveis)\n",
    "* [3. Operadores de Comparação](#3.-Operadores-de-Comparação)\n",
    "* [4. Variáveis do tipo *string*](#4.-Variáveis-do-tipo-string)\n",
    "    * [4.1 Operações com string](#4.1-Operações-com-string)\n",
    "* [5. Condicionais](#5.-Condicionais)\n",
    "    * [5.1. Se-Senão](#5.1.-Se-Senão)\n",
    "* [6. Repetições](#6.-Repetições)\n",
    "    * [6.1. O comando while](#6.1.-O-comando-while)\n",
    "    * [6.2. for i in range](#6.2.-for-i-in-range)\n",
    "* [7. Tipos específicos de dados](#7.-Tipos-específicos-de-dados)\n",
    "    * [7.1. Listas](#7.1.-Listas)\n",
    "    * [7.2. Dicionários](#7.2.-Dicionários)\n",
    "    * [7.3. Tuplas](#7.3.-Tuplas)\n",
    "* [8. Definindo funções](#8.-Definindo-funções)\n",
    "    * [8.1. Retornando valores](#8.1.-Retornando-valores)\n",
    "    * [8.2. Definindo valores padrão para os parâmetros de uma função](#8.2.-Definindo-valores-padrão-para-os-parâmetros-de-uma-função)\n",
    "    * [8.3. Funções de ordem superior](#8.3.-Funções-de-ordem-superior)\n",
    "    * [8.4. Acessando parâmetros pelo nome](#8.4.-Acessando-parâmetros-pelo-nome)\n",
    "    * [8.5. Empacotamento e desempacotamento de parâmetros](#8.5.-Empacotamento-e-desempacotamento-de-parâmetros)\n",
    "    * [8.6. Funções Lambda](#8.6.-Funções-Lambda)\n",
    "* [9. Acessando dados](#9.-Acessando-dados)\n",
    "    * [9.1. Acessando arquivos](#9.1.-Acessando-arquivos)\n",
    "    * [9.2. Acessando bancos de dados](#9.2.-Acessando-bancos-de-dados)\n",
    "* [10. Os principais módulos para ciência de dados](#10.-Os-principais-módulos-para-ciência-de-dados)\n",
    "    * [10.1. Statsmodels](#10.1.-Statsmodels)\n",
    "    * [10.2. scikit-learn](#10.2.-scikit-learn)\n",
    "    * [10.3. NumPy](#10.3.-NumPy)\n",
    "    * [10.4. Matplotlib](#10.4.-Matplotlib)\n",
    "    * [10.5. pandas](#10.5.-pandas)\n",
    "* [11. Próximos passos, referências, links](#11.-Próximos-passos,-referências,-links)\n",
    "    * [11.1. Próximos passos](#11.1.-Próximos-passos)\n",
    "    * [11.2. Referências para este curso (tanto Python quanto R)](#11.2.-Referências-para-este-curso-(tanto-Python-quanto-R&#41;)\n",
    "    * [11.3. Lista com 21 cursos gratuitos de Python para iniciantes.](#11.3.-Lista-com-21-cursos-gratuitos-de-Python-para-iniciantes.)\n",
    "    * [11.4. Links do pptx](#11.4.-Links-do-pptx)"
   ]
  },
  {
   "cell_type": "markdown",
   "metadata": {
    "nbpresent": {
     "id": "472fb930-ffc0-4450-8743-f1957d22d8fd"
    }
   },
   "source": [
    "## 1. O Básico de Python\n",
    "\n",
    "Python é uma linguagem de alto nível que facilita e muito a vida do programador. Python vem com 'baterias inclusas', o que quer dizer que sua biblioteca padrão permite ao programador desenvolver aplicações completas sem precisar instalar bibliotecas de terceiros.\n",
    "\n",
    "Algumas informações básicas sobre a linguagem:\n",
    "\n",
    "* Python diferencia maiúsculas de minúsculas. Ou seja, Print não é a mesma coisa que print.\n",
    "* Linhas de código iniciadas com cerquilha `(#)` são consideradas comentários e não são executads.\n",
    "* Python é uma das poucas linguagens de programação que utiliza recuos de linhas para delimitar blocos de código. Em Pascal utiliza-se BEGIN e END e em C, Java e R utilizam-se chaves {}. Em Python todas as linhas que estiverem alinhadas pelo mesmo número de espaços em relação à margem esquerda estão no mesmo bloco de código. A recomendação é a de utilização de espaços (4 ou 8) em vez de tabulações.\n",
    "* Apsesar de Python vir com 'baterias inclusas', a linguagem tem caráter modular e algumas funcionalidades, mesmo presentes na biblioteca padrão, não estão presentes imediatamente e precisam ser importadas. Por exemplo, as funções para lidar com o sistema de arquivos do S.O. estão presentes na biblioteca **`os`** que precisa ser importada antes de utilizar. Para importar um módulo basta utilizar a palavra reservada **`import`** seguida pelo nome do módulo.<br>\n",
    "Por exemplo **`import os`**\n",
    "* Utilizaremos neste curso o **Jupyter Notebook**, um ambiente muito utilizado em ciência de dados. O Jupyter Notebook permite realizar anotações em markdown, HTML e $\\LaTeX$, os notebooks são renderizados pelo GitHub e possui kernels para **Ju**lia, **Py**thon e **R**. Para executar o código em uma célula basta pressionar CTRL+Enter ou selecionar Cell->Run Cells. Os principais comandos são A para inserir uma célula acima da atual, B para inserir uma célula abaixo da atual, M para permitir editar a célula como markdown (ou HTML ou $\\LaTeX$), Y para transfomar a célula em uma célula de código.\n",
    "* Python possui um *eater egg* (ovo de páscoa) muito interessante. Importe o pacote **`this`** executando o comando **`import this`**<br><br>\n",
    "Para mais detalhes sobre *The zen of Python* visite https://www.quora.com/What-do-different-aphorisms-in-The-Zen-of-Python-mean\n",
    "\n",
    "[Home](#Pós-Graduação-em-Ciência-de-Dados-e-Big-Data-PUC-Minas-Uberlândia)"
   ]
  },
  {
   "cell_type": "code",
   "execution_count": null,
   "metadata": {
    "collapsed": true,
    "nbpresent": {
     "id": "7c2155cc-207a-4dfd-a829-f4de2219ec8c"
    }
   },
   "outputs": [],
   "source": [
    "import this"
   ]
  },
  {
   "cell_type": "markdown",
   "metadata": {
    "nbpresent": {
     "id": "03fe7aad-d9eb-4827-b284-c8dfa901766f"
    }
   },
   "source": [
    "## Exercício 1.1\n",
    "\n",
    "Faça o python imprimir seu nome e seu email no formato<br>\n",
    "Nome: Arthur Gouveia<br>\n",
    "e-mail: gouveia.arthur@gmail.com<br><br>\n",
    "*Desafio: Existem várias formas diferentes de resolver esse exercício apresentando exatamente o mesmo resultado. Quantas você consegue implementar?*"
   ]
  },
  {
   "cell_type": "code",
   "execution_count": 61,
   "metadata": {
    "nbpresent": {
     "id": "ee01dcc9-c2c2-4025-ae72-c61b6f65cd19"
    }
   },
   "outputs": [
    {
     "name": "stdout",
     "output_type": "stream",
     "text": [
      "Informe o Nome: Marcelo de Souza Dias\n",
      "Informe o E-mail: marcelosouzadias@hotmail.com\n",
      "-------------------------------------------\n",
      "Nome: Marcelo de Souza Dias\n",
      "Email: marcelosouzadias@hotmail.com\n",
      "-------------------------------------------\n",
      "Nome: Marcelo de Souza Dias\n",
      "Email: marcelosouzadias@hotmail.com\n",
      "-------------------------------------------\n",
      "Nome: Marcelo de Souza Dias\n",
      "Email: marcelosouzadias@hotmail.com\n",
      "-------------------------------------------\n",
      "Nome: Marcelo de Souza Dias\n",
      "Email: marcelosouzadias@hotmail.com\n",
      "-------------------------------------------\n",
      "Nome:  Marcelo de Souza Dias\n",
      "Email:  marcelosouzadias@hotmail.com\n"
     ]
    }
   ],
   "source": [
    "v_nome = input(\"Informe o Nome: \")\n",
    "v_email = input(\"Informe o E-mail: \")\n",
    "print(\"-------------------------------------------\")\n",
    "print(\"Nome: \" + v_nome)\n",
    "print(\"Email: \" + v_email)\n",
    "print(\"-------------------------------------------\")\n",
    "print(f\"Nome: {v_nome}\")\n",
    "print(f\"Email: {v_email}\")\n",
    "print(\"-------------------------------------------\")\n",
    "print(\"Nome: {}\".format(v_nome))\n",
    "print(\"Email: {}\".format(v_email))\n",
    "print(\"-------------------------------------------\")\n",
    "print('Nome: %s' %(v_nome))\n",
    "print('Email: %s' %(v_email))\n",
    "print(\"-------------------------------------------\")\n",
    "print('Nome: ', v_nome)\n",
    "print('Email: ', v_email)"
   ]
  },
  {
   "cell_type": "markdown",
   "metadata": {
    "nbpresent": {
     "id": "40d5535e-094a-438a-bf4d-42d4705beda7"
    }
   },
   "source": [
    "## Exercício 1.2\n",
    "Converta as seguintes expressões matemáticas para que possam ser calculadas usando o interpretador python\n",
    "* 10 &plus; 20 &times; 30\n",
    "* 4<sup>2</sup> &divide; 30\n",
    "* (9<sup>4</sup> &plus; 2) &times; 6 &minus; 1"
   ]
  },
  {
   "cell_type": "code",
   "execution_count": 22,
   "metadata": {
    "nbpresent": {
     "id": "26dea290-6dca-4afb-be71-4f202694b025"
    },
    "scrolled": true
   },
   "outputs": [
    {
     "name": "stdout",
     "output_type": "stream",
     "text": [
      "610\n",
      "\n",
      "0.5333333333333333\n",
      "\n",
      "39377\n"
     ]
    }
   ],
   "source": [
    "resultado = 10 + 20 * 30\n",
    "print(str(resultado))\n",
    "print(\"\")\n",
    "print(4**2 / 30)\n",
    "print(\"\")\n",
    "print(((9**4 + 2) * 6) - 1)"
   ]
  },
  {
   "cell_type": "markdown",
   "metadata": {
    "nbpresent": {
     "id": "135a82be-8f09-4c11-b849-6cdae7825808"
    }
   },
   "source": [
    "\n",
    "## 2. Variáveis\n",
    "Variáveis são espaços na memória do computador onde podemos armazenar valores. Em várias linguagens as variáveis são tratadas como “baldes” com nomes.\n",
    "\n",
    "Em Python o conceito é um pouco diferente; variáveis podem ser baldes com “etiquetas” e cada balde pode receber várias “etiquetas” diferentes. Dessa forma, dependendo do tipo de variável, supresas podem acontecer!\n",
    "\n",
    "Para salvar um valor na memória do computador damos um nome a este espaço de memória e atribuímos a ele o valor desejado. Por exemplo **`a = 2`**. Lê-se “a recebe 2”\n",
    "\n",
    "As variáveis em Python podem ter seus nomes formados por caracteres, números ou sublinhados porém o nome não pode começar com números. Ah! Caracteres com acento são aceitos em Python 3 ♥‿♥!!!\n",
    "\n",
    "Nomes válidos para variáveis: **`salário`**; **`salário_médio`**; **`_temp02`**; **`Velocidade`**; **`time_11_jogadores`**; **`__hidden__`**"
   ]
  },
  {
   "cell_type": "markdown",
   "metadata": {
    "nbpresent": {
     "id": "c8102432-c8ca-412e-9500-e4560cdfdf4d"
    }
   },
   "source": [
    "## Exercício 2.1\n",
    "Escreva um código que exiba o resultado de *2`a` &times; 3`b`* onde *`a`* vale 3 e *`b`* vale 5\n",
    "\n",
    "[Home](#Pós-Graduação-em-Ciência-de-Dados-e-Big-Data-PUC-Minas-Uberlândia)"
   ]
  },
  {
   "cell_type": "code",
   "execution_count": 25,
   "metadata": {
    "nbpresent": {
     "id": "e8a0a70d-e081-4de4-8fed-cad7ee10e788"
    }
   },
   "outputs": [
    {
     "name": "stdout",
     "output_type": "stream",
     "text": [
      "90\n"
     ]
    }
   ],
   "source": [
    "a = 3\n",
    "b = 5\n",
    "print((2*a) * (3 * b))"
   ]
  },
  {
   "cell_type": "markdown",
   "metadata": {
    "nbpresent": {
     "id": "0f8a270d-3d8d-46b0-be59-8e5fbe47589f"
    }
   },
   "source": [
    "## Exercício 2.2\n",
    "Repita o exemplo acima pedindo para o usuário entrar com os valores de *a* e *b*\n",
    "\n",
    "*Dica: a função **`input('msg')`** permite a entrada de dados por parte do usuário mas sempre retorna um texto. A função **`int(valor)`** converte o texto para inteiro e a função **`float(valor)`** converte uma string para um valor de ponto flutuante. Por exemplo **`idade = int(input('Digite sua idade: '))`** escreve a mensagem **`\"Digite sua idade: \"`**, aguarda o usuário digitar algo, converte o que o usuário digitou em **`int`** e salva na variável **`idade`**"
   ]
  },
  {
   "cell_type": "code",
   "execution_count": 7,
   "metadata": {
    "nbpresent": {
     "id": "3435ecaf-7f42-471a-8613-02aca2b98a8b"
    }
   },
   "outputs": [
    {
     "name": "stdout",
     "output_type": "stream",
     "text": [
      "Informe o valor de a: 5\n",
      "Informe o valor de b: 3\n",
      "90\n"
     ]
    }
   ],
   "source": [
    "a = int(input('Informe o valor de a: '))\n",
    "b = int(input('Informe o valor de b: '))\n",
    "print((2 * a) * (3 * b))"
   ]
  },
  {
   "cell_type": "markdown",
   "metadata": {
    "nbpresent": {
     "id": "02801d3b-0aa1-4b45-b4cd-48753f97b19d"
    }
   },
   "source": [
    "## Exercício 2.3\n",
    "Escreva um código que peça para o usuário entrar com seu salário e aplique sobre o salário um reajuste de 7.35%. Salve o resultado na variável **`salário_reajustado`** e exiba seu valor na tela.\n",
    "\n",
    "*Desafio: Em Python as casas decimais são separadas da parte inteira por ponto \".\" e não por vírgula \",\". Coloque um código em seu programa que substitua \",\" por \".\" antes de converter para **`float`***."
   ]
  },
  {
   "cell_type": "code",
   "execution_count": 9,
   "metadata": {
    "nbpresent": {
     "id": "536ed05b-f529-4222-b29f-09c2e4025735"
    }
   },
   "outputs": [
    {
     "name": "stdout",
     "output_type": "stream",
     "text": [
      "Informe o Salário: R$ 123,12\n",
      "O salário reajustado e de R$: 132,16932\n"
     ]
    }
   ],
   "source": [
    "salário_reajustado = float(input('Informe o Salário: R$ ').replace(',','.'))\n",
    "salário_reajustado = salário_reajustado * 1.0735\n",
    "print('O salário reajustado e de R$: ' + str(salário_reajustado).replace('.',','))\n"
   ]
  },
  {
   "cell_type": "markdown",
   "metadata": {
    "nbpresent": {
     "id": "ca58b4be-0deb-4a1f-8f0c-35bc74bfe756"
    }
   },
   "source": [
    "## 3. Operadores de Comparação\n",
    "Em Python os valores lógicos são **`True`** e **`False`**. Perceba as letras maiúsculas...\n",
    "\n",
    "Os seguintes valores são avaliados como **`False`** em Python: **`None`**; **`False`**; zero de qualquer tipo numérico **`0`**, **`0.0`**, **`0j`**; qualquer sequência vazia como **`‘’`**, **`()`**, **`[]`**; qualquer mapeamento vazio como, por exemplo, **`{}`**\n",
    "\n",
    "Os operadores de comparação são:\n",
    "<table>\n",
    "<tr><td>Operador</td><td>Operação</td><td>Símbolo matemático</td></tr>\n",
    "<tr><td>==</td><td>Igualdade</td><td>=</td></tr>\n",
    "<tr><td>></td><td>Maior que</td><td>></td></tr>\n",
    "<tr><td><</td><td>Menor que</td><td><</td></tr>\n",
    "<tr><td>!=</td><td>Diferente</td><td>≠</td></tr>\n",
    "<tr><td>>=</td><td>Maior ou igual</td><td>≥</td></tr>\n",
    "<tr><td><=</td><td>Menor ou igual</td><td>≤</td></tr>\n",
    "</table>\n",
    "\n",
    "Temos também os **Operadores lógicos** que são: **`not`**, **`and`** e **`or`**<br>\n",
    "E eles obedecem à seguinte tabela verdade:\n",
    "\n",
    "<table>\n",
    "<tr><td>V1</td><td>V2</td><td>Not V1</td><td>V1 and V2</td><td>V1 or V2</td></tr>\n",
    "<tr><td>T</td><td>T</td><td>F</td><td>T</td><td>T</td></tr>\n",
    "<tr><td>T</td><td>F</td><td>F</td><td>F</td><td>T</td></tr>\n",
    "<tr><td>F</td><td>T</td><td>T</td><td>F</td><td>T</td></tr>\n",
    "<tr><td>F</td><td>F</td><td>T</td><td>F</td><td>F</td></tr>\n",
    "</table>\n",
    "\n",
    "A precedência é **`not`** > **`and`** > **`or`**\n",
    "\n",
    "Também pode-se combinar, com os operadores lógicos, os operadores de comparação que têm maior precedência.\n",
    "\n",
    "\n",
    "[Home](#Pós-Graduação-em-Ciência-de-Dados-e-Big-Data-PUC-Minas-Uberlândia)"
   ]
  },
  {
   "cell_type": "markdown",
   "metadata": {
    "nbpresent": {
     "id": "0fdd4a93-8eef-4241-9caf-9895123bfc8a"
    }
   },
   "source": [
    "## Exercício 3.1\n",
    "Verifique a precedência dos operadores da expressão **`True and not False or True and False`** comparando-a com a expressão **`(True and (not False)) or (True and False)`**\n",
    "\n",
    "Verifique também se **`not True and False or not False`** equivale a **`(not True and (False or not False))`**"
   ]
  },
  {
   "cell_type": "code",
   "execution_count": 50,
   "metadata": {
    "nbpresent": {
     "id": "684b03cc-1d44-4a1d-9f0c-4fbd71313b3e"
    }
   },
   "outputs": [
    {
     "name": "stdout",
     "output_type": "stream",
     "text": [
      "True\n",
      "True\n",
      "-------------------------------------------\n",
      "False\n",
      "False\n"
     ]
    }
   ],
   "source": [
    "expressao_01 = (True and not False or True and False)\n",
    "expressao_02 = (True and (not False)) or (True and False)\n",
    "\n",
    "print(expressao_01 == expressao_02)\n",
    "print((True and not False or True and False) == (True and (not False)) or (True and False))\n",
    "print(\"-------------------------------------------\")\n",
    "expressao_01 = not True and False or not False\n",
    "expressao_02 = (not True and (False or not False))\n",
    "\n",
    "print(expressao_01 == expressao_02)\n",
    "print((not True and False or not False) == (not True and (False or not False)))"
   ]
  },
  {
   "cell_type": "markdown",
   "metadata": {
    "nbpresent": {
     "id": "35c76964-7f86-4749-b81f-75b087ec50bc"
    }
   },
   "source": [
    "## Exercício 3.2\n",
    "Peça para o usuário entrar com o seu salário e calcule se ele deve ou não pagar imposto de renda. Considere que para pagar imposto de renda o salário tem que ser maior ou igual a R$ 1.903,99"
   ]
  },
  {
   "cell_type": "code",
   "execution_count": 57,
   "metadata": {
    "nbpresent": {
     "id": "5dffe485-44b3-4559-8e18-465adf6537a5"
    }
   },
   "outputs": [
    {
     "name": "stdout",
     "output_type": "stream",
     "text": [
      "Informe o seu salário: R$ 1903,99\n",
      "Você deve pagar imposto de Renda! :(\n"
     ]
    }
   ],
   "source": [
    "salario_base = float(1903.99)\n",
    "salario = float(str(input('Informe o seu salário: R$ ')).replace(',','.'))\n",
    "\n",
    "if salario >= salario_base:\n",
    "    print('Você deve pagar imposto de Renda! :(')\n",
    "else:\n",
    "    print('Você não deve pagar imposto de Renda! ;)')"
   ]
  },
  {
   "cell_type": "markdown",
   "metadata": {
    "nbpresent": {
     "id": "82a11f41-51db-4754-a0ae-7371a648da68"
    }
   },
   "source": [
    "## Exercício 3.3\n",
    "Calcule o valor da expressão **`A > B and C or D`** utilizando os valores da tabela a seguir:\n",
    "\n",
    "<table>\n",
    "<tr><td>A</td><td>B</td><td>C</td><td>D</td></tr>\n",
    "<tr><td>1</td><td>2</td><td>True</td><td>False</td></tr>\n",
    "<tr><td>10</td><td>3</td><td>False</td><td>False</td></tr>\n",
    "<tr><td>5</td><td>1</td><td>True</td><td>True</td></tr>\n",
    "<tr><td>15</td><td>-10</td><td>True</td><td>None</td></tr>\n",
    "</table>"
   ]
  },
  {
   "cell_type": "code",
   "execution_count": 63,
   "metadata": {
    "nbpresent": {
     "id": "78ff7c7c-d12f-43b4-a667-1861d46729cc"
    },
    "scrolled": true
   },
   "outputs": [
    {
     "name": "stdout",
     "output_type": "stream",
     "text": [
      "False\n",
      "False\n",
      "True\n",
      "True\n"
     ]
    }
   ],
   "source": [
    "A = [1, 10, 5, 15]\n",
    "B = [2, 3, 1, -10]\n",
    "C = [True, False, True, True]\n",
    "D = [False, False, True, None]\n",
    "\n",
    "for i in range(len(A)):\n",
    "    print((A[i] > B[i]) and (C[i] or D[i]))"
   ]
  },
  {
   "cell_type": "markdown",
   "metadata": {
    "collapsed": true,
    "nbpresent": {
     "id": "b8bfc2e6-68c2-497b-95b2-d5ea0af158ab"
    }
   },
   "source": [
    "## 4. Variáveis do tipo *string*\n",
    "Uma string é um conjunto de caracteres (letras, símbolos, espaço etc.) como por exemplo Um anel para todos governar. Para separar uma string do restante do texto do seu programa utilizamos aspas. Python entende tanto aspas simples '' ou duplas \"\" para delimitar uma string. Desta forma escreveremos **`\"Um anel para todos governar\"`** ou mesmo **`'Um anel para todos governar'`**.\n",
    "\n",
    "Antes de falarmos sobre as operações com string vamos ver duas coisas muito importantes sobre elas: como descobrir o tamanho de uma string e como acessá-la letra por letra. \n",
    "\n",
    "A função **`len`** retorna o tamanho de uma string. **`len(\"a\")`** retorna 1, **`len('Um')`** retorna 2, **`len(\"dois\")`** retorna 4 e **`len('')`** retorna 0. E quanto retorna **`len(\"¯\\_(ツ)_/¯\")`**???"
   ]
  },
  {
   "cell_type": "code",
   "execution_count": 54,
   "metadata": {
    "nbpresent": {
     "id": "0e191b49-013b-4d39-a273-48911ff7553e"
    }
   },
   "outputs": [
    {
     "data": {
      "text/plain": [
       "9"
      ]
     },
     "execution_count": 54,
     "metadata": {},
     "output_type": "execute_result"
    }
   ],
   "source": [
    "len(\"¯\\_(ツ)_/¯\")"
   ]
  },
  {
   "cell_type": "markdown",
   "metadata": {
    "nbpresent": {
     "id": "227a9a4f-54c9-41fa-ad2a-ef6747034083"
    }
   },
   "source": [
    "Outra coisa importante é acessar cada caractere de uma string. Sabendo o tamanho da string podemos acessar cada um de seus elementos através de um número inteiro. **Em Python as sequências começam pelo índice 0**.\n",
    "\n",
    "<center>string</center>\n",
    "<table>\n",
    "<tr><td>0</td><td>1</td><td>2</td><td>3</td><td>4</td></tr>\n",
    "<tr><td>T</td><td>e</td><td>x</td><td>t</td><td>o</td></tr>\n",
    "</table>\n",
    "\n",
    "Para acessar um caractere da string usamos o índice entre colchetes [] desde que o índice esteja entre zero e **`len - 1`**. Por exemplo<br>\n",
    "<code>>>> a = \"ABCDEF\"\n",
    "\\>>> print(len(a))\n",
    "\\>>> print(a[0])\n",
    "\\>>> print(a[1])\n",
    "\\>>> print(a[5])\n",
    "\\>>> print(a[6])</code>\n",
    "\n",
    "[Home](#Pós-Graduação-em-Ciência-de-Dados-e-Big-Data-PUC-Minas-Uberlândia)"
   ]
  },
  {
   "cell_type": "code",
   "execution_count": null,
   "metadata": {
    "collapsed": true,
    "nbpresent": {
     "id": "8712e53e-3e1a-4752-b653-e9dc491bdd43"
    }
   },
   "outputs": [],
   "source": [
    "a = \"ABCDEF\"\n",
    "print(len(a))"
   ]
  },
  {
   "cell_type": "code",
   "execution_count": null,
   "metadata": {
    "collapsed": true,
    "nbpresent": {
     "id": "59b5d8f5-bbc9-4dcb-ade1-36e09bf5aed1"
    }
   },
   "outputs": [],
   "source": [
    "print(a[0])"
   ]
  },
  {
   "cell_type": "code",
   "execution_count": null,
   "metadata": {
    "collapsed": true,
    "nbpresent": {
     "id": "ad5e5e84-6e28-4677-af91-97acf00ed79b"
    }
   },
   "outputs": [],
   "source": [
    "print(a[1])"
   ]
  },
  {
   "cell_type": "code",
   "execution_count": null,
   "metadata": {
    "collapsed": true,
    "nbpresent": {
     "id": "706ba15d-2b15-4071-92d5-9046d6e04a8a"
    }
   },
   "outputs": [],
   "source": [
    "print(a[5])"
   ]
  },
  {
   "cell_type": "code",
   "execution_count": null,
   "metadata": {
    "collapsed": true,
    "nbpresent": {
     "id": "0ea6fd9f-1661-44db-a93f-2806d5bbcab3"
    }
   },
   "outputs": [],
   "source": [
    "print(a[6])"
   ]
  },
  {
   "cell_type": "markdown",
   "metadata": {
    "nbpresent": {
     "id": "0440ae23-304d-4026-a66e-96b4c74e0558"
    }
   },
   "source": [
    "### 4.1 Operações com string\n",
    "\n",
    "**Fatiamento (*slicing*)**\n",
    "\n",
    "O fatiamento amplia as possibilidades da indexação de strings e é indicado por dois pontos **`':'`**\n",
    "\n",
    "<code>>>> a = \"ABCDEF\"\n",
    "\\>>> a[0:2]\n",
    "\\>>> a[1:2]\n",
    "\\>>> a[:3]\n",
    "\\>>> a[3:]\n",
    "\\>>> a[3:-1]\n",
    "\\>>> a[-2:]</code>\n",
    "\n",
    "[Home](#Pós-Graduação-em-Ciência-de-Dados-e-Big-Data-PUC-Minas-Uberlândia)"
   ]
  },
  {
   "cell_type": "code",
   "execution_count": null,
   "metadata": {
    "collapsed": true,
    "nbpresent": {
     "id": "8c2740ac-64b7-4e61-87d9-fe3cbb6372b4"
    }
   },
   "outputs": [],
   "source": [
    "a = \"ABCDEF\"\n",
    "a[0:2]"
   ]
  },
  {
   "cell_type": "code",
   "execution_count": null,
   "metadata": {
    "collapsed": true,
    "nbpresent": {
     "id": "3ca5d6f9-4704-490e-bd47-f771e63675fb"
    }
   },
   "outputs": [],
   "source": [
    "a[1:2]"
   ]
  },
  {
   "cell_type": "code",
   "execution_count": null,
   "metadata": {
    "collapsed": true,
    "nbpresent": {
     "id": "a080f927-d52b-4b9d-ae02-598d3a55d80f"
    }
   },
   "outputs": [],
   "source": [
    "a[:3]"
   ]
  },
  {
   "cell_type": "code",
   "execution_count": null,
   "metadata": {
    "collapsed": true,
    "nbpresent": {
     "id": "a4c5e1f4-9ee9-46c2-b376-8cd036e98b37"
    }
   },
   "outputs": [],
   "source": [
    "a[3:]"
   ]
  },
  {
   "cell_type": "code",
   "execution_count": null,
   "metadata": {
    "collapsed": true,
    "nbpresent": {
     "id": "c822a935-2df3-47da-a05f-290034318f7c"
    }
   },
   "outputs": [],
   "source": [
    "a[3:-1]"
   ]
  },
  {
   "cell_type": "code",
   "execution_count": null,
   "metadata": {
    "collapsed": true,
    "nbpresent": {
     "id": "a4438604-2699-4a13-96ff-4b1edeba4f66"
    }
   },
   "outputs": [],
   "source": [
    "a[-2:]"
   ]
  },
  {
   "cell_type": "markdown",
   "metadata": {
    "nbpresent": {
     "id": "bcbd9e8f-79a5-4f42-9b5b-9cd9d5132fc0"
    }
   },
   "source": [
    "**Concatenação**\n",
    "\n",
    "Consiste em unir uma ou mais strings em uma única sequência de caracteres\n",
    "\n",
    "<code>>>> \"AB\" + \"C\"\n",
    "\\>>> \"K\" \\* 5\n",
    "\\>>> 'A' \\* 3 + 'B' \\* 2</code>\n",
    "\n",
    "[Home](#Pós-Graduação-em-Ciência-de-Dados-e-Big-Data-PUC-Minas-Uberlândia)"
   ]
  },
  {
   "cell_type": "code",
   "execution_count": null,
   "metadata": {
    "collapsed": true,
    "nbpresent": {
     "id": "619542f1-b635-4106-ac22-8bb04b0b19e6"
    }
   },
   "outputs": [],
   "source": [
    "\"AB\" + \"C\""
   ]
  },
  {
   "cell_type": "code",
   "execution_count": null,
   "metadata": {
    "collapsed": true,
    "nbpresent": {
     "id": "09d6c601-0e58-40f5-97c8-0615af9e83fd"
    }
   },
   "outputs": [],
   "source": [
    "5 * \"K\""
   ]
  },
  {
   "cell_type": "code",
   "execution_count": null,
   "metadata": {
    "collapsed": true,
    "nbpresent": {
     "id": "fbe36be5-b831-4937-99bc-3749f9a703fc"
    }
   },
   "outputs": [],
   "source": [
    "'A' * 3 + 'B' * 2"
   ]
  },
  {
   "cell_type": "markdown",
   "metadata": {
    "nbpresent": {
     "id": "f40737b0-db60-4d00-b066-a6a786f7189e"
    }
   },
   "source": [
    "**Composição**\n",
    "\n",
    "Compor uma string com dados ou variáveis fornece um grande poder em termos de mensagens, registro de logs, criação de interface com o usuário etc.\n",
    "\n",
    "Por exemplo:\n",
    "<code>\n",
    "\\>>> time = 'FC Barcelona'\n",
    "\\>>> títulos = 24\n",
    "\\>>> último = 2016</code>\n",
    "\n",
    "Vale muito a pena ler https://pyformat.info/\n",
    "\n",
    "\n",
    "[Home](#Pós-Graduação-em-Ciência-de-Dados-e-Big-Data-PUC-Minas-Uberlândia)"
   ]
  },
  {
   "cell_type": "code",
   "execution_count": null,
   "metadata": {
    "collapsed": true,
    "nbpresent": {
     "id": "86fbd5c3-be4b-440f-ab17-d4e1ec4f08ee"
    }
   },
   "outputs": [],
   "source": [
    "time = 'FC Barcelona'\n",
    "títulos = 24\n",
    "último = 2016"
   ]
  },
  {
   "cell_type": "markdown",
   "metadata": {
    "nbpresent": {
     "id": "7a61eae7-f315-43de-849c-bde5152f359d"
    }
   },
   "source": [
    "Se quisermos imprimir algo como 'O FC Barcelona tem 24 títulos espanhóis sendo o último em 2016' podemos fazer\n",
    "\n",
    "`>>> print('O', time, 'tem', títulos, 'títulos espanhóis sendo o último em', último)`"
   ]
  },
  {
   "cell_type": "code",
   "execution_count": null,
   "metadata": {
    "collapsed": true,
    "nbpresent": {
     "id": "f1ac005a-9ac4-4fa2-87da-14118b89bd77"
    }
   },
   "outputs": [],
   "source": [
    "print('O', time, 'tem', títulos, 'títulos espanhóis sendo o último em', último)"
   ]
  },
  {
   "cell_type": "markdown",
   "metadata": {
    "nbpresent": {
     "id": "f37b7d9a-ae0b-4700-b306-00d4550d438f"
    }
   },
   "source": [
    "Mas, de acordo com The Zen of Python, uma alternativa melhor é:<br>\n",
    "`>>> print('O %s tem %d títulos espanhóis sendo o último em %d' %(time, títulos, último))`"
   ]
  },
  {
   "cell_type": "code",
   "execution_count": null,
   "metadata": {
    "collapsed": true,
    "nbpresent": {
     "id": "fddfac39-f369-4891-aa3b-86404428324e"
    }
   },
   "outputs": [],
   "source": [
    "print('O %s tem %d títulos espanhóis sendo o último em %d' %(time, títulos, último))"
   ]
  },
  {
   "cell_type": "markdown",
   "metadata": {
    "nbpresent": {
     "id": "553a6b53-bddf-41ba-82ee-3c8706b76050"
    }
   },
   "source": [
    "E uma alternativa mais \"moderna\" e poderosa é<br>\n",
    "`>>> print(\"O {} tem {} títulos espanhóis sendo o último em {}\".format(time, títulos, último))`"
   ]
  },
  {
   "cell_type": "code",
   "execution_count": null,
   "metadata": {
    "collapsed": true,
    "nbpresent": {
     "id": "4c6c0599-8462-48b2-b92e-d7ec6d20d486"
    }
   },
   "outputs": [],
   "source": [
    "print(\"O {} tem {} títulos espanhóis sendo o último em {}\".format(time, títulos, último))"
   ]
  },
  {
   "cell_type": "markdown",
   "metadata": {
    "nbpresent": {
     "id": "badf1c70-428e-4e41-9d6a-1af1f8970885"
    }
   },
   "source": [
    "Poderosa por que?<br>\n",
    "`>>> print(\"O {:#^20} tem {:04} títulos espanhóis sendo o último em {}\".format(time, títulos, último))`"
   ]
  },
  {
   "cell_type": "code",
   "execution_count": null,
   "metadata": {
    "collapsed": true,
    "nbpresent": {
     "id": "ee90cf8f-6492-4d0d-8a25-df74c1749129"
    }
   },
   "outputs": [],
   "source": [
    "print(\"O {:#^20} tem {:04} títulos espanhóis sendo o último em {}\".format(time, títulos, último))"
   ]
  },
  {
   "cell_type": "markdown",
   "metadata": {
    "nbpresent": {
     "id": "40ba917b-b204-4d82-aa35-4d4db4a39eec"
    }
   },
   "source": [
    "No Python 3.6 temos as *format string* que podem ser escritas predecendo a string pela letra 'f'. Por exemplo\n",
    "`>>> print(f\"O {time} tem {títulos} títulos espanhóis sendo o último em {último}\")`"
   ]
  },
  {
   "cell_type": "code",
   "execution_count": null,
   "metadata": {
    "collapsed": true,
    "nbpresent": {
     "id": "ec044c96-b221-4dd9-b1f6-07f4d8d3b0f6"
    }
   },
   "outputs": [],
   "source": [
    "print(f\"O {time} tem {títulos} títulos espanhóis sendo o último em {último}\")"
   ]
  },
  {
   "cell_type": "markdown",
   "metadata": {
    "nbpresent": {
     "id": "28c8ad63-de4e-4f53-84e9-229091e1c967"
    }
   },
   "source": [
    "Ou ainda\n",
    "\n",
    "`>>> print(f\"O {time:#^20} tem {títulos:3} títulos espanhóis sendo o último em {último}\")`\n",
    "\n",
    "[Home](#Pós-Graduação-em-Ciência-de-Dados-e-Big-Data-PUC-Minas-Uberlândia)"
   ]
  },
  {
   "cell_type": "code",
   "execution_count": null,
   "metadata": {
    "collapsed": true,
    "nbpresent": {
     "id": "591bd287-d2a7-45e9-8458-9a3e8cb302af"
    }
   },
   "outputs": [],
   "source": [
    "print(f\"O {time:#^20} tem {títulos:3} títulos espanhóis sendo o último em {último}\")"
   ]
  },
  {
   "cell_type": "code",
   "execution_count": null,
   "metadata": {
    "collapsed": true,
    "nbpresent": {
     "id": "4068e254-3bef-47e6-9c3f-f8ae5b59cb10"
    }
   },
   "outputs": [],
   "source": [
    "time = 'FC Barcelona'\n",
    "títulos = 24\n",
    "último = 2016\n",
    "print('O', time, 'tem', títulos, 'títulos espanhóis sendo o último em', último)\n",
    "print('O %s tem %d títulos espanhóis sendo o último em %d' %(time, títulos, último))\n",
    "print(\"O {:*^19} tem {} títulos espanhóis sendo o último em {}\".format(time, títulos, último))\n",
    "print(\"O {:*^20} tem {:04} títulos espanhóis sendo o último em {}\".format(time, títulos, último))"
   ]
  },
  {
   "cell_type": "markdown",
   "metadata": {
    "nbpresent": {
     "id": "0760d137-d261-4846-8385-42be30c26b8b"
    }
   },
   "source": [
    "## Exercício 4.1\n",
    "\n",
    "Escreva um código que solicita ao usuário uma temperatura em °C e converte para °F apresentando a resposta no seguinte formato:\n",
    "\n",
    "32.0°C equivalem a 0089.600°F\n",
    "\n",
    "A fórmula para converter Celsius em Fahrenheit é\n",
    "\n",
    "$$F = \\frac {9 \\times C}{5} + 32$$\n",
    "\n",
    "[Home](#Pós-Graduação-em-Ciência-de-Dados-e-Big-Data-PUC-Minas-Uberlândia)"
   ]
  },
  {
   "cell_type": "code",
   "execution_count": 19,
   "metadata": {
    "nbpresent": {
     "id": "288c27a9-ae82-4c56-88af-52ea4d4068d2"
    }
   },
   "outputs": [
    {
     "name": "stdout",
     "output_type": "stream",
     "text": [
      "informe a temperatura em °C: 34,34\n",
      "34.34°C equivalem a 0093.200°F\n"
     ]
    }
   ],
   "source": [
    "temp_c = float(input(\"informe a temperatura em °C: \").replace(',','.'))\n",
    "temp_fire = ((9 * int(temp_c)) / 5) + 32\n",
    "\n",
    "print('{}°C equivalem a {:0^8}°F'.format(str(temp_c),str(temp_fire)))"
   ]
  },
  {
   "cell_type": "markdown",
   "metadata": {
    "nbpresent": {
     "id": "3d196bf1-3a45-40c4-ae14-5c44735a2c04"
    }
   },
   "source": [
    "## Exercício 4.2\n",
    "\n",
    "Escreva um código que leia do usuário um número de dias, horas, minutos e segundos. Calcule e imprima o total em segundos em um formato parecido com:\n",
    "\n",
    "\"D dias, H horas, M minutos e S segundos correspondem a SSS segundos\""
   ]
  },
  {
   "cell_type": "code",
   "execution_count": 89,
   "metadata": {
    "nbpresent": {
     "id": "57ac2d42-8a07-4c6b-beea-8d92f8c24f51"
    }
   },
   "outputs": [
    {
     "name": "stdout",
     "output_type": "stream",
     "text": [
      "Informe a quantidade de dias: 365\n",
      "Informe as Horas: 24\n",
      "Informe os Minutos: 60\n",
      "Informe os Segundos: 60\n",
      "365 dias, 24 horas, 60 minutos e  60 segundos correspondem a  31626060 segundos\n"
     ]
    }
   ],
   "source": [
    "dias = int(input('Informe a quantidade de dias: '))\n",
    "horas = int(input('Informe as Horas: '))\n",
    "minutos = int(input('Informe os Minutos: '))\n",
    "segundos = int(input('Informe os Segundos: '))\n",
    "SSS = ((dias * 86400) + (horas * 3600) + (minutos * 60)) + segundos\n",
    "print(dias, 'dias,', horas, 'horas,', minutos, 'minutos e ', segundos, 'segundos correspondem a ', SSS, 'segundos')"
   ]
  },
  {
   "cell_type": "markdown",
   "metadata": {
    "nbpresent": {
     "id": "4f8187bd-8193-4665-b1d3-bbfdd102b4e5"
    }
   },
   "source": [
    "## 5. Condicionais\n",
    "\n",
    "No [Exercício 3.2](#Exercício-3.2) identificamos simplesmente se um trabalhador pagaria impostos ou não com base em seu salário. Mas e se quiséssemos saber qual a alícota do Imposto de Renda retido na fonte que seria deduzida de sua remuneração com base no valor do salário?\n",
    "\n",
    "Vejamos a tabela do I.R. (A partir do mês de abril do ano-calendário de 2015:)\n",
    "\n",
    "<table>\n",
    "    <tr>\n",
    "        <td><strong>Base de cálculo (R\\$)<strong></td>\n",
    "        <td><strong>Alíquota (%)</strong></td>\n",
    "        <td><strong>Parcela a deduzir do IRPF (R$)</strong></td>\n",
    "    </tr>\n",
    "    <tr><td>Até 1.903,98</td><td>-</td><td>-</td></tr>\n",
    "    <tr><td>De 1.903,99 até 2.826,65</td><td>7,5</td><td>142,80</td></tr>\n",
    "    <tr><td>De 2.826,66 até 3.751,05</td><td>15</td><td>354,80</td></tr>\n",
    "    <tr><td>De 3.751,06 até 4.664,68</td><td>22,5</td><td>636,13</td></tr>\n",
    "    <tr><td>Acima de 4.664,68</td><td>27,5</td><td>869,36</td></tr>\n",
    "</table>\n",
    "\n",
    "Como interpretar essa tabela? **Se** o salário for menor ou igual a R\\$ 1.903,98 o trabalhador não recolhe IR na fonte. **Se** o salário do mês for de R\\$ 1.903,99 a R\\$ 2.826,65 a alíquota é de 7,5%. **Se** for de R\\$ 2.826,66 até R\\$ 3.751,05 a alíquota é 15% e assim por diante...\n",
    "\n",
    "Em Python, sempre que temos situações onde se uma coisa acontecer faça algo, usamos a instrução **`if`**. \n",
    "\n",
    "A sintaxe é<br>\n",
    "<code>\n",
    "**if** &lt;uma coisa acontecer&gt;**:**\n",
    "    algo\n",
    "</code>\n",
    "<br>\n",
    "\n",
    "<div style=\"background-color:gray;color:white;padding:20px;\">\n",
    "<h3><strong>Lembrete</strong></h3>\n",
    "Em Python os diferentes blocos de execução **PRECISAM** ser identados (recuados). É assim que a linguagem sabe se um trecho de código está dentro ou fora do **`if`**. Outro ponto importante é indicar com dois pontos **`:`** onde o bloco **`if`** começa. \n",
    "</div>\n",
    "\n",
    "Vejamos o código que representa a tabela do Imposto de Renda acima\n",
    "\n",
    "[Home](#Pós-Graduação-em-Ciência-de-Dados-e-Big-Data-PUC-Minas-Uberlândia)"
   ]
  },
  {
   "cell_type": "code",
   "execution_count": null,
   "metadata": {
    "collapsed": true,
    "nbpresent": {
     "id": "92d29a4a-2f27-41e8-a3e9-7873f6d2ef0d"
    }
   },
   "outputs": [],
   "source": [
    "salário = float(input('Entre com o salário mensal: '))\n",
    "\n",
    "if salário <= 1903.98:\n",
    "    alíquota = 0\n",
    "if salário >= 1903.99 and salário <= 2826.65:\n",
    "    alíquota = 7.5\n",
    "if salário >= 2826.66 and salário <= 3751.05:\n",
    "    alíquota = 15\n",
    "if salário >= 3571.06 and salário <= 4664.68:\n",
    "    alíquota = 22.5\n",
    "if salário > 4664.68:\n",
    "    alíquota = 27.5\n",
    "print(\"Para um salário de {} a alíquota de IRRF é {}%\".format(salário, alíquota))"
   ]
  },
  {
   "cell_type": "markdown",
   "metadata": {
    "nbpresent": {
     "id": "01e648d6-213c-485b-b673-e628218f1598"
    }
   },
   "source": [
    "# 5.1. Se-Senão\n",
    "\n",
    "A tabela do IR acima pode ser simplificada como\n",
    "\n",
    "Se o salário é menor ou igual a 1903,98 então a alíquota é zero; senão, se é menor ou igual a 2826,65 então a alíquota é 7,5%; senão, se o salário é menor ou igual a 3751,05 então a alíquota é 15% .......\n",
    "\n",
    "Ou seja, em um caso mais simples (se uma coisa acontecer faça algo senão faça outra coisa):\n",
    "\n",
    "<code>\n",
    "**if** &lt;uma coisa acontecer&gt;**:**\n",
    "    algo\n",
    "**else:**\n",
    "    outra coisa\n",
    "</code>\n",
    "\n",
    "Pra complicar um pouquinho mais\n",
    "\n",
    "Se uma coisa acontecer<br>\n",
    "&nbsp;&nbsp;&nbsp;&nbsp;Faça algo<br>\n",
    "Senão, se outra condição acontecer<br>\n",
    "&nbsp;&nbsp;&nbsp;&nbsp;Faça outra coisa<br>\n",
    "Senão<br>\n",
    "&nbsp;&nbsp;&nbsp;&nbsp;Faça uma terceira coisa\n",
    "\n",
    "<code>\n",
    "**if** &lt;uma coisa acontecer&gt;**:**\n",
    "    algo\n",
    "**elif** &lt;outra condição acontecer&gt;**:**\n",
    "    outra coisa\n",
    "**else:**\n",
    "    uma terceira coisa  \n",
    "</code>\n",
    "\n",
    "[Home](#Pós-Graduação-em-Ciência-de-Dados-e-Big-Data-PUC-Minas-Uberlândia)"
   ]
  },
  {
   "cell_type": "code",
   "execution_count": null,
   "metadata": {
    "collapsed": true,
    "nbpresent": {
     "id": "c416fad6-5e5e-487d-8267-9f3cc3467b33"
    }
   },
   "outputs": [],
   "source": [
    "salário = float(input('Entre com o salário mensal: '))\n",
    "\n",
    "if salário <= 1903.98:\n",
    "    alíquota = 0\n",
    "elif salário <= 2826.65:\n",
    "    alíquota = 7.5\n",
    "elif salário <= 3751.05:\n",
    "    alíquota = 15\n",
    "elif salário <= 4664.68:\n",
    "    alíquota = 22.5\n",
    "else:\n",
    "    alíquota = 27.5\n",
    "print(\"Para um salário de {} a alíquota de IRRF é {}%\".format(salário, alíquota))"
   ]
  },
  {
   "cell_type": "markdown",
   "metadata": {
    "nbpresent": {
     "id": "a88de165-474e-465d-a09d-2022bdf19911"
    }
   },
   "source": [
    "Outra forma seria"
   ]
  },
  {
   "cell_type": "code",
   "execution_count": null,
   "metadata": {
    "collapsed": true,
    "nbpresent": {
     "id": "e7fc6c23-47eb-4335-8feb-639da9fb65d1"
    }
   },
   "outputs": [],
   "source": [
    "salário = float(input('Entre com o salário mensal: '))\n",
    "\n",
    "if salário > 4664.68:\n",
    "    alíquota = 27.5\n",
    "elif salário >= 3751.06:\n",
    "    alíquota = 22.5\n",
    "elif salário >= 2826.66:\n",
    "    alíquota = 15\n",
    "elif salário >= 1903.99:\n",
    "    alíquota = 7.5\n",
    "else:\n",
    "    alíquota = 0\n",
    "\n",
    "print(\"Para um salário de {} a alíquota de IRRF é {}%\".format(salário, alíquota))"
   ]
  },
  {
   "cell_type": "markdown",
   "metadata": {
    "nbpresent": {
     "id": "9c55c0d5-78af-4bfc-aa61-8725d6d4e156"
    }
   },
   "source": [
    "## Exercício 5.1\n",
    "\n",
    "Escreva um código que pergunte a velocidade do carro de um usuário. Caso ultrapasse 80 km/h exiba uma mensagem dizendo que o usuário foi multado. Nesse caso exiba o valor da multa cobrando R$ 5,00 por km/h acima de 80 km/h"
   ]
  },
  {
   "cell_type": "code",
   "execution_count": 112,
   "metadata": {
    "nbpresent": {
     "id": "5e3c23dd-e13d-4b8e-a63a-7e01e2bab5fb"
    }
   },
   "outputs": [
    {
     "name": "stdout",
     "output_type": "stream",
     "text": [
      "Informe a velocidade do Veiculo: 80,0000000009\n"
     ]
    }
   ],
   "source": [
    "velocidade = float(str(input('Informe a velocidade do Veiculo: ')).replace(',','.'))\n",
    "#força ser duas casas decimais caso o valor seja ex 80,0000000009 o resultado e 4.5000092541158665e-09\n",
    "velocidade = float('%.2f'%(velocidade))\n",
    "if velocidade > 80:\n",
    "    multa = (velocidade - 80) * 5    \n",
    "    print('Seu veiculo foi multado! a multa e no valor de R$:', multa)\n"
   ]
  },
  {
   "cell_type": "markdown",
   "metadata": {
    "nbpresent": {
     "id": "82a62851-9fa5-41ca-aaf2-1b8fc652a53b"
    }
   },
   "source": [
    "## Exercício 5.2\n",
    "\n",
    "Escreva o código que peça ao usuário um valor de salário e calcule o quanto de imposto em Reais será retido na fonte."
   ]
  },
  {
   "cell_type": "code",
   "execution_count": 130,
   "metadata": {
    "collapsed": true
   },
   "outputs": [],
   "source": [
    "def get_aliquota(salário):   \n",
    "    if salário <= 1903.98:\n",
    "        alíquota = 0\n",
    "    elif salário <= 2826.65:\n",
    "        alíquota = 7.5\n",
    "    elif salário <= 3751.05:\n",
    "        alíquota = 15\n",
    "    elif salário <= 4664.68:\n",
    "        alíquota = 22.5\n",
    "    else:\n",
    "        alíquota = 27.5\n",
    "    return alíquota"
   ]
  },
  {
   "cell_type": "code",
   "execution_count": 135,
   "metadata": {},
   "outputs": [
    {
     "name": "stdout",
     "output_type": "stream",
     "text": [
      "Informe o salário: R$ 2404,40\n",
      "O valor do imposto de Renda retido na fonte para o salário R$ 2404.4 é de R$ 180.33\n"
     ]
    }
   ],
   "source": [
    "salário = float(str(input('Informe o salário: R$ ')).replace(',','.'))\n",
    "aliquota = get_aliquota(salário)\n",
    "if aliquota > 0:\n",
    "    irrf = (salário * aliquota) / 100\n",
    "else:\n",
    "    irrf = 0\n",
    "print('O valor do imposto de Renda retido na fonte para o salário R$', salário, 'é de R$', float('%.2f'%(irrf)))"
   ]
  },
  {
   "cell_type": "markdown",
   "metadata": {
    "nbpresent": {
     "id": "6c885429-1ec4-4f89-ad9b-d12d10373f1d"
    }
   },
   "source": [
    "## Exercício 5.3\n",
    "\n",
    "Escreva um código para aprovar o empréstimo bancário para compra de uma casa. O programa deve perguntar o valor da casa a comprar, o salário e a quantidade de anos a pagar. Calcule o valor da prestação como sendo o valor da casa a comprar dividido pelo número de meses a pagar. O valor da prestação não pode ser superior a 30% do salário."
   ]
  },
  {
   "cell_type": "code",
   "execution_count": 23,
   "metadata": {
    "nbpresent": {
     "id": "84ddd5d2-ebc9-4f59-9fe0-23347ed8e05e"
    }
   },
   "outputs": [
    {
     "name": "stdout",
     "output_type": "stream",
     "text": [
      "Informe o valor do Imóvel R$ 10000\n",
      "Informe o salário R$ 3000\n",
      "Qtd de parcelas (ano): 30\n",
      "\n",
      "Simulação do Empréstimo:\n",
      "------------------------\n",
      "Imóvel: R$ 10000.0\n",
      "Salário: R$ 3000.0\n",
      "Qtd parcelas: 360\n",
      "Valor prestação: R$ 27.78\n"
     ]
    }
   ],
   "source": [
    "v_imovel = float(str(input('Informe o valor do Imóvel R$ ')).replace(',','.'))\n",
    "v_salario = float(str(input('Informe o salário R$ ')).replace(',','.'))\n",
    "v_parcelas = int(str(input('Qtd de parcelas (ano): ')).replace(',','.'))\n",
    "v_parcelas = v_parcelas * 12\n",
    "v_prestacao = v_imovel / v_parcelas\n",
    "v_max_parcela = 30 / 100.0 * v_salario\n",
    "print()\n",
    "\n",
    "if v_prestacao > v_max_parcela:\n",
    "    print('O valor da parcela ultrapassou o valor maximo do salario')\n",
    "    print('Verifique os valores novamente!')\n",
    "else:\n",
    "    print('Simulação do Empréstimo:')\n",
    "    print('------------------------')\n",
    "    print('Imóvel: R$', v_imovel)\n",
    "    print('Salário: R$', v_salario)\n",
    "    print('Qtd parcelas:', v_parcelas)\n",
    "    print('Valor prestação: R$', float('%.2f'%(v_prestacao)))\n"
   ]
  },
  {
   "cell_type": "markdown",
   "metadata": {
    "nbpresent": {
     "id": "354b2ab0-c7f1-430e-a1db-d21c925c69bb"
    }
   },
   "source": [
    "## Exercício 5.4\n",
    "\n",
    "Escreva um código que calcule o preço a pagar pelo fornecimento de energia elétrica. Pergunte a quantidade de kWh consumida e o tipo de instalação: R para residências, I para indústrias e C para comércio. Calcule o preço a pagar de acordo com a tabela a seguir:\n",
    "\n",
    "<table>\n",
    "<tr><td colspan=\"3\", style=\"text-align:center\">**Preço por tipo e faixa de consumo**</td></tr>\n",
    "<tr><td>Tipo</td><td>Faixa (kWh)</td><td>Preço (R\\$)</td></tr>\n",
    "<tr><td rowspan=\"2\">Residencial</td><td>Até 500</td><td>0.40</td></tr>\n",
    "<tr><td>Acima de 500</td><td> 0.65</td></tr>\n",
    "<tr><td rowspan=\"2\">Comercial</td><td>Até 1000</td><td>0.55</td></tr>\n",
    "<tr><td>Acima de 1000</td><td> 0.60</td></tr>\n",
    "<tr><td rowspan=\"2\">Industrial</td><td>Até 5000</td><td>0.55</td></tr>\n",
    "<tr><td>Acima de 5000</td><td> 0.60</td></tr>\n",
    "</table>"
   ]
  },
  {
   "cell_type": "code",
   "execution_count": 33,
   "metadata": {
    "collapsed": true,
    "nbpresent": {
     "id": "fd687fc5-cf9b-4806-bdc3-57e9d12cff4d"
    }
   },
   "outputs": [],
   "source": [
    "def get_faixa(tipo, kWh):        \n",
    "    if tipo == 'R':\n",
    "        if kWh <= 500:\n",
    "            v_kWh = 0.40\n",
    "        else:\n",
    "            v_kWh = 0.65\n",
    "    elif tipo == 'C':\n",
    "        if kWh <= 1000:\n",
    "            v_kWh = 0.55\n",
    "        else:\n",
    "            v_kWh = 0.60\n",
    "    elif tipo == 'I':\n",
    "        if kWh <= 5000:\n",
    "            v_kWh = 0.55\n",
    "        else:\n",
    "            v_kWh = 0.60\n",
    "    else:\n",
    "        v_kWh = 0\n",
    "    \n",
    "    return v_kWh"
   ]
  },
  {
   "cell_type": "code",
   "execution_count": 35,
   "metadata": {},
   "outputs": [
    {
     "name": "stdout",
     "output_type": "stream",
     "text": [
      "Informe a quantidade de kWh consumido: 1500\n",
      "Informe o tipo do Imóvel (R - Residencial, C - Comercio, I - Industria):r\n",
      "O Consumo realizado foi de: 975.0\n"
     ]
    }
   ],
   "source": [
    "kWh = float(str(input('Informe a quantidade de kWh consumido: ')).replace(',','.'))\n",
    "tipo = input('Informe o tipo do Imóvel (R - Residencial, C - Comercio, I - Industria):').upper()\n",
    "v_preco = get_faixa(tipo, kWh)\n",
    "v_consumo = v_preco * kWh\n",
    "print('O Consumo realizado foi de:', v_consumo)"
   ]
  },
  {
   "cell_type": "markdown",
   "metadata": {
    "nbpresent": {
     "id": "f6256d76-9836-4e52-8473-c4dbf804705d"
    }
   },
   "source": [
    "# 6. Repetições\n",
    "\n",
    "Repetições são a base de vários programas. Elas permitem em poucas linhas de código executar várias atividades repetidamente. Por exemplo, para imprimir os números de 1 a 3 poderíamos fazer<br>\n",
    "<code>\n",
    "print(1)\n",
    "print(2)\n",
    "print(3)\n",
    "</code>\n",
    "\n",
    "ou ainda<br>\n",
    "<code>\n",
    "x = 1\n",
    "print(x)\n",
    "x = 2\n",
    "print(x)\n",
    "x = 3\n",
    "print(x)\n",
    "</code>\n",
    "\n",
    "Mas usando repetições e contadores tudo pode ficar mais fácil!\n",
    "\n",
    "## 6.1. O comando while\n",
    "\n",
    "O comando while repete seu bloco de código enquanto uma condição for verdadeira.<br>\n",
    "<code>\n",
    "**while** &lt;condição&gt;**:**\n",
    "    algo\n",
    "</code>\n",
    "\n",
    "Imprimir os números de 1 a 3 como acima usando o `while` é simples...\n",
    "\n",
    "[Home](#Pós-Graduação-em-Ciência-de-Dados-e-Big-Data-PUC-Minas-Uberlândia)"
   ]
  },
  {
   "cell_type": "code",
   "execution_count": null,
   "metadata": {
    "collapsed": true,
    "nbpresent": {
     "id": "ce9d36ed-d2a0-4581-833f-bf25b6047299"
    }
   },
   "outputs": [],
   "source": [
    "x = 1\n",
    "while x <= 3:\n",
    "    print(x)\n",
    "    x += 1 # O que equivale a x = x + 1"
   ]
  },
  {
   "cell_type": "markdown",
   "metadata": {
    "nbpresent": {
     "id": "ef3bd929-a8f7-45c4-b124-459c25016885"
    }
   },
   "source": [
    "## Exercício 6.1\n",
    "\n",
    "Faça um loop imprimindo os números pares menores que 10"
   ]
  },
  {
   "cell_type": "code",
   "execution_count": 7,
   "metadata": {
    "nbpresent": {
     "id": "df418a6a-15ff-45a9-a89e-afc6adde5220"
    }
   },
   "outputs": [
    {
     "name": "stdout",
     "output_type": "stream",
     "text": [
      "2\n",
      "4\n",
      "6\n",
      "8\n",
      "10\n"
     ]
    }
   ],
   "source": [
    "x = 1\n",
    "while x <= 10:\n",
    "    mod = x % 2\n",
    "    if mod == 0:\n",
    "        print(x)\n",
    "    x += 1"
   ]
  },
  {
   "cell_type": "markdown",
   "metadata": {
    "nbpresent": {
     "id": "43734d7a-33d2-4553-8c69-7684e0d759a7"
    }
   },
   "source": [
    "## Exercício 6.2\n",
    "\n",
    "Faça um loop para imprimir os múltiplos de 3 menores que um número digitado pelo usuário"
   ]
  },
  {
   "cell_type": "code",
   "execution_count": 20,
   "metadata": {
    "nbpresent": {
     "id": "001b2596-929f-4b7b-8e02-33cb7e8c2d8c"
    }
   },
   "outputs": [
    {
     "name": "stdout",
     "output_type": "stream",
     "text": [
      "Informe um numero: 7\n",
      "3\n",
      "6\n"
     ]
    }
   ],
   "source": [
    "num_usuario = int(input('Informe um numero: '))\n",
    "x = 1\n",
    "while x < num_usuario:\n",
    "    mod = x % 3\n",
    "    if mod == 0:\n",
    "        print(x)\n",
    "    x += 1"
   ]
  },
  {
   "cell_type": "markdown",
   "metadata": {
    "nbpresent": {
     "id": "f794ab1c-3048-404e-9ba5-a0d9142c28fb"
    }
   },
   "source": [
    "## Exercício 6.3\n",
    "Peça para o usuário digitar um número de 1 a 10 e imprima a tabuada desse número no formato<br>\n",
    "1 &times; N = N<br>\n",
    "2 &times; N = ..."
   ]
  },
  {
   "cell_type": "code",
   "execution_count": 39,
   "metadata": {
    "nbpresent": {
     "id": "0c1913a3-3d9c-45e0-a1f0-10af11104af3"
    }
   },
   "outputs": [
    {
     "name": "stdout",
     "output_type": "stream",
     "text": [
      "Informe um numero de 1 a 10: 9\n",
      "1 x 9 = 9\n",
      "2 x 9 = 18\n",
      "3 x 9 = 27\n",
      "4 x 9 = 36\n",
      "5 x 9 = 45\n",
      "6 x 9 = 54\n",
      "7 x 9 = 63\n",
      "8 x 9 = 72\n",
      "9 x 9 = 81\n",
      "10 x 9 = 90\n"
     ]
    }
   ],
   "source": [
    "num_usuario = int(input('Informe um numero de 1 a 10: '))\n",
    "x = 1\n",
    "if num_usuario == 0:\n",
    "    print('Informe um numero de 1 a 10')\n",
    "elif num_usuario > 10:\n",
    "    print('Informe um numero de 1 a 10')\n",
    "else:\n",
    "    while x <= 10 :\n",
    "        print(x, 'x', num_usuario, '=', (x * num_usuario))\n",
    "        x += 1"
   ]
  },
  {
   "cell_type": "markdown",
   "metadata": {
    "nbpresent": {
     "id": "4dca24b4-955a-4bc1-863e-8c829ad8f716"
    }
   },
   "source": [
    "## Exercício 6.4\n",
    "Escreva um programa que leia dois números. Imprima o resultado da multiplicação do primeiro pelo segundo. Utilize apenas os operadores de soma para calcular o resultado. Lembre-se que podemos enteder a multiplicação de dois números como somas sucessivas de um deles. Assim, 4 &times; 5 = 5 + 5 + 5 + 5 = 4 + 4 + 4 + 4 + 4"
   ]
  },
  {
   "cell_type": "code",
   "execution_count": 40,
   "metadata": {
    "nbpresent": {
     "id": "f5c98902-e2fb-4e7a-b275-8f1a7070c002"
    }
   },
   "outputs": [
    {
     "name": "stdout",
     "output_type": "stream",
     "text": [
      "Informe um numero: 2\n",
      "Informe outro numero: 3\n",
      "6\n"
     ]
    }
   ],
   "source": [
    "valor_a = int(input('Informe um numero: '))\n",
    "valor_b = int(input('Informe outro numero: '))\n",
    "cont = 1\n",
    "resultado = 0\n",
    "while cont <= valor_b:\n",
    "    resultado = resultado + valor_a\n",
    "    cont += 1\n",
    "    \n",
    "print(resultado)"
   ]
  },
  {
   "cell_type": "markdown",
   "metadata": {
    "nbpresent": {
     "id": "e8019627-09d1-4084-9de4-2d60b68e55a9"
    }
   },
   "source": [
    "## Exercício 6.5\n",
    "Escreva um código que leia dois números. Imprima a divisão inteira do primeiro pelo segundo, assim como o resto da divisão. Utilize apenas  os operadores de soma e subtração para calcular o resultado. Lembre-se de que podemos entender o quociente da divisão de dois números como a quantidade de vezes que podemos retirar o divisor do dividendo. Logo, 20 &divide; 4 = 5 , uma vez aue podemos subtrair 4 cinco vezes de 20."
   ]
  },
  {
   "cell_type": "code",
   "execution_count": 3,
   "metadata": {},
   "outputs": [
    {
     "name": "stdout",
     "output_type": "stream",
     "text": [
      "Calculo de a / b\n",
      "Informe a: 3\n",
      "Informe b: 2\n",
      "3/2 = 1 e sobra 1 de resto\n"
     ]
    }
   ],
   "source": [
    "print('Calculo de a / b')\n",
    "\n",
    "a = int(input('Informe a: '))\n",
    "b = int(input('Informe b: '))\n",
    "\n",
    "x = b\n",
    "resultado = 0\n",
    "resto = a\n",
    "\n",
    "while resto >= b:\n",
    "    resto -= b    \n",
    "    resultado += 1\n",
    "\n",
    "print(f'{a}/{b} = {resultado} e sobra {resto} de resto')\n"
   ]
  },
  {
   "cell_type": "markdown",
   "metadata": {
    "nbpresent": {
     "id": "9a978aee-0275-4c32-a555-2e0b71c7fa6c"
    }
   },
   "source": [
    "## Exercício 6.6\n",
    "\n",
    "Faça um código que some todos os números digitados pelo usuário. Pare de somar quando ele digitar 0\n",
    "\n",
    "*Dica: `while True` é o que chamamos de *loop *infinito. Para sair de um é necessário utilizar o comando `break`*"
   ]
  },
  {
   "cell_type": "code",
   "execution_count": 5,
   "metadata": {
    "nbpresent": {
     "id": "4f3ba07c-26db-471f-909b-55d6603e314c"
    }
   },
   "outputs": [
    {
     "name": "stdout",
     "output_type": "stream",
     "text": [
      "Informe um numero: 2\n",
      "Informe um numero: 3\n",
      "Informe um numero: 4\n",
      "Informe um numero: 5\n",
      "Informe um numero: 6\n",
      "Informe um numero: 0\n",
      "Resultado:  20\n"
     ]
    }
   ],
   "source": [
    "resultado = 0\n",
    "while True:\n",
    "    num_usuario = int(input('Informe um numero: '))\n",
    "    resultado = resultado + num_usuario\n",
    "    if num_usuario == 0:\n",
    "        break\n",
    "print('Resultado: ', resultado)"
   ]
  },
  {
   "cell_type": "markdown",
   "metadata": {
    "nbpresent": {
     "id": "30f4c40b-1353-4839-a727-6355d93ec491"
    }
   },
   "source": [
    "## Exercício 6.7\n",
    "\n",
    "Faça um código que tire a média dos números digitados pelo usuário até que ele digite 0"
   ]
  },
  {
   "cell_type": "code",
   "execution_count": 7,
   "metadata": {
    "nbpresent": {
     "id": "8bd3984f-edd4-4086-8bfc-902a867a7f25"
    }
   },
   "outputs": [
    {
     "name": "stdout",
     "output_type": "stream",
     "text": [
      "Informe um numero: 2\n",
      "Informe um numero: 2\n",
      "Informe um numero: 3\n",
      "Informe um numero: 4\n",
      "Informe um numero: 0\n",
      "Media:  2.75\n"
     ]
    }
   ],
   "source": [
    "cont = 0\n",
    "somatoria = 0\n",
    "while True:\n",
    "    num_usuario = int(input('Informe um numero: '))  \n",
    "    somatoria = somatoria + num_usuario\n",
    "    if num_usuario == 0:\n",
    "        break\n",
    "    else:\n",
    "        cont += 1\n",
    "if cont > 0:\n",
    "    print('Media:', somatoria / cont)"
   ]
  },
  {
   "cell_type": "markdown",
   "metadata": {
    "nbpresent": {
     "id": "e077a128-6fe8-47dd-9e03-47f321b84b9e"
    }
   },
   "source": [
    "## Exercício 6.8\n",
    "Escreva um código que verifique se um número é palíndromo. Um número é palíndromo se continua o mesmo caso seus dígitos sejam invertidos. Exemplos 454, 10422401"
   ]
  },
  {
   "cell_type": "code",
   "execution_count": 9,
   "metadata": {},
   "outputs": [
    {
     "name": "stdout",
     "output_type": "stream",
     "text": [
      "Informe o numero: 12321\n",
      "É Palindromo!\n"
     ]
    }
   ],
   "source": [
    "numero = input('Informe o numero: ')\n",
    "x = 0\n",
    "y = len(numero) - 1\n",
    "palindromo = True\n",
    "\n",
    "while x <= y:\n",
    "    if numero[x] != numero[y]:\n",
    "        print('Não e Palindromo!')\n",
    "        palindromo = False\n",
    "        break\n",
    "    x += 1\n",
    "    y -= 1\n",
    "if palindromo:\n",
    "    print('É Palindromo!')"
   ]
  },
  {
   "cell_type": "markdown",
   "metadata": {
    "nbpresent": {
     "id": "605c66d9-de4a-40d3-8f06-cb31b8273a4c"
    }
   },
   "source": [
    "## 6.2. for i in range\n",
    "\n",
    "Outra forma de fazer repetições é utilizar o *loop* **`for`**"
   ]
  },
  {
   "cell_type": "code",
   "execution_count": 28,
   "metadata": {
    "nbpresent": {
     "id": "22ca6ffe-ce43-4cf7-a04c-870304266998"
    }
   },
   "outputs": [
    {
     "name": "stdout",
     "output_type": "stream",
     "text": [
      "0\n",
      "1\n",
      "2\n",
      "3\n"
     ]
    }
   ],
   "source": [
    "for i in range(4):\n",
    "    print(i)"
   ]
  },
  {
   "cell_type": "markdown",
   "metadata": {
    "nbpresent": {
     "id": "71e63853-938c-44aa-b7e2-37977429b36d"
    }
   },
   "source": [
    "O código acima significa\n",
    "\n",
    "<code>para cada i na faixa de números que vai até 4\n",
    "    imprima i</code>\n",
    "\n",
    "Você pode \"brincar\" um pouco com a função **`range`**. Por exemplo **`range(10, 20, 2)`** retorna todos os números de 10 a **19** de dois em dois. **`range(20, 0, -1)`** gera números decrescentes de 20 a 1.\n",
    "\n",
    "A palavra reservada **`in`** também serve para verificar se um objeto se encontra em uma coleção. Por exemplo"
   ]
  },
  {
   "cell_type": "code",
   "execution_count": null,
   "metadata": {
    "collapsed": true,
    "nbpresent": {
     "id": "cb6b722b-2918-4363-b9e6-2d33ee0dfb45"
    }
   },
   "outputs": [],
   "source": [
    "\"a\" in \"Data Science\""
   ]
  },
  {
   "cell_type": "code",
   "execution_count": null,
   "metadata": {
    "collapsed": true,
    "nbpresent": {
     "id": "9c25ea5c-abba-478d-85de-87d2b3885343"
    }
   },
   "outputs": [],
   "source": [
    "\"A\" in \"Data Science\""
   ]
  },
  {
   "cell_type": "markdown",
   "metadata": {
    "nbpresent": {
     "id": "c354010a-5ce5-403a-b9a2-d25a951d8520"
    }
   },
   "source": [
    "[Home](#Pós-Graduação-em-Ciência-de-Dados-e-Big-Data-PUC-Minas-Uberlândia)\n",
    "# 7. Tipos específicos de dados\n",
    "\n",
    "https://docs.python.org/3/tutorial/datastructures.html\n",
    "\n",
    "Trabalhar apenas com números e strings é muito limitante. Se quisermos armazenar uma coleção de números, com tudo o que aprendemos até aqui teremos que armazenar cada número em uma variável diferente!\n",
    "\n",
    "Python resolve esse problema com outros tipos de dados que permitem armazenar vários valores em um conjunto. Esses tipos são:\n",
    "* Listas: `[] (list)`\n",
    "* Dicionários: `{} (dict)`\n",
    "* Tuplas: `() (tuple)`\n",
    "* Conjuntos: `{} (set)`\n",
    "\n",
    "[Home](#Pós-Graduação-em-Ciência-de-Dados-e-Big-Data-PUC-Minas-Uberlândia)\n",
    "## 7.1. Listas\n",
    "\n",
    "Listas são o tipo de dados mais utilizados em Python para armazenar vários dados em um único objeto."
   ]
  },
  {
   "cell_type": "code",
   "execution_count": null,
   "metadata": {
    "collapsed": true,
    "nbpresent": {
     "id": "39f35980-2fac-462e-86d7-32101c4c3865"
    }
   },
   "outputs": [],
   "source": [
    "# Uma lista vazia\n",
    "L = []\n",
    "print(L)\n",
    "# Uma lista com três elementos\n",
    "Z = [1, 4.0, \"a\"]\n",
    "print(Z)\n",
    "# Uma lista de listas\n",
    "LL = [[1, 2, 3],\n",
    "      [4, 5, 6],\n",
    "      [7, 8, 9]]\n",
    "# Ou LL = [[1, 2, 3], [4, 5, 6], [7, 8, 9]]\n",
    "print(LL)"
   ]
  },
  {
   "cell_type": "markdown",
   "metadata": {
    "nbpresent": {
     "id": "218b32a5-4444-4816-ad31-8d38b7388882"
    }
   },
   "source": [
    "Acessamos os elementos de uma lista da mesma forma que em uma string"
   ]
  },
  {
   "cell_type": "code",
   "execution_count": null,
   "metadata": {
    "collapsed": true,
    "nbpresent": {
     "id": "58194736-766e-4626-9814-864fa89ee5d9"
    }
   },
   "outputs": [],
   "source": [
    "print(\"Tamanho de L:\", len(L))\n",
    "print(\"Tamanho de Z:\", len(Z))\n",
    "print(\"Primeiro elemento de Z:\", Z[0])\n",
    "print(\"Último elemento de Z:\", Z[-1])\n",
    "print(\"Z do segundo elemento até o final:\", Z[1:])\n",
    "print(\"Tamanho de LL:\", len(LL))\n",
    "print(\"Segundo elemento de LL:\", LL[1])\n",
    "print(\"Terceiro elemento do segundo elemento de LL:\", LL[1][2])"
   ]
  },
  {
   "cell_type": "code",
   "execution_count": null,
   "metadata": {
    "collapsed": true,
    "nbpresent": {
     "id": "d1072132-4601-4fbc-bf48-dc7b7119b6e6"
    }
   },
   "outputs": [],
   "source": [
    "# Inserindo elementos em uma lista\n",
    "L.append(2)\n",
    "L.append(3)\n",
    "L.append([4, 5, 6])\n",
    "print(L)\n",
    "# Removendo elementos da lista\n",
    "del L[-1]\n",
    "print(L)\n",
    "# Concatenando duas listas\n",
    "L += [4, 5, 6]\n",
    "print(L)\n",
    "# Ou então\n",
    "L.extend([7, 8, 9])\n",
    "print(L)"
   ]
  },
  {
   "cell_type": "markdown",
   "metadata": {
    "nbpresent": {
     "id": "a25d02c1-b19f-4ec3-ae8b-d40897cc12f2"
    }
   },
   "source": [
    "**Percorrendo os elementos de uma lista**\n",
    "\n",
    "[Home](#Pós-Graduação-em-Ciência-de-Dados-e-Big-Data-PUC-Minas-Uberlândia)"
   ]
  },
  {
   "cell_type": "code",
   "execution_count": null,
   "metadata": {
    "collapsed": true,
    "nbpresent": {
     "id": "66d60b5f-1970-4a67-b8a9-097f9931ffb6"
    }
   },
   "outputs": [],
   "source": [
    "# Imprimindo todos os elementos\n",
    "L = [2, 4, 1, 5, 6, 8, 1, 0, 9]\n",
    "\n",
    "x = 0\n",
    "while x < len(L):\n",
    "    print(L[x])\n",
    "    x += 1"
   ]
  },
  {
   "cell_type": "code",
   "execution_count": null,
   "metadata": {
    "collapsed": true,
    "nbpresent": {
     "id": "ca65b98d-cf03-4c58-b39f-bde6466a4f2c"
    }
   },
   "outputs": [],
   "source": [
    "# Um jeito mais pythônico\n",
    "for x in L:\n",
    "    print(x)"
   ]
  },
  {
   "cell_type": "code",
   "execution_count": null,
   "metadata": {
    "collapsed": true,
    "nbpresent": {
     "id": "0b00f327-58e6-432f-855b-bd5d435e11a0"
    }
   },
   "outputs": [],
   "source": [
    "# Imprimindo os elementos e seus índices\n",
    "\n",
    "x = 0\n",
    "while x < len(L):\n",
    "    print(\"L[{}]: {}\".format(x, L[x]))\n",
    "    x += 1"
   ]
  },
  {
   "cell_type": "code",
   "execution_count": null,
   "metadata": {
    "collapsed": true,
    "nbpresent": {
     "id": "b9d6e6e3-bc92-4729-a8fa-d2e2218e69e8"
    }
   },
   "outputs": [],
   "source": [
    "# Outra forma\n",
    "for i in range(len(L)):\n",
    "    print(\"L[{}]: {}\".format(i, L[i]))"
   ]
  },
  {
   "cell_type": "code",
   "execution_count": null,
   "metadata": {
    "collapsed": true,
    "nbpresent": {
     "id": "07501229-d56a-4af5-bc88-2240b9a3317a"
    }
   },
   "outputs": [],
   "source": [
    "# Um jeito mais pythônico\n",
    "for i, v in enumerate(L):\n",
    "    print(\"L[{}]: {}\".format(i, v))"
   ]
  },
  {
   "cell_type": "markdown",
   "metadata": {
    "nbpresent": {
     "id": "9c1dcd39-82a0-4c3d-bb07-7c4773c3973d"
    }
   },
   "source": [
    "\n",
    "<div style=\"background-color:#cc0000;color:white;padding:20px;\">\n",
    "<h3><strong>Cuidado com a maldição das listas!</strong></h3>\n",
    "Lembram-se de quando falamos das variáveis? Que em Python um \"balde\" pode ter dois nomes ou mais? Então... \n",
    "</div>\n",
    "\n",
    "[Home](#Pós-Graduação-em-Ciência-de-Dados-e-Big-Data-PUC-Minas-Uberlândia)"
   ]
  },
  {
   "cell_type": "code",
   "execution_count": null,
   "metadata": {
    "collapsed": true,
    "nbpresent": {
     "id": "c790d9da-0697-448a-a61e-e64537fd6f3b"
    }
   },
   "outputs": [],
   "source": [
    "A = [1, 2, 3, 4]\n",
    "B = A\n",
    "print(B)\n",
    "B[0] = \"Errrrrrou!\"\n",
    "print(A)\n",
    "\n",
    "# A alternativa é gerar uma cópia da lista\n",
    "print()\n",
    "A = [1, 2, 3, 4]\n",
    "B = A.copy()\n",
    "print(B)\n",
    "B[0] = \"Agora sim!\"\n",
    "print(A)\n",
    "print(B)"
   ]
  },
  {
   "cell_type": "markdown",
   "metadata": {
    "nbpresent": {
     "id": "fa784c45-1a0e-43be-acae-b752abe285a0"
    }
   },
   "source": [
    "## Exercício 7.1\n",
    "\n",
    "Faça um código que leia duas listas e gere uma terceira que é a combinação das duas mas sem elementos repetidos"
   ]
  },
  {
   "cell_type": "code",
   "execution_count": 42,
   "metadata": {},
   "outputs": [
    {
     "name": "stdout",
     "output_type": "stream",
     "text": [
      "[1, 2, 3, 4, 5, 6, 7, 8, 9, 0]\n"
     ]
    }
   ],
   "source": [
    "lista1 = [int(letra) for letra in \"12345213678890\"]\n",
    "lista2= [int(letra) for letra in \"1234125823457091238\"]\n",
    "lista3 = []\n",
    "for i in lista1:\n",
    "    if i not in lista3:\n",
    "        lista3.append(i)\n",
    "        \n",
    "for i in lista2:\n",
    "    if i not in lista3:\n",
    "        lista3.append(i)\n",
    "print(lista3)"
   ]
  },
  {
   "cell_type": "code",
   "execution_count": 44,
   "metadata": {
    "nbpresent": {
     "id": "c72137cc-b75f-49a5-8541-65f05d7fc6ff"
    }
   },
   "outputs": [
    {
     "name": "stdout",
     "output_type": "stream",
     "text": [
      "[1, 2, 3, 4, 5, 6, 7, 8, 9, 0]\n"
     ]
    }
   ],
   "source": [
    "lista1 = [int(letra) for letra in \"12345213678890\"]\n",
    "lista2= [int(letra) for letra in \"1234125823457091238\"]\n",
    "lista3 = []\n",
    "for i in lista1 + lista2:\n",
    "    if i not in lista3:\n",
    "        lista3.append(i)\n",
    "        \n",
    "print(lista3)"
   ]
  },
  {
   "cell_type": "code",
   "execution_count": 50,
   "metadata": {},
   "outputs": [
    {
     "name": "stdout",
     "output_type": "stream",
     "text": [
      "[0, 1, 2, 3, 4, 5, 6, 7, 8, 9]\n"
     ]
    }
   ],
   "source": [
    "lista3 = list(set(lista1+lista2))\n",
    "print(lista3)"
   ]
  },
  {
   "cell_type": "markdown",
   "metadata": {
    "nbpresent": {
     "id": "35f18a3b-718d-4c00-9868-b1ad7e0efbfe"
    }
   },
   "source": [
    "## Exercício 7.2\n",
    "\n",
    "Faça um código que calcule a média, o máximo e o mínimo dos elementos de uma lista"
   ]
  },
  {
   "cell_type": "code",
   "execution_count": 51,
   "metadata": {
    "nbpresent": {
     "id": "94563581-bb10-4dbc-bba1-47d56e75354a"
    }
   },
   "outputs": [
    {
     "name": "stdout",
     "output_type": "stream",
     "text": [
      "Media: 8.0\n",
      "Maximo: 8\n",
      "Minimo: 1\n",
      "Media: 8.0\n",
      "Maximo: 8\n",
      "Minimo: 1\n"
     ]
    }
   ],
   "source": [
    "lista = [1,3,4,5,6,7,8]\n",
    "#lista = [1,3]\n",
    "x = 0\n",
    "soma = 0\n",
    "maximo = 0\n",
    "minimo = lista[x]\n",
    "\n",
    "#usando for\n",
    "for x in lista:\n",
    "    soma += i\n",
    "    \n",
    "    if i > maximo:\n",
    "        maximo = i\n",
    "        \n",
    "    if i < minimo:\n",
    "        minimo = i\n",
    "        \n",
    "print('Media:',(soma / len(lista)))\n",
    "print('Maximo:', maximo)\n",
    "print('Minimo:', minimo)\n",
    "\n",
    "\n",
    "#usando while\n",
    "while x < len(lista):\n",
    "    soma = soma + lista[x]    \n",
    "    if lista[x] > maximo:\n",
    "        maximo = lista[x]\n",
    "    if lista[x] < minimo:\n",
    "        minimo = lista[x]\n",
    "    x += 1\n",
    "    \n",
    "print('Media:',(soma / len(lista)))\n",
    "print('Maximo:', maximo)\n",
    "print('Minimo:', minimo)"
   ]
  },
  {
   "cell_type": "markdown",
   "metadata": {
    "nbpresent": {
     "id": "6f386ac2-0517-45d2-a51a-6bc4d1fbcafb"
    }
   },
   "source": [
    "## 7.2. Dicionários\n",
    "\n",
    "São estruturas de dados semelhantes às listas, mas seus dados são pares chave-valor. Todos os dados em um dicionário devem estar associados a uma chave. Por exemplo um dicionário que representa as versões do Android\n",
    "<table>\n",
    "<tr><td>**Nome versão**</td><td>**Número(s) versão**</td>\n",
    "<tr><td>Alpha</td><td>1.0</td>\n",
    "<tr><td>Beta</td><td>1.1</td>\n",
    "<tr><td>Cupcake</td><td>1.5</td>\n",
    "<tr><td>Donut</td><td>1.6</td>\n",
    "<tr><td>Eclair</td><td>2.0/2.1</td>\n",
    "<tr><td>Froyo (Frozen Yogurt)</td><td>2.2</td>\n",
    "<tr><td>Gingerbread</td><td>2.3</td>\n",
    "<tr><td>Honeycomb</td><td>3.0/3.1/3.2</td>\n",
    "<tr><td>Ice Cream Sandwich</td><td>4.0</td>\n",
    "<tr><td>Jelly Bean</td><td>4.1/4.2/4.3</td>\n",
    "<tr><td>KitKat</td><td>4.4</td>\n",
    "<tr><td>Lollipop</td><td>5.0</td>\n",
    "<tr><td>Marshmallow</td><td>6.0</td>\n",
    "</table>\n",
    "pode ser:\n",
    "\n",
    "[Home](#Pós-Graduação-em-Ciência-de-Dados-e-Big-Data-PUC-Minas-Uberlândia)"
   ]
  },
  {
   "cell_type": "code",
   "execution_count": 23,
   "metadata": {
    "collapsed": true,
    "nbpresent": {
     "id": "24a4e278-527a-4df3-b354-f5872a990bd6"
    }
   },
   "outputs": [],
   "source": [
    "android = { \"Alpha\": 1.0,\n",
    "            \"Beta\": 1.1,\n",
    "            \"Cupcake\": 2.5,\n",
    "            \"Donut\": 1.6,\n",
    "            \"Eclair\": [2.0, 2.1],\n",
    "            \"Froyo\": 2.2,\n",
    "            \"Gingerbread\": 2.3,\n",
    "            \"Honeycomb\": [3.0, 3.1, 3.2],\n",
    "            \"Ice Cream Sandwich\": 4.0,\n",
    "            \"Jelly Bean\": [4.1, 4.2, 4.3],\n",
    "            \"KitKat\": 4.4,\n",
    "            \"Lollipop\": 5.0,\n",
    "            \"Marshmallow\": 6.0}"
   ]
  },
  {
   "cell_type": "markdown",
   "metadata": {
    "nbpresent": {
     "id": "6ac9618a-fa2d-44b8-843b-f5db8d2e438b"
    }
   },
   "source": [
    "Enquanto os dados de uma lista são acessados por um índice iniciado em `0`, os dados de um dicionário são acessados por sua chave. Por exemplo:"
   ]
  },
  {
   "cell_type": "code",
   "execution_count": 37,
   "metadata": {
    "nbpresent": {
     "id": "bd2027b3-8bff-4589-8133-20fd6ae3c079"
    }
   },
   "outputs": [
    {
     "data": {
      "text/plain": [
       "5.0"
      ]
     },
     "execution_count": 37,
     "metadata": {},
     "output_type": "execute_result"
    }
   ],
   "source": [
    "android['Lollipop']"
   ]
  },
  {
   "cell_type": "markdown",
   "metadata": {
    "nbpresent": {
     "id": "fa7295c9-f37e-47dd-9bc2-1297a5ee57bc"
    }
   },
   "source": [
    "Quando atribuímos um valor a uma chave, duas coisas podem acontecer:\n",
    "1. Se a chave existe o valor é alterado para o valor atribuído\n",
    "2. Se a chave não existe o novo par chave-valor será adicionado ao dicionário."
   ]
  },
  {
   "cell_type": "code",
   "execution_count": 25,
   "metadata": {
    "nbpresent": {
     "id": "698d89df-74e2-4000-a901-a51903f8dbe1"
    }
   },
   "outputs": [
    {
     "data": {
      "text/plain": [
       "{'Alpha': 1.0,\n",
       " 'Beta': 1.1,\n",
       " 'Cupcake': 2.5,\n",
       " 'Donut': 1.6,\n",
       " 'Eclair': [2.0, 2.1],\n",
       " 'Froyo': 2.2,\n",
       " 'Gingerbread': 2.3,\n",
       " 'Honeycomb': [3.0, 3.1, 3.2],\n",
       " 'Ice Cream Sandwich': 4.0,\n",
       " 'Jelly Bean': [4.1, 4.2, 4.3],\n",
       " 'KitKat': 4.4,\n",
       " 'Lollipop': 5.0,\n",
       " 'Marshmallow': 6.0,\n",
       " 'Nougat': 7.0}"
      ]
     },
     "execution_count": 25,
     "metadata": {},
     "output_type": "execute_result"
    }
   ],
   "source": [
    "android['Nougat'] = 7.0\n",
    "android"
   ]
  },
  {
   "cell_type": "code",
   "execution_count": null,
   "metadata": {
    "collapsed": true,
    "nbpresent": {
     "id": "0b8c1146-f8f0-40e6-99a4-4c73e483d0a7"
    }
   },
   "outputs": [],
   "source": [
    "android['Nougat'] = [7.0, 7.1]\n",
    "android"
   ]
  },
  {
   "cell_type": "markdown",
   "metadata": {
    "nbpresent": {
     "id": "dc403a2e-ef8b-47e9-85de-844bdf7606ee"
    }
   },
   "source": [
    "**Operações comuns com dicionários**\n",
    "\n",
    "[Home](#Pós-Graduação-em-Ciência-de-Dados-e-Big-Data-PUC-Minas-Uberlândia)\n",
    "\n",
    "Verificar se uma chave está no dicionário"
   ]
  },
  {
   "cell_type": "code",
   "execution_count": null,
   "metadata": {
    "collapsed": true,
    "nbpresent": {
     "id": "b97a98e9-9380-4549-bf0d-75174b2956ef"
    }
   },
   "outputs": [],
   "source": [
    "\"Oreo\" in android"
   ]
  },
  {
   "cell_type": "markdown",
   "metadata": {
    "nbpresent": {
     "id": "870b421e-fbfd-48b4-95a7-df9029b0a1c8"
    }
   },
   "source": [
    "Uma lista de todas as chaves"
   ]
  },
  {
   "cell_type": "code",
   "execution_count": null,
   "metadata": {
    "collapsed": true,
    "nbpresent": {
     "id": "647599f9-0dfd-47e7-a27c-a18021f6285d"
    }
   },
   "outputs": [],
   "source": [
    "android.keys()"
   ]
  },
  {
   "cell_type": "markdown",
   "metadata": {
    "nbpresent": {
     "id": "3342448e-930d-4383-9c2a-d3e78e02a8ff"
    }
   },
   "source": [
    "Uma lista de todos os valores"
   ]
  },
  {
   "cell_type": "code",
   "execution_count": null,
   "metadata": {
    "collapsed": true,
    "nbpresent": {
     "id": "120d2def-8518-494a-9b69-43c6f5715b28"
    }
   },
   "outputs": [],
   "source": [
    "android.values()"
   ]
  },
  {
   "cell_type": "markdown",
   "metadata": {
    "nbpresent": {
     "id": "2ed6535f-bd89-4349-8ec5-90b484ac88da"
    }
   },
   "source": [
    "Iterar por todos os pares chave-valor"
   ]
  },
  {
   "cell_type": "code",
   "execution_count": null,
   "metadata": {
    "collapsed": true,
    "nbpresent": {
     "id": "1921deb6-da01-4a9c-ab03-0bacf7f139ef"
    }
   },
   "outputs": [],
   "source": [
    "for chave, valor in android.items():\n",
    "    print(valor, chave)"
   ]
  },
  {
   "cell_type": "markdown",
   "metadata": {
    "nbpresent": {
     "id": "0ca16943-7615-4d15-a82b-3a8d22c07b01"
    }
   },
   "source": [
    "<div style=\"background-color:#cc0000;color:white;padding:20px;\">\n",
    "<h3><strong>Uêpa!</strong></h3>\n",
    "Que ordem é essa do dicionário???\n",
    "</div>\n",
    "\n",
    "A ordem dos dados em um dicionário é imprevisível. Ele é ordenado de forma a otimizar a busca pelos dados. Se a ordem dos dados no dicionário é importante, o módulo `Collections` tem o objetdo `OrderedDict` \n",
    "\n",
    "[Home](#Pós-Graduação-em-Ciência-de-Dados-e-Big-Data-PUC-Minas-Uberlândia)"
   ]
  },
  {
   "cell_type": "markdown",
   "metadata": {
    "nbpresent": {
     "id": "033cbfd9-dfa9-41f4-a62a-15884b3cf26e"
    }
   },
   "source": [
    "## Exercício 7.3\n",
    "\n",
    "Faça um código que gere um dicionário onde cada chave seja um caractere e seu valor seja a quantidade de ocorrências desse caractere em uma frase lida (ignore espaços).\n",
    "\n",
    "*Dica: utilize a função string.replace(\" \", \"\") para substituir um espaço por vazio*\n",
    "*Desafio: Ignore maiúculas e minúsculas*"
   ]
  },
  {
   "cell_type": "code",
   "execution_count": 66,
   "metadata": {
    "nbpresent": {
     "id": "29fedc2f-83f1-42cb-a9cd-8a484fe6dbf8"
    }
   },
   "outputs": [
    {
     "name": "stdout",
     "output_type": "stream",
     "text": [
      "Informe uma frase: sadfasdfasfasdf\n",
      "{'s': 4, 'a': 4, 'd': 3, 'f': 4}\n",
      "\n",
      "\n",
      "{'s': 4, 'a': 4, 'd': 3, 'f': 4}\n",
      "[('d', 3), ('s', 4), ('a', 4), ('f', 4)]\n"
     ]
    }
   ],
   "source": [
    "frase = input('Informe uma frase: ').replace(' ','').lower()\n",
    "dicionario = {}\n",
    "#meu metodo\n",
    "for i in frase:    \n",
    "    dicionario[i] = 0\n",
    "\n",
    "for i in frase:\n",
    "    if i in dicionario.keys():        \n",
    "        #dicionario[i] = dicionario[i] + 1\n",
    "        dicionario[i] += 1        \n",
    "print(dicionario)\n",
    "print()\n",
    "print()\n",
    "#metodo professor\n",
    "dic = {}\n",
    "for letra in frase:\n",
    "    if letra in dic.keys():\n",
    "        dic[letra] +=1\n",
    "    else:\n",
    "        dic[letra] = 1  \n",
    "print(dic)   \n",
    "\n",
    "#metodo ordernar o dicionario\n",
    "import operator\n",
    "sorted_dic = sorted(dic.items(), key=operator.itemgetter(1))\n",
    "print(sorted_dic)"
   ]
  },
  {
   "cell_type": "code",
   "execution_count": 64,
   "metadata": {},
   "outputs": [
    {
     "name": "stdout",
     "output_type": "stream",
     "text": [
      "[(0, 0), (2, 1), (1, 2), (4, 3), (3, 4)]\n"
     ]
    }
   ],
   "source": [
    "import operator\n",
    "x = {1: 2, 3: 4, 4: 3, 2: 1, 0: 0}\n",
    "sorted_x = sorted(x.items(), key=operator.itemgetter(1))\n",
    "print(sorted_x)"
   ]
  },
  {
   "cell_type": "markdown",
   "metadata": {
    "nbpresent": {
     "id": "e175750c-5b69-4b3f-a510-988d1a5dcca4"
    }
   },
   "source": [
    "## 7.3. Tuplas\n",
    "\n",
    "Tuplas são como listas, com a grande diferença de que são imutáveis. Você não pode atribuir um valor a uma tupla. Dessa forma elas são excelentes para armazenar valores constantes (como o resultado de uma consulta a um banco de dados) e para empacotamento e desempacotamento de dados.\n",
    "\n",
    "### Desempacotamento de dados? O que é isso?\n",
    "\n",
    "Já fizemos isso com a função `enumerate`<br>\n",
    "<code>\n",
    "for i, v in enumerate(L):\n",
    "    print(\"L[{}]: {}\".format(i, v))\n",
    "</code>\n",
    "<br>\n",
    "\n",
    "e com a função `.items()` de um dicionário<br>\n",
    "<code>\n",
    "for chave, valor in android.items():\n",
    "    print(valor, chave)\n",
    "</code>\n",
    "\n",
    "Essas funções retornam uma tupla que é desempacotada e seus valores são atribuídos a duas variáveis\n",
    "\n",
    "### Criando tuplas"
   ]
  },
  {
   "cell_type": "code",
   "execution_count": null,
   "metadata": {
    "collapsed": true,
    "nbpresent": {
     "id": "57414091-404d-45a8-b963-df44dc6205e6"
    }
   },
   "outputs": [],
   "source": [
    "# Tuplas são criadas como listas, mas com parênteses ao invés de colchetes\n",
    "tupla = (42, \"a\", 3.1416, [10, 20, 30])\n",
    "print(tupla)"
   ]
  },
  {
   "cell_type": "code",
   "execution_count": null,
   "metadata": {
    "collapsed": true,
    "nbpresent": {
     "id": "bcad16cc-06ac-413f-ac01-e6e450c45261"
    }
   },
   "outputs": [],
   "source": [
    "# Também pode-se criar uma tupla simplesmente separando seus elementos por vírgulas\n",
    "tupla = 42, \"a\", 3.1416, [10, 20, 30]\n",
    "print(tupla)"
   ]
  },
  {
   "cell_type": "markdown",
   "metadata": {
    "nbpresent": {
     "id": "0608f60d-8470-4aa7-a5b4-6da3217f49f6"
    }
   },
   "source": [
    "### Operações com tuplas\n",
    "As tuplas aceitam praticamente todas as operações que fazemos com uma lista"
   ]
  },
  {
   "cell_type": "code",
   "execution_count": null,
   "metadata": {
    "collapsed": true,
    "nbpresent": {
     "id": "1c6fd550-86e2-4c63-a2ae-1143ff313f64"
    }
   },
   "outputs": [],
   "source": [
    "print(tupla[-2])\n",
    "print(tupla[:3])\n",
    "print(len(tupla))\n",
    "print(tupla*2)\n",
    "print(tupla+(\"X\", \"Y\"))"
   ]
  },
  {
   "cell_type": "markdown",
   "metadata": {
    "nbpresent": {
     "id": "30bd480e-9266-4295-a5d0-5d9da8fe60c7"
    }
   },
   "source": [
    "### Mas não podemos alterar uma tupla"
   ]
  },
  {
   "cell_type": "code",
   "execution_count": null,
   "metadata": {
    "collapsed": true,
    "nbpresent": {
     "id": "aad8ea25-8eb6-4149-bdc0-d60ac79cbe07"
    }
   },
   "outputs": [],
   "source": [
    "tupla[3] = \"Novo valor\""
   ]
  },
  {
   "cell_type": "markdown",
   "metadata": {
    "nbpresent": {
     "id": "e3500500-704d-4ac6-8e3a-7adade7ad5fd"
    }
   },
   "source": [
    "### Em que o desempacotamento pode me ajudar?"
   ]
  },
  {
   "cell_type": "code",
   "execution_count": 25,
   "metadata": {
    "nbpresent": {
     "id": "9bb9b670-f647-426c-a9f7-36c3479eb517"
    }
   },
   "outputs": [
    {
     "ename": "NameError",
     "evalue": "name 'tupla' is not defined",
     "output_type": "error",
     "traceback": [
      "\u001b[1;31m---------------------------------------------------------------------------\u001b[0m",
      "\u001b[1;31mNameError\u001b[0m                                 Traceback (most recent call last)",
      "\u001b[1;32m<ipython-input-25-b0c1fca10c6c>\u001b[0m in \u001b[0;36m<module>\u001b[1;34m()\u001b[0m\n\u001b[0;32m      1\u001b[0m \u001b[1;31m# Atribuição de múltiplas variáveis em uma única linha\u001b[0m\u001b[1;33m\u001b[0m\u001b[1;33m\u001b[0m\u001b[0m\n\u001b[1;32m----> 2\u001b[1;33m \u001b[0minteiro\u001b[0m\u001b[1;33m,\u001b[0m \u001b[0mstring\u001b[0m\u001b[1;33m,\u001b[0m \u001b[0mreal\u001b[0m\u001b[1;33m,\u001b[0m \u001b[0mlista\u001b[0m \u001b[1;33m=\u001b[0m \u001b[0mtupla\u001b[0m\u001b[1;33m\u001b[0m\u001b[0m\n\u001b[0m\u001b[0;32m      3\u001b[0m \u001b[0mprint\u001b[0m\u001b[1;33m(\u001b[0m\u001b[0minteiro\u001b[0m\u001b[1;33m)\u001b[0m\u001b[1;33m\u001b[0m\u001b[0m\n\u001b[0;32m      4\u001b[0m \u001b[0mprint\u001b[0m\u001b[1;33m(\u001b[0m\u001b[0mstring\u001b[0m\u001b[1;33m)\u001b[0m\u001b[1;33m\u001b[0m\u001b[0m\n\u001b[0;32m      5\u001b[0m \u001b[0mprint\u001b[0m\u001b[1;33m(\u001b[0m\u001b[0mreal\u001b[0m\u001b[1;33m)\u001b[0m\u001b[1;33m\u001b[0m\u001b[0m\n",
      "\u001b[1;31mNameError\u001b[0m: name 'tupla' is not defined"
     ]
    }
   ],
   "source": [
    "# Atribuição de múltiplas variáveis em uma única linha\n",
    "inteiro, string, real, lista = tupla\n",
    "print(inteiro)\n",
    "print(string)\n",
    "print(real)\n",
    "print(lista)\n",
    "print()\n",
    "a, b = \"A\", \"B\"\n",
    "print(\"a:\", a)\n",
    "print(\"b:\", b)"
   ]
  },
  {
   "cell_type": "code",
   "execution_count": null,
   "metadata": {
    "collapsed": true,
    "nbpresent": {
     "id": "8984fa98-4e68-46b9-a2c6-ea544c83b2c9"
    }
   },
   "outputs": [],
   "source": [
    "# E uma coisa muito legal! Inverter valores rapidamente\n",
    "a, b = b, a\n",
    "print(\"a:\", a)\n",
    "print(\"b:\", b)"
   ]
  },
  {
   "cell_type": "markdown",
   "metadata": {
    "nbpresent": {
     "id": "e7eb6d99-cded-435f-afa5-0b024d705c65"
    }
   },
   "source": [
    "### Convertendo listas em tuplas e vice versa"
   ]
  },
  {
   "cell_type": "code",
   "execution_count": null,
   "metadata": {
    "collapsed": true,
    "nbpresent": {
     "id": "ab2e95c1-b4f7-4a28-8ace-db97a1259819"
    }
   },
   "outputs": [],
   "source": [
    "lista = list(tupla)\n",
    "print(lista)"
   ]
  },
  {
   "cell_type": "code",
   "execution_count": null,
   "metadata": {
    "collapsed": true,
    "nbpresent": {
     "id": "550e575e-5d34-4ddf-89bd-d06b71666899"
    }
   },
   "outputs": [],
   "source": [
    "tupla2 = tuple([10, 3, 4, 454.6567])\n",
    "print(tupla2)"
   ]
  },
  {
   "cell_type": "markdown",
   "metadata": {
    "nbpresent": {
     "id": "38136eaa-d07e-48d9-a277-4b39fabfa83c"
    }
   },
   "source": [
    "### Cuidado ao criar tuplas de um só elemento"
   ]
  },
  {
   "cell_type": "code",
   "execution_count": null,
   "metadata": {
    "collapsed": true,
    "nbpresent": {
     "id": "2501b9c0-6596-4f2c-aa06-6be643a14cff"
    }
   },
   "outputs": [],
   "source": [
    "t1 = (1)\n",
    "print(t1)\n",
    "t2 = (2,)\n",
    "print(t2)\n",
    "t3 = 3,\n",
    "print(t3)\n",
    "t4 = tuple([4])\n",
    "print(t4)"
   ]
  },
  {
   "cell_type": "markdown",
   "metadata": {},
   "source": [
    "# 8. Definindo funções\n",
    "\n",
    "Já trabalhamos com algumas funções como `print`, `len`, `input` e até mesmo `list`, `tuple` etc. Agora vamos aprender a criar nossas próprias funções. Isso é importante para criarmos um código reutilizável que evita termos que digitar o mesmo código toda vez que ele tiver que ser executado.\n",
    "\n",
    "Definimos uma nova função através da instrução **`def`**. Vejamos como escrever uma função que imprime a soma de dois números.\n",
    "\n",
    "\n",
    "[Home](#Pós-Graduação-em-Ciência-de-Dados-e-Big-Data-PUC-Minas-Uberlândia)"
   ]
  },
  {
   "cell_type": "code",
   "execution_count": null,
   "metadata": {
    "collapsed": true
   },
   "outputs": [],
   "source": [
    "def soma(a, b):\n",
    "    print(a + b)\n",
    "\n",
    "soma(3, 5)"
   ]
  },
  {
   "cell_type": "code",
   "execution_count": null,
   "metadata": {
    "collapsed": true
   },
   "outputs": [],
   "source": [
    "soma(-1.443, 3+4j)"
   ]
  },
  {
   "cell_type": "code",
   "execution_count": null,
   "metadata": {
    "collapsed": true
   },
   "outputs": [],
   "source": [
    "soma(\"Ciência de \", \"dados\")"
   ]
  },
  {
   "cell_type": "code",
   "execution_count": 27,
   "metadata": {},
   "outputs": [
    {
     "ename": "NameError",
     "evalue": "name 'soma' is not defined",
     "output_type": "error",
     "traceback": [
      "\u001b[1;31m---------------------------------------------------------------------------\u001b[0m",
      "\u001b[1;31mNameError\u001b[0m                                 Traceback (most recent call last)",
      "\u001b[1;32m<ipython-input-27-dbe217ce9cc8>\u001b[0m in \u001b[0;36m<module>\u001b[1;34m()\u001b[0m\n\u001b[1;32m----> 1\u001b[1;33m \u001b[0msoma\u001b[0m\u001b[1;33m(\u001b[0m\u001b[1;34m\"Um\"\u001b[0m\u001b[1;33m,\u001b[0m \u001b[1;36m2\u001b[0m\u001b[1;33m)\u001b[0m\u001b[1;33m\u001b[0m\u001b[0m\n\u001b[0m",
      "\u001b[1;31mNameError\u001b[0m: name 'soma' is not defined"
     ]
    }
   ],
   "source": [
    "soma(\"Um\", 2)"
   ]
  },
  {
   "cell_type": "markdown",
   "metadata": {},
   "source": [
    "## Exercício 8.1\n",
    "\n",
    "Escreva uma função que recebe dois parâmetros: uma mensagem e um número inteiro informando qual o tipo de mensagem:\n",
    "* 0 = ERRO\n",
    "* 1 = ALERTA\n",
    "* 2 = AVISO\n",
    "\n",
    "Essa função então imprime a mensagem no formato TIPO: Conteúdo da mensagem"
   ]
  },
  {
   "cell_type": "code",
   "execution_count": 31,
   "metadata": {
    "collapsed": true
   },
   "outputs": [],
   "source": [
    "def mensagem(msg, tipo):\n",
    "    ind_Mensage = ('ERRO','ALERTA','AVISO')\n",
    "    if tipo > len(ind_Mensage) :\n",
    "        print(\"Tipo inválido!\")\n",
    "    else:\n",
    "        print(ind_Mensage[tipo],'-', msg)"
   ]
  },
  {
   "cell_type": "code",
   "execution_count": 32,
   "metadata": {},
   "outputs": [
    {
     "name": "stdout",
     "output_type": "stream",
     "text": [
      "AVISO - CUIDADO\n"
     ]
    }
   ],
   "source": [
    "mensagem('CUIDADO',2)"
   ]
  },
  {
   "cell_type": "markdown",
   "metadata": {},
   "source": [
    "## Exercício 8.2\n",
    "\n",
    "Faça uma função que recebe dois números e imprime o maior deles."
   ]
  },
  {
   "cell_type": "code",
   "execution_count": 37,
   "metadata": {
    "collapsed": true
   },
   "outputs": [],
   "source": [
    "def exec_8_2(valor_a, valor_b):\n",
    "    if valor_a > valor_b:\n",
    "        print(valor_a)\n",
    "    else:\n",
    "        print(valor_b)"
   ]
  },
  {
   "cell_type": "code",
   "execution_count": 38,
   "metadata": {},
   "outputs": [
    {
     "name": "stdout",
     "output_type": "stream",
     "text": [
      "4\n"
     ]
    }
   ],
   "source": [
    "exec_8_2(4,2)"
   ]
  },
  {
   "cell_type": "code",
   "execution_count": 67,
   "metadata": {
    "collapsed": true
   },
   "outputs": [],
   "source": [
    "#opção do professor\n",
    "def exec_8_2_prof(valor_a, valor_b):\n",
    "    print(valor_a) if valor_a > valor_b else print(valor_b)"
   ]
  },
  {
   "cell_type": "code",
   "execution_count": 68,
   "metadata": {},
   "outputs": [
    {
     "name": "stdout",
     "output_type": "stream",
     "text": [
      "4\n"
     ]
    }
   ],
   "source": [
    "exec_8_2_prof(4,2)"
   ]
  },
  {
   "cell_type": "markdown",
   "metadata": {},
   "source": [
    "## 8.1. Retornando valores\n",
    "\n",
    "Uma função também pode retornar um valor. Para isso utilizamos a palavra reservada **`return`**. Nossa função `soma`, ao invés de imprimir, pode retornar o resultado. Com isso podemos armazenar o resultado da função em outra variável.\n",
    "\n",
    "[Home](#Pós-Graduação-em-Ciência-de-Dados-e-Big-Data-PUC-Minas-Uberlândia)"
   ]
  },
  {
   "cell_type": "code",
   "execution_count": null,
   "metadata": {
    "collapsed": true
   },
   "outputs": [],
   "source": [
    "def soma(a, b):\n",
    "    return a + b\n",
    "print(soma(1, 5))"
   ]
  },
  {
   "cell_type": "code",
   "execution_count": null,
   "metadata": {
    "collapsed": true
   },
   "outputs": [],
   "source": [
    "resultado = soma(6, 4)\n",
    "print(resultado)"
   ]
  },
  {
   "cell_type": "markdown",
   "metadata": {},
   "source": [
    "## Exercício 8.3\n",
    "\n",
    "Faça uma função que recebe dois parâmetros a e b e retorna True se a > b e False caso contrário"
   ]
  },
  {
   "cell_type": "code",
   "execution_count": 14,
   "metadata": {
    "collapsed": true
   },
   "outputs": [],
   "source": [
    "def exec_8_3(valor_a, valor_b): return valor_a > valor_b"
   ]
  },
  {
   "cell_type": "code",
   "execution_count": 19,
   "metadata": {},
   "outputs": [
    {
     "data": {
      "text/plain": [
       "True"
      ]
     },
     "execution_count": 19,
     "metadata": {},
     "output_type": "execute_result"
    }
   ],
   "source": [
    "exec_8_3('b','a')"
   ]
  },
  {
   "cell_type": "markdown",
   "metadata": {},
   "source": [
    "# Exercício 8.4\n",
    "\n",
    "Faça uma função que verifica se um número é par\n",
    "\n",
    "*Dica: Utilize o operador do resto da divisão*"
   ]
  },
  {
   "cell_type": "code",
   "execution_count": 72,
   "metadata": {
    "collapsed": true
   },
   "outputs": [],
   "source": [
    "def exec_8_4(numero):\n",
    "    return numero % 2 == 0    "
   ]
  },
  {
   "cell_type": "code",
   "execution_count": 15,
   "metadata": {},
   "outputs": [
    {
     "name": "stdout",
     "output_type": "stream",
     "text": [
      "informe um numero: 3\n"
     ]
    }
   ],
   "source": [
    "if exec_8_4(int(input('informe um numero: '))) == True:\n",
    "    print('par')\n"
   ]
  },
  {
   "cell_type": "markdown",
   "metadata": {},
   "source": [
    "## Exercício 8.5\n",
    "Faça uma função que utiliza a função do Exercício 8.4. Se o número recebido for par imprime \"Par\", se for ímpar imprime \"Ímpar\""
   ]
  },
  {
   "cell_type": "code",
   "execution_count": 73,
   "metadata": {
    "collapsed": true
   },
   "outputs": [],
   "source": [
    "def exec_8_5(numero):\n",
    "    if exec_8_4(numero) == True:\n",
    "        print('Par!')\n",
    "    else:\n",
    "        print('Impar!')"
   ]
  },
  {
   "cell_type": "code",
   "execution_count": 74,
   "metadata": {},
   "outputs": [
    {
     "name": "stdout",
     "output_type": "stream",
     "text": [
      "Informe um numero: 5\n",
      "Impar!\n"
     ]
    }
   ],
   "source": [
    "valor = int(input('Informe um numero: '))\n",
    "exec_8_5(valor)"
   ]
  },
  {
   "cell_type": "markdown",
   "metadata": {},
   "source": [
    "## Exercício 8.6\n",
    "Faça uma função que some os elementos de uma lista"
   ]
  },
  {
   "cell_type": "code",
   "execution_count": 22,
   "metadata": {
    "collapsed": true
   },
   "outputs": [],
   "source": [
    "def somaLista(lista = ()):\n",
    "    resultado = 0\n",
    "    for i in lista:\n",
    "        resultado += i\n",
    "    return resultado"
   ]
  },
  {
   "cell_type": "code",
   "execution_count": 24,
   "metadata": {},
   "outputs": [
    {
     "name": "stdout",
     "output_type": "stream",
     "text": [
      "23\n"
     ]
    }
   ],
   "source": [
    "lista = (1,4,5,6,7)\n",
    "print(somaLista(lista))"
   ]
  },
  {
   "cell_type": "markdown",
   "metadata": {},
   "source": [
    "## Exercicio 8.7\n",
    "\n",
    "Faça uma função que utilizar a função do exercício 8.6 para calcular a média dos valores da lista"
   ]
  },
  {
   "cell_type": "code",
   "execution_count": 29,
   "metadata": {
    "collapsed": true
   },
   "outputs": [],
   "source": [
    "def mediaLista(lista = ()):\n",
    "    resultado = somaLista(lista)\n",
    "    return resultado / len(lista)"
   ]
  },
  {
   "cell_type": "code",
   "execution_count": 30,
   "metadata": {},
   "outputs": [
    {
     "name": "stdout",
     "output_type": "stream",
     "text": [
      "4.6\n"
     ]
    }
   ],
   "source": [
    "lista = (1,4,5,6,7)\n",
    "print(mediaLista(lista))"
   ]
  },
  {
   "cell_type": "markdown",
   "metadata": {},
   "source": [
    "## 8.2. Definindo valores padrão para os parâmetros de uma função\n",
    "\n",
    "Uma função pode assumir um valor padrão. Por exemplo, a função\n",
    "<code>\n",
    "\\>>> def exponenciação(a, b):\n",
    "\\>>>    return a ** b\n",
    "\\>>>\n",
    "\\>>> exponenciação(2, 3)\n",
    "8\n",
    "</code>\n",
    "\n",
    "pode ser definida para que o valor padrão de `b` seja 2 utilizando a seguinte sintaxe\n",
    "<code>\n",
    "\\>>> def exponenciação(a, b=2):\n",
    "\\>>>    return a ** b\n",
    "\\>>>\n",
    "\\>>> exponenciação(5)\n",
    "25\n",
    "</code>\n",
    "\n",
    "[Home](#Pós-Graduação-em-Ciência-de-Dados-e-Big-Data-PUC-Minas-Uberlândia)"
   ]
  },
  {
   "cell_type": "markdown",
   "metadata": {},
   "source": [
    "## Exercício 8.6\n",
    "\n",
    "Repita o exercício 8.1 de modo que o valor padrão seja uma mensagem de erro."
   ]
  },
  {
   "cell_type": "code",
   "execution_count": 31,
   "metadata": {
    "collapsed": true
   },
   "outputs": [],
   "source": [
    "def mensagemErro(msg, tipo = 0):\n",
    "    ind_Mensage = ('ERRO','ALERTA','AVISO')\n",
    "    if tipo > len(ind_Mensage) :\n",
    "        print(\"Tipo inválido!\")\n",
    "    else:\n",
    "        print(ind_Mensage[tipo],'-', msg)"
   ]
  },
  {
   "cell_type": "code",
   "execution_count": 32,
   "metadata": {},
   "outputs": [
    {
     "name": "stdout",
     "output_type": "stream",
     "text": [
      "ERRO - teste de msg\n"
     ]
    }
   ],
   "source": [
    "mensagemErro('teste de msg')"
   ]
  },
  {
   "cell_type": "markdown",
   "metadata": {},
   "source": [
    "## 8.3. Funções de ordem superior\n",
    "\n",
    "Uma função de ordem superior é uma função que\n",
    "* Aceita outra função como parâmetro\n",
    "**ou**\n",
    "* Retorna outra função\n",
    "\n",
    "Em Python uma função é um objeto como outro qualquer. Dessa forma uma função pode ser passada como parâmetro para outra função ser retornada por outra função.\n",
    "\n",
    "[Home](#Pós-Graduação-em-Ciência-de-Dados-e-Big-Data-PUC-Minas-Uberlândia)"
   ]
  },
  {
   "cell_type": "code",
   "execution_count": null,
   "metadata": {
    "collapsed": true
   },
   "outputs": [],
   "source": [
    "def quadrado(n):\n",
    "    return n ** 2\n",
    "\n",
    "def cubo(n):\n",
    "    return n ** 3\n",
    "\n",
    "def aplica_em_dois(func):\n",
    "    return(func(2))"
   ]
  },
  {
   "cell_type": "code",
   "execution_count": null,
   "metadata": {
    "collapsed": true
   },
   "outputs": [],
   "source": [
    "print(aplica_em_dois(cubo))"
   ]
  },
  {
   "cell_type": "code",
   "execution_count": null,
   "metadata": {
    "collapsed": true
   },
   "outputs": [],
   "source": [
    "print(aplica_em_dois(quadrado))"
   ]
  },
  {
   "cell_type": "markdown",
   "metadata": {},
   "source": [
    "### Caso de uso de funções de ordem superior"
   ]
  },
  {
   "cell_type": "code",
   "execution_count": null,
   "metadata": {
    "collapsed": true
   },
   "outputs": [],
   "source": [
    "# A função `sorted` ordena uma lista\n",
    "lista = [0, 2, -3, 5, -1, 4.2, -12]\n",
    "print(sorted(lista))\n",
    "# Mas e se eu quiser ordenar pelo valor absoluto?\n",
    "# Passo como 'chave' de ordenação a função abs que retorna o valor absoluto do número\n",
    "print(sorted(lista, key=abs))"
   ]
  },
  {
   "cell_type": "markdown",
   "metadata": {},
   "source": [
    "## 8.4. Acessando parâmetros pelo nome\n",
    "Até agora sempre acessamos os parâmetros pela ordem em que foram definidos, mas também podemos acessá-los pelo nome\n",
    "\n",
    "[Home](#Pós-Graduação-em-Ciência-de-Dados-e-Big-Data-PUC-Minas-Uberlândia)"
   ]
  },
  {
   "cell_type": "code",
   "execution_count": null,
   "metadata": {
    "collapsed": true
   },
   "outputs": [],
   "source": [
    "def imprime(msg, maiúscula=False):\n",
    "    if maiúscula:\n",
    "        print(msg.upper())\n",
    "    else:\n",
    "        print(msg.lower())\n",
    "\n",
    "imprime(maiúscula=True, msg=\"Texto\")"
   ]
  },
  {
   "cell_type": "markdown",
   "metadata": {},
   "source": [
    "## 8.5. Empacotamento e desempacotamento de parâmetros\n",
    "\n",
    "[Home](#Pós-Graduação-em-Ciência-de-Dados-e-Big-Data-PUC-Minas-Uberlândia)"
   ]
  },
  {
   "cell_type": "code",
   "execution_count": null,
   "metadata": {
    "collapsed": true
   },
   "outputs": [],
   "source": [
    "# Desempacotando os parâmetros que passaremos a uma função\n",
    "def soma(a, b):\n",
    "    return (a + b)\n",
    "\n",
    "lista = [2, 4]\n",
    "print(soma(*lista))\n",
    "parâmetros = {'a': 5, 'b': 10}\n",
    "print(soma(**parâmetros))"
   ]
  },
  {
   "cell_type": "code",
   "execution_count": null,
   "metadata": {
    "collapsed": true
   },
   "outputs": [],
   "source": [
    "# Criando uma função que aceita valores empacotados\n",
    "def soma(*args):\n",
    "    resultado = 0\n",
    "    for valor in args:\n",
    "        resultado += valor\n",
    "    return resultado\n",
    "\n",
    "print(soma(1, 2, 3, 4, 5))\n",
    "print(soma(2, 4))\n",
    "print(soma(*range(10)))"
   ]
  },
  {
   "cell_type": "markdown",
   "metadata": {},
   "source": [
    "### Caso de uso real de desempacotamento de parâmetros\n",
    "\n",
    "<code>\n",
    "*# Cria um classificador utilizando Gradient Tree Boosting com parâmetros padrão*\n",
    "gbc = GradientBoostingClassifier()\n",
    "*# Cria um otimizador de parämetros GridSearchCV*\n",
    "clf = GridSearchCV(gbc, parâmetros_a_otimizar)\n",
    "*# Otimiza os parâmetros aplicando gbc sobre X para prever y*\n",
    "clf.fit(X, y)\n",
    "*# Depois do modelo ajustado best_param_ retorna um dicionário na forma*\n",
    "*# {'parâmetro1': valor1, 'parâmetro2': valor2, ....}*\n",
    "parâmetros_otimizados = clf.best\\_param\\_\n",
    "*# Cria o modelo utilizando os parâmtros otimizados*\n",
    "gbc = GradientBoostingClassifier(\\*\\*parâmetros_otimizados)\n",
    "gbc.fit(X, y)\n",
    "*# Aplica o modelo em uma nova base*\n",
    "y_previsto = gbc.predict(novo_X)\n",
    "</code>\n",
    "\n",
    "[Home](#Pós-Graduação-em-Ciência-de-Dados-e-Big-Data-PUC-Minas-Uberlândia)"
   ]
  },
  {
   "cell_type": "markdown",
   "metadata": {},
   "source": [
    "## Exercício 8.7\n",
    "Faça uma função que calcula a média de uma lista de valores de qualquer tamanho"
   ]
  },
  {
   "cell_type": "code",
   "execution_count": 33,
   "metadata": {
    "collapsed": true
   },
   "outputs": [],
   "source": [
    "def mediaLista(lista = ()):\n",
    "    soma = 0\n",
    "    for i in lista:\n",
    "        soma += i\n",
    "    return soma / len(lista)"
   ]
  },
  {
   "cell_type": "code",
   "execution_count": 34,
   "metadata": {},
   "outputs": [
    {
     "name": "stdout",
     "output_type": "stream",
     "text": [
      "Lista a: 3.25\n",
      "Lista b: 4.714285714285714\n"
     ]
    }
   ],
   "source": [
    "lista_a = (1,2,4,6)\n",
    "lista_b = (1,5,7,8,5,4,3)\n",
    "\n",
    "print('Lista a:', mediaLista(lista_a))\n",
    "print('Lista b:', mediaLista(lista_b))"
   ]
  },
  {
   "cell_type": "code",
   "execution_count": 84,
   "metadata": {
    "collapsed": true
   },
   "outputs": [],
   "source": [
    "#função professor\n",
    "def mediaProf(*valores):\n",
    "    soma = 0\n",
    "    n = 0\n",
    "    for valor in valores:\n",
    "        soma += valor\n",
    "        n += 1\n",
    "    return soma / n"
   ]
  },
  {
   "cell_type": "code",
   "execution_count": 86,
   "metadata": {},
   "outputs": [
    {
     "name": "stdout",
     "output_type": "stream",
     "text": [
      "Lista a: 3.25\n",
      "Lista b: 4.714285714285714\n"
     ]
    }
   ],
   "source": [
    "print('Lista a:',mediaProf(1,2,4,6))\n",
    "print('Lista b:',mediaProf(1,5,7,8,5,4,3))"
   ]
  },
  {
   "cell_type": "markdown",
   "metadata": {},
   "source": [
    "## Exercício 8.8\n",
    "Faça uma função que receba a base e a altura de um triângulo e calcule sua área\n",
    "\n",
    "*Dica: Área do triângulo é base x altura / 2*"
   ]
  },
  {
   "cell_type": "code",
   "execution_count": 75,
   "metadata": {
    "collapsed": true
   },
   "outputs": [],
   "source": [
    "def exec_8_8(base, altura):\n",
    "    return base * altura / 2"
   ]
  },
  {
   "cell_type": "code",
   "execution_count": 87,
   "metadata": {},
   "outputs": [
    {
     "name": "stdout",
     "output_type": "stream",
     "text": [
      "Informe a base: 1\n",
      "Informe a altura: 4\n",
      "2.0\n"
     ]
    }
   ],
   "source": [
    "base = int(input('Informe a base: '))\n",
    "altura = int(input('Informe a altura: '))\n",
    "print(exec_8_8(base, altura))"
   ]
  },
  {
   "cell_type": "markdown",
   "metadata": {},
   "source": [
    "## Exercício 8.9\n",
    "Faça uma função que calcule o fatorial de um número\n",
    "\n",
    "*Dica: Fatorial de 4 = 4 &times; 3 &times; 2 &times; 1* <br>\n",
    "*Desafio: Faça esse exercício utilizando recursividade, while e for*"
   ]
  },
  {
   "cell_type": "code",
   "execution_count": 88,
   "metadata": {
    "collapsed": true,
    "scrolled": true
   },
   "outputs": [],
   "source": [
    "def exec_8_9(valor):\n",
    "    cont = valor\n",
    "    fatorial = 1\n",
    "    while cont > 0:\n",
    "        fatorial = fatorial * cont\n",
    "        cont -= 1\n",
    "    return fatorial"
   ]
  },
  {
   "cell_type": "code",
   "execution_count": 89,
   "metadata": {},
   "outputs": [
    {
     "data": {
      "text/plain": [
       "24"
      ]
     },
     "execution_count": 89,
     "metadata": {},
     "output_type": "execute_result"
    }
   ],
   "source": [
    "exec_8_9(4)"
   ]
  },
  {
   "cell_type": "markdown",
   "metadata": {},
   "source": [
    "## 8.6. Funções Lambda\n",
    "\n",
    "Podemos criar funções simples, sem nome, chamadas de funções lambda\n",
    "\n",
    "[Home](#Pós-Graduação-em-Ciência-de-Dados-e-Big-Data-PUC-Minas-Uberlândia)"
   ]
  },
  {
   "cell_type": "code",
   "execution_count": null,
   "metadata": {
    "collapsed": true
   },
   "outputs": [],
   "source": [
    "a = lambda x: x ** 2\n",
    "a(3)"
   ]
  },
  {
   "cell_type": "code",
   "execution_count": null,
   "metadata": {
    "collapsed": true
   },
   "outputs": [],
   "source": [
    "exponenciação = lambda a, b: a ** b\n",
    "exponenciação(2, 3)"
   ]
  },
  {
   "cell_type": "markdown",
   "metadata": {},
   "source": [
    "### Por que usar funções lambda ao invés de usar `def`?\n",
    "\n",
    "Os exemplos acima foram para mostrar o que são as funções lambda. Elas são muito úteis como funções de ordem superior!"
   ]
  },
  {
   "cell_type": "code",
   "execution_count": null,
   "metadata": {
    "collapsed": true,
    "scrolled": true
   },
   "outputs": [],
   "source": [
    "# Ordenar textos\n",
    "lista = [\"Alface\", \"abacate\", 'Mamão', 'MELÃO', \"Tomate\", \"banana\", \"Cebola\"]\n",
    "print('Ordenamento \"normal\"')\n",
    "print(sorted(lista))\n",
    "print('Ordenamento ignorando maiúsculas/minúsculas')\n",
    "print(sorted(lista, key=lambda x: x.lower()))\n",
    "print()\n",
    "print('Ordenamento \"normal\"')\n",
    "jogadores = ['Marc Andre Ter-Stegen', 'Sergi Roberto', 'Gerard Pique', 'Javier Mascherano', 'Jordi Alba', 'Sergio Busquets',\n",
    "            'Andres Iniesta', 'Ivan Rakitic', 'Lionel Messi', 'Luis Suarez', 'Neymar Júnior']\n",
    "print(sorted(jogadores))\n",
    "print('Ordenando pelo sobrenome')\n",
    "print(sorted(jogadores, key=lambda x: x.split()[-1]))"
   ]
  },
  {
   "cell_type": "markdown",
   "metadata": {},
   "source": [
    "## 9. Acessando dados\n",
    "\n",
    "Para que serve um Cientista de **Dados** que não consegue acessar os dados? As duas formas mais comuns nas quais os dados nos são disponibilizados são *Arquivos* e *Bancos de Dados*.\n",
    "\n",
    "[Home](#Pós-Graduação-em-Ciência-de-Dados-e-Big-Data-PUC-Minas-Uberlândia)\n",
    "\n",
    "### 9.1. Acessando arquivos\n",
    "\n",
    "Arquivos são uma ótima fonte para lermos dados e para salvarmos os resultados de nossos programas.\n",
    "\n",
    "Para utilizar um arquivo precisamos:\n",
    "1. Abri-lo\n",
    "2. Utilizá-lo (leitura ou escrita)\n",
    "3. Fechá-lo\n",
    "\n",
    "#### Modos de abertura de um arquivo:\n",
    "\n",
    "<table>\n",
    "<thead>\n",
    "<tr><td>Modo</td><td>Operações</td></tr>\n",
    "</thead>\n",
    "<tbody>\n",
    "<tr><td>`r`</td><td>leitura</td></tr>\n",
    "<tr><td>`w`</td><td>escrita [**Apaga o conteúdo do arquivo se já existir**]</td></tr>\n",
    "<tr><td>`a`</td><td>escrita, mas preserva o conteúdo se já existir</td></tr>\n",
    "<tr><td>`b`</td><td>modo binário</td></tr>\n",
    "<tr><td>`+`</td><td>atualização (leitura, escrita)</td></tr>\n",
    "</tbody>\n",
    "</table>\n",
    "\n",
    "A abertura de um arquivo é feita com a função `open` que recebe o nome do arquivo e o modo. O exemplo a seguir mostra como criar um arquivo contendo os números de 1 a 100\n",
    "\n",
    "[Home](#Pós-Graduação-em-Ciência-de-Dados-e-Big-Data-PUC-Minas-Uberlândia)"
   ]
  },
  {
   "cell_type": "code",
   "execution_count": 90,
   "metadata": {
    "collapsed": true
   },
   "outputs": [],
   "source": [
    "arquivo = open('números.txt', 'w')\n",
    "for linha in range(100):\n",
    "    arquivo.write(\"{}\\n\".format(linha+1))\n",
    "arquivo.close()"
   ]
  },
  {
   "cell_type": "code",
   "execution_count": 94,
   "metadata": {},
   "outputs": [
    {
     "name": "stdout",
     "output_type": "stream",
     "text": [
      "1\n",
      "\n",
      "2\n",
      "\n",
      "3\n",
      "\n",
      "4\n",
      "\n",
      "5\n",
      "\n",
      "6\n",
      "\n",
      "7\n",
      "\n",
      "8\n",
      "\n",
      "9\n",
      "\n",
      "10\n",
      "\n",
      "11\n",
      "\n",
      "12\n",
      "\n",
      "13\n",
      "\n",
      "14\n",
      "\n",
      "15\n",
      "\n",
      "16\n",
      "\n",
      "17\n",
      "\n",
      "18\n",
      "\n",
      "19\n",
      "\n",
      "20\n",
      "\n",
      "21\n",
      "\n",
      "22\n",
      "\n",
      "23\n",
      "\n",
      "24\n",
      "\n",
      "25\n",
      "\n",
      "26\n",
      "\n",
      "27\n",
      "\n",
      "28\n",
      "\n",
      "29\n",
      "\n",
      "30\n",
      "\n",
      "31\n",
      "\n",
      "32\n",
      "\n",
      "33\n",
      "\n",
      "34\n",
      "\n",
      "35\n",
      "\n",
      "36\n",
      "\n",
      "37\n",
      "\n",
      "38\n",
      "\n",
      "39\n",
      "\n",
      "40\n",
      "\n",
      "41\n",
      "\n",
      "42\n",
      "\n",
      "43\n",
      "\n",
      "44\n",
      "\n",
      "45\n",
      "\n",
      "46\n",
      "\n",
      "47\n",
      "\n",
      "48\n",
      "\n",
      "49\n",
      "\n",
      "50\n",
      "\n",
      "51\n",
      "\n",
      "52\n",
      "\n",
      "53\n",
      "\n",
      "54\n",
      "\n",
      "55\n",
      "\n",
      "56\n",
      "\n",
      "57\n",
      "\n",
      "58\n",
      "\n",
      "59\n",
      "\n",
      "60\n",
      "\n",
      "61\n",
      "\n",
      "62\n",
      "\n",
      "63\n",
      "\n",
      "64\n",
      "\n",
      "65\n",
      "\n",
      "66\n",
      "\n",
      "67\n",
      "\n",
      "68\n",
      "\n",
      "69\n",
      "\n",
      "70\n",
      "\n",
      "71\n",
      "\n",
      "72\n",
      "\n",
      "73\n",
      "\n",
      "74\n",
      "\n",
      "75\n",
      "\n",
      "76\n",
      "\n",
      "77\n",
      "\n",
      "78\n",
      "\n",
      "79\n",
      "\n",
      "80\n",
      "\n",
      "81\n",
      "\n",
      "82\n",
      "\n",
      "83\n",
      "\n",
      "84\n",
      "\n",
      "85\n",
      "\n",
      "86\n",
      "\n",
      "87\n",
      "\n",
      "88\n",
      "\n",
      "89\n",
      "\n",
      "90\n",
      "\n",
      "91\n",
      "\n",
      "92\n",
      "\n",
      "93\n",
      "\n",
      "94\n",
      "\n",
      "95\n",
      "\n",
      "96\n",
      "\n",
      "97\n",
      "\n",
      "98\n",
      "\n",
      "99\n",
      "\n",
      "100\n",
      "\n"
     ]
    }
   ],
   "source": [
    "arquivo = open('números.txt', 'r')\n",
    "for linha in arquivo.readlines():\n",
    "    print(linha)\n",
    "arquivo.close()"
   ]
  },
  {
   "cell_type": "markdown",
   "metadata": {},
   "source": [
    "#### Abertura de arquivos com `with`\n",
    "\n",
    "Utilizando o gerenciador de contexto `with` para abrir o arquivo não precisamos nos preocupar em fechar o arquivo! Mas é **IMPORTANTE** lembrar que fora do bloco `with` o arquivo está fechado e, portanto, indisponível. Tudo o que você quiser fazer com o arquivo deve ser feito dentro do bloco `with`"
   ]
  },
  {
   "cell_type": "code",
   "execution_count": null,
   "metadata": {
    "collapsed": true
   },
   "outputs": [],
   "source": [
    "soma = 0\n",
    "\n",
    "with open('números.txt', 'r') as arquivo:\n",
    "    for linha in arquivo.readlines():\n",
    "        soma += int(linha)\n",
    "\n",
    "\n",
    "print(soma)"
   ]
  },
  {
   "cell_type": "markdown",
   "metadata": {},
   "source": [
    "## Exercício 9.1\n",
    "\n",
    "Escreva um código que abra o arquivo números.txt e imprima apenas os números pares até 20\n",
    "\n",
    "*Dica: A função .readlines() retorna todas as linhas do arquivo, uma de cada vez. Já a função .readline() lê apenas uma linha do arquivo e \"pula\" para a próxima linha.*"
   ]
  },
  {
   "cell_type": "code",
   "execution_count": 98,
   "metadata": {},
   "outputs": [
    {
     "name": "stdout",
     "output_type": "stream",
     "text": [
      "2\n",
      "4\n",
      "6\n",
      "8\n",
      "10\n",
      "12\n",
      "14\n",
      "16\n",
      "18\n",
      "20\n"
     ]
    }
   ],
   "source": [
    "with open('números.txt','r') as arquivo:\n",
    "    for linha in arquivo.readlines():\n",
    "        if (int(linha) <= 20) and (int(linha) % 2 == 0):\n",
    "            print(linha.strip())\n",
    "        "
   ]
  },
  {
   "cell_type": "markdown",
   "metadata": {},
   "source": [
    "#### Lendo e processando arquivos separados por vírgula\n",
    "Vamos ler e processar o arquivo **iris.data**. Um clássico em ciência de dados!!!!!\n",
    "\n",
    "Disponível em https://archive.ics.uci.edu/ml/machine-learning-databases/iris/<br\\>\n",
    "Mais informações em https://archive.ics.uci.edu/ml/machine-learning-databases/iris/iris.names\n",
    "\n",
    "O arquivo tem cinco colunas separadas por vírgulas. A estrutura é a seguinte:\n",
    "   1. sepal length in cm\n",
    "   2. sepal width in cm\n",
    "   3. petal length in cm\n",
    "   4. petal width in cm\n",
    "   5. class: \n",
    "      - Iris Setosa\n",
    "      - Iris Versicolour\n",
    "      - Iris Virginica\n",
    "      \n",
    "[Home](#Pós-Graduação-em-Ciência-de-Dados-e-Big-Data-PUC-Minas-Uberlândia)"
   ]
  },
  {
   "cell_type": "code",
   "execution_count": 99,
   "metadata": {},
   "outputs": [
    {
     "name": "stdout",
     "output_type": "stream",
     "text": [
      "[{'sepal_length': 5.1, 'sepal_width': 3.5, 'petal_length': 1.4, 'petal_width': 0.2, 'class': 'Iris-setosa'}, {'sepal_length': 4.9, 'sepal_width': 3.0, 'petal_length': 1.4, 'petal_width': 0.2, 'class': 'Iris-setosa'}, {'sepal_length': 4.7, 'sepal_width': 3.2, 'petal_length': 1.3, 'petal_width': 0.2, 'class': 'Iris-setosa'}, {'sepal_length': 4.6, 'sepal_width': 3.1, 'petal_length': 1.5, 'petal_width': 0.2, 'class': 'Iris-setosa'}, {'sepal_length': 5.0, 'sepal_width': 3.6, 'petal_length': 1.4, 'petal_width': 0.2, 'class': 'Iris-setosa'}]\n"
     ]
    }
   ],
   "source": [
    "def processa_iris(linha):\n",
    "    amostra = {}\n",
    "    linha = linha.split(',') # Converte a string em uma lista separando os dados pela vírgula\n",
    "    amostra['sepal_length'] = float(linha[0])\n",
    "    amostra['sepal_width'] = float(linha[1])\n",
    "    amostra['petal_length'] = float(linha[2])\n",
    "    amostra['petal_width'] = float(linha[3])\n",
    "    amostra['class'] = linha[4]\n",
    "    \n",
    "    return amostra\n",
    "\n",
    "\n",
    "dados = []\n",
    "with open('iris.data') as iris:\n",
    "    for linha in iris.readlines():\n",
    "        linha = linha.strip() # Remove o '\\n' no fim da linha\n",
    "        if linha: # Só processa a linha se existirem dados\n",
    "            dados.append(processa_iris(linha))\n",
    "\n",
    "print(dados[:5])"
   ]
  },
  {
   "cell_type": "markdown",
   "metadata": {},
   "source": [
    "#### Ou então....\n",
    "Utilizando o módulo `csv`"
   ]
  },
  {
   "cell_type": "code",
   "execution_count": null,
   "metadata": {
    "collapsed": true
   },
   "outputs": [],
   "source": [
    "import csv\n",
    "\n",
    "dados = []\n",
    "\n",
    "with open('iris.data') as iris:\n",
    "    linhas = csv.DictReader(iris, fieldnames=['sepal_length','sepal_width','petal_length','petal_width','class'])\n",
    "    for linha in linhas:\n",
    "        for k, v in linha.items():\n",
    "            if k != 'class':\n",
    "                linha[k] = float(v)\n",
    "        dados.append(linha)\n",
    "\n",
    "print(dados[:5])"
   ]
  },
  {
   "cell_type": "markdown",
   "metadata": {},
   "source": [
    "# Exercício 9.2\n",
    "Crie um código que lê o arquivo python-wikipedia.txt e crie um dicionário onde cada chave é uma palavra e cada valor é o número de ocorrências da palavra no arquivo.\n",
    "\n",
    "*Desafio: Não conte as palavras com menos de três letras, faça com o que o código ignore maiúsculas e minúsculas ao contar as palavras e imprima os dados ordenados da palavra mais frequente para a menos frequente*"
   ]
  },
  {
   "cell_type": "code",
   "execution_count": 105,
   "metadata": {},
   "outputs": [
    {
     "name": "stdout",
     "output_type": "stream",
     "text": [
      "python : 23\n",
      "linguagem : 16\n",
      "programação : 3\n",
      "alto : 2\n",
      "nível, : 2\n",
      "interpretada, : 1\n",
      "script, : 1\n",
      "imperativa, : 1\n",
      "orientada : 1\n",
      "objetos, : 2\n",
      "funcional, : 1\n",
      "tipagem : 2\n",
      "dinâmica : 2\n",
      "forte. : 1\n",
      "lançada : 5\n",
      "guido : 5\n",
      "rossum : 2\n",
      "1991. : 1\n",
      "atualmente : 3\n",
      "possui : 3\n",
      "modelo : 4\n",
      "desenvolvimento : 4\n",
      "comunitário, : 1\n",
      "aberto : 1\n",
      "gerenciado : 1\n",
      "pela : 4\n",
      "organização : 2\n",
      "fins : 2\n",
      "lucrativos : 2\n",
      "software : 5\n",
      "foundation. : 2\n",
      "apesar : 1\n",
      "várias : 2\n",
      "partes : 1\n",
      "possuírem : 1\n",
      "padrões : 1\n",
      "especificações : 1\n",
      "formais, : 1\n",
      "como : 10\n",
      "todo : 2\n",
      "formalmente : 1\n",
      "especificada. : 1\n",
      "padrão : 5\n",
      "facto : 1\n",
      "implementação : 1\n",
      "cpython. : 1\n",
      "projetada : 1\n",
      "filosofia : 1\n",
      "enfatizar : 1\n",
      "importância : 1\n",
      "esforço : 2\n",
      "programador : 1\n",
      "sobre : 2\n",
      "computacional. : 1\n",
      "prioriza : 1\n",
      "legibilidade : 1\n",
      "código : 5\n",
      "velocidade : 1\n",
      "expressividade. : 1\n",
      "combina : 1\n",
      "sintaxe : 4\n",
      "concisa : 1\n",
      "clara : 1\n",
      "recursos : 1\n",
      "poderosos : 1\n",
      "biblioteca : 2\n",
      "módulos : 3\n",
      "frameworks : 1\n",
      "desenvolvidos : 1\n",
      "terceiros. : 1\n",
      "propósito : 1\n",
      "geral : 1\n",
      "multi : 1\n",
      "paradigma, : 1\n",
      "suporta : 1\n",
      "paradigma : 1\n",
      "orientado : 2\n",
      "imperativo, : 1\n",
      "funcional : 2\n",
      "procedural. : 1\n",
      "suas : 2\n",
      "principais : 2\n",
      "características : 1\n",
      "permitir : 1\n",
      "fácil : 2\n",
      "leitura : 1\n",
      "exigir : 1\n",
      "poucas : 1\n",
      "linhas : 1\n",
      "comparado : 1\n",
      "mesmo : 3\n",
      "programa : 2\n",
      "outras : 4\n",
      "linguagens. : 1\n",
      "devido : 1\n",
      "características, : 1\n",
      "principalmente : 1\n",
      "utilizada : 2\n",
      "para : 18\n",
      "processamento : 1\n",
      "textos, : 1\n",
      "dados : 2\n",
      "científicos : 1\n",
      "criação : 1\n",
      "cgis : 1\n",
      "páginas : 1\n",
      "dinâmicas : 1\n",
      "web. : 1\n",
      "nome : 4\n",
      "teve : 1\n",
      "origem : 1\n",
      "grupo : 3\n",
      "humorístico : 1\n",
      "britânico : 1\n",
      "monty : 2\n",
      "python, : 2\n",
      "criador : 1\n",
      "python's : 1\n",
      "flying : 1\n",
      "circus, : 1\n",
      "embora : 1\n",
      "muitas : 1\n",
      "pessoas : 1\n",
      "façam : 1\n",
      "associação : 1\n",
      "réptil : 1\n",
      "português, : 1\n",
      "píton : 1\n",
      "pitão). : 1\n",
      "concebido : 1\n",
      "final : 1\n",
      "1989 : 1\n",
      "instituto : 1\n",
      "pesquisa : 1\n",
      "nacional : 1\n",
      "matemática : 1\n",
      "ciência : 1\n",
      "computação : 3\n",
      "(cwi), : 1\n",
      "países : 1\n",
      "baixos, : 1\n",
      "sucessor : 1\n",
      "capaz : 2\n",
      "tratar : 2\n",
      "exceções : 2\n",
      "prover : 1\n",
      "interface : 1\n",
      "sistema : 5\n",
      "operacional : 1\n",
      "amoeba : 1\n",
      "através : 1\n",
      "scripts. : 1\n",
      "também : 5\n",
      "cwi, : 1\n",
      "mais : 4\n",
      "produtiva : 1\n",
      "ainda : 2\n",
      "custo : 1\n",
      "desempenho : 1\n",
      "tempo : 1\n",
      "execução. : 1\n",
      "possuía : 1\n",
      "funcionalidades : 2\n",
      "importantes : 1\n",
      "interação : 1\n",
      "operacional, : 1\n",
      "necessidade : 1\n",
      "grupo. : 1\n",
      "focos : 1\n",
      "primordiais : 1\n",
      "aumentar : 1\n",
      "produtividade : 1\n",
      "programador. : 1\n",
      "feita : 1\n",
      "base : 2\n",
      "abc, : 1\n",
      "parte : 1\n",
      "derivada : 1\n",
      "compreensão : 1\n",
      "listas, : 1\n",
      "funções : 2\n",
      "anonimas : 1\n",
      "função : 1\n",
      "haskell. : 2\n",
      "iteradores : 1\n",
      "baseados : 1\n",
      "icon, : 1\n",
      "tratamentos : 1\n",
      "exceção : 1\n",
      "modula-3, : 2\n",
      "expressões : 1\n",
      "regulares : 1\n",
      "perl. : 1\n",
      "1991, : 1\n",
      "publicou : 1\n",
      "(nomeado : 1\n",
      "versão : 20\n",
      "0.9.0) : 1\n",
      "discussão : 2\n",
      "alt.sources. : 1\n",
      "nessa : 2\n",
      "estavam : 2\n",
      "presentes : 1\n",
      "classes : 2\n",
      "herança, : 1\n",
      "tratamento : 1\n",
      "exceções, : 1\n",
      "tipos : 2\n",
      "dado : 1\n",
      "nativos : 1\n",
      "list, : 1\n",
      "dict, : 1\n",
      "str, : 1\n",
      "assim : 3\n",
      "diante. : 1\n",
      "estava : 3\n",
      "presente : 1\n",
      "emprestado : 1\n",
      "modula-3. : 1\n",
      "lembrava : 1\n",
      "muito : 1\n",
      "adição : 1\n",
      "opção : 1\n",
      "else : 1\n",
      "clause.[6]em : 1\n",
      "1994 : 1\n",
      "formado : 1\n",
      "principal : 1\n",
      "fórum : 1\n",
      "comp.lang.python, : 1\n",
      "marco : 1\n",
      "crescimento : 1\n",
      "usuários : 1\n",
      "linguagem. : 2\n",
      "janeiro : 1\n",
      "1994. : 1\n",
      "novas : 1\n",
      "incluíam : 1\n",
      "ferramentas : 1\n",
      "lambda, : 1\n",
      "map, : 1\n",
      "filter : 1\n",
      "reduce. : 1\n",
      "última : 1\n",
      "enquanto : 1\n",
      "1.2. : 1\n",
      "1995, : 1\n",
      "continuou : 1\n",
      "trabalho : 1\n",
      "cnri : 4\n",
      "reston, : 1\n",
      "estados : 1\n",
      "unidos, : 1\n",
      "onde : 1\n",
      "lançou : 2\n",
      "diversas : 2\n",
      "versões. : 1\n",
      "ganhou : 1\n",
      "parâmetros : 1\n",
      "nomeados : 1\n",
      "capacidade : 1\n",
      "passar : 1\n",
      "parâmetro : 1\n",
      "pelo : 1\n",
      "posição : 1\n",
      "lista : 1\n",
      "parâmetros) : 1\n",
      "suporte : 1\n",
      "nativo : 1\n",
      "números : 1\n",
      "complexos, : 1\n",
      "forma : 2\n",
      "encapsulamento. : 1\n",
      "cnri, : 1\n",
      "iniciativa : 1\n",
      "computer : 1\n",
      "programming : 1\n",
      "everybody : 1\n",
      "(cp4e; : 1\n",
      "literalmente, : 1\n",
      "\"programação : 1\n",
      "computadores : 1\n",
      "todos\"), : 1\n",
      "visava : 1\n",
      "tornar : 1\n",
      "acessível, : 1\n",
      "projeto : 1\n",
      "financiado : 1\n",
      "darpa.[8] : 1\n",
      "cp4e : 1\n",
      "encontra-se : 1\n",
      "inativo. : 1\n",
      "2000, : 1\n",
      "time : 2\n",
      "mudou : 1\n",
      "beopen : 3\n",
      "formar : 1\n",
      "pythonlabs. : 1\n",
      "pediu : 1\n",
      "fosse : 1\n",
      "lançada, : 1\n",
      "marcar : 1\n",
      "naquele : 1\n",
      "local. : 1\n",
      "único : 1\n",
      "lançamento : 4\n",
      "2.0, : 1\n",
      "após : 1\n",
      "desenvolvedores : 1\n",
      "pythonlabs : 1\n",
      "agrupou-se : 1\n",
      "digital : 1\n",
      "creations. : 1\n",
      "implementou : 1\n",
      "list : 1\n",
      "comprehension, : 1\n",
      "relevante : 1\n",
      "funcionalidade : 2\n",
      "linguagens : 3\n",
      "funcionais : 1\n",
      "setl : 1\n",
      "essa : 3\n",
      "construção : 1\n",
      "bastante : 1\n",
      "similar : 1\n",
      "haskell, : 1\n",
      "exceto : 2\n",
      "preferência : 2\n",
      "haskell : 1\n",
      "caracteres : 1\n",
      "pontuação : 1\n",
      "palavras : 1\n",
      "reservadas : 1\n",
      "alfabéticas. : 1\n",
      "introduziu : 1\n",
      "coletor : 1\n",
      "lixo : 1\n",
      "identificar : 1\n",
      "ciclos : 1\n",
      "referências. : 1\n",
      "incluiu : 2\n",
      "licença : 7\n",
      "substancialmente : 1\n",
      "longa : 1\n",
      "usando : 1\n",
      "versões : 3\n",
      "anteriores. : 2\n",
      "entre : 3\n",
      "mudanças, : 1\n",
      "incluía : 1\n",
      "cláusula : 1\n",
      "atestando : 1\n",
      "governada : 1\n",
      "pelas : 1\n",
      "leis : 1\n",
      "virgínia. : 1\n",
      "free : 1\n",
      "foundation : 3\n",
      "alegou : 1\n",
      "isso : 2\n",
      "incompatível : 1\n",
      "gpl. : 3\n",
      "tanto : 1\n",
      "quanto : 1\n",
      "negociaram : 1\n",
      "mudança : 3\n",
      "livre : 1\n",
      "tornaria : 1\n",
      "compatível : 2\n",
      "1.6.1 : 2\n",
      "idêntico : 1\n",
      "1.6.0, : 1\n",
      "pequenas : 1\n",
      "correções : 1\n",
      "falhas : 2\n",
      "nova, : 1\n",
      "parecido : 1\n",
      "2.0. : 1\n",
      "renomeada : 1\n",
      "license. : 1\n",
      "código, : 1\n",
      "documentação : 1\n",
      "especificação : 2\n",
      "desde : 2\n",
      "alfa : 2\n",
      "propriedade : 1\n",
      "(psf), : 1\n",
      "fundada : 1\n",
      "2001, : 1\n",
      "qual : 1\n",
      "apache : 1\n",
      "suportar : 1\n",
      "escopo : 2\n",
      "aninhado, : 1\n",
      "estático. : 1\n",
      "esta : 1\n",
      "desativada : 1\n",
      "padrão, : 2\n",
      "somente : 2\n",
      "requerida : 1\n",
      "2.2. : 1\n",
      "grande : 1\n",
      "inovação : 1\n",
      "unificação : 1\n",
      "(escritos : 1\n",
      "(escritas : 1\n",
      "python) : 1\n",
      "hierarquia. : 1\n",
      "isto : 1\n",
      "tornou : 2\n",
      "objetos : 1\n",
      "consistentemente : 1\n",
      "objeto. : 1\n",
      "adicionado : 1\n",
      "generator, : 1\n",
      "inspirado : 1\n",
      "icon. : 1\n",
      "incremento : 1\n",
      "escolhas : 1\n",
      "sintáticas : 1\n",
      "foram : 4\n",
      "fortemente : 1\n",
      "influenciadas : 1\n",
      "java : 1\n",
      "alguns : 1\n",
      "casos: : 1\n",
      "pacote : 1\n",
      "logging[14] : 1\n",
      "introduzido : 2\n",
      "2.3, : 1\n",
      "analisador : 1\n",
      "sintático : 1\n",
      "sax, : 1\n",
      "decoradores : 1\n",
      "adicionadas : 1\n",
      "2.4. : 1\n",
      "outubro : 1\n",
      "2008 : 1\n",
      "2.6, : 2\n",
      "visando : 1\n",
      "transição : 1\n",
      "modificações, : 1\n",
      "incluídas : 1\n",
      "bibliotecas : 1\n",
      "multiprocessamento, : 1\n",
      "json : 1\n",
      "e/s, : 1\n",
      "além : 1\n",
      "nova : 1\n",
      "formatação : 1\n",
      "cadeias : 2\n",
      "caracteres. : 2\n",
      "usada : 1\n",
      "áreas, : 1\n",
      "servidores : 1\n",
      "aplicação : 1\n",
      "gráfica. : 1\n",
      "está : 2\n",
      "disponível : 2\n",
      "script : 1\n",
      "aplicações : 1\n",
      "openoffice : 1\n",
      "(python : 1\n",
      "bridge), : 1\n",
      "blender : 1\n",
      "pode : 1\n",
      "procedimentos : 1\n",
      "armazenados : 1\n",
      "gerenciador : 1\n",
      "banco : 1\n",
      "postgresql : 1\n",
      "(pl/python). : 1\n",
      "terceira : 1\n",
      "dezembro : 2\n",
      "2008, : 1\n",
      "chamada : 1\n",
      "3000. : 1\n",
      "noticiado : 1\n",
      "antes : 1\n",
      "lançamento, : 1\n",
      "houve : 1\n",
      "quebra : 1\n",
      "compatibilidade : 1\n",
      "família : 1\n",
      "corrigir : 1\n",
      "descobertas : 1\n",
      "neste : 1\n",
      "limpar : 1\n",
      "excessos : 1\n",
      "primeira : 1\n",
      "agosto : 1\n",
      "2007, : 1\n",
      "segunda : 1\n",
      "ano. : 1\n",
      "mudanças : 1\n",
      "incluem : 1\n",
      "alteração : 1\n",
      "palavra : 1\n",
      "reservada : 1\n",
      "print, : 1\n",
      "passa : 1\n",
      "função, : 1\n",
      "tornando : 1\n",
      "utilização : 1\n",
      "alternativa : 1\n",
      "rotina. : 1\n",
      "adicionar : 1\n",
      "from : 1\n",
      "__future__ : 1\n",
      "import : 1\n",
      "print_function. : 1\n",
      "também, : 1\n",
      "unicode : 1\n",
      "todas : 1\n",
      "2012, : 1\n",
      "criado : 1\n",
      "raspberry : 1\n",
      "cujo : 1\n",
      "baseado : 1\n",
      "python. : 3\n",
      "escolhidas : 1\n",
      "influenciou : 1\n",
      "linguagens, : 1\n",
      "algumas : 1\n",
      "delas : 1\n",
      "cobra, : 1\n",
      "indentação : 1\n",
      "definição : 1\n",
      "bloco : 1\n",
      "baseia : 1\n",
      "princípios : 1\n",
      "rápido : 1\n",
      "atualmente, : 1\n",
      "componentes : 1\n",
      "vários : 1\n",
      "sistemas : 1\n",
      "operacionais, : 1\n",
      "eles : 1\n",
      "estão : 1\n",
      "maioria : 1\n",
      "distribuições : 1\n",
      "linux, : 1\n",
      "amigaos : 1\n",
      "freebsd, : 1\n",
      "netbsd, : 1\n",
      "openbsd : 1\n",
      "curso : 1\n",
      "ciências : 1\n",
      "2009 : 1\n"
     ]
    }
   ],
   "source": [
    "contador = {}\n",
    "with open(\"python-wikipedia.txt\") as arquivo:\n",
    "    for linha in arquivo.readlines():\n",
    "        for palavra in linha.lower().split():\n",
    "            if len(palavra) > 3:\n",
    "                contador[palavra]  = contador.get(palavra, 0) + 1\n",
    "                \n",
    "    for key, values in contador.items():\n",
    "        print(key, \":\", values)"
   ]
  },
  {
   "cell_type": "markdown",
   "metadata": {},
   "source": [
    "### 9.2. Acessando bancos de dados\n",
    "\n",
    "Um banco de dados armazena os dados em tabelas onde cada coluna é chamada de campo e cada linha é chamada de registro. Em um banco de dados os dados são acessados com uma linguagem específica: SQL. Python possui módulos para acessar os mais diversos bancos de dados mas aqui vamos nos concentrar no SQLite que já vem integrado ao Python.\n",
    "\n",
    "#### SQLite\n",
    "\n",
    "SQLite é um gerenciador de banco de dados leve e completo muito utilizado e presente inclusive em celulares. Sua principal vantagem é não precisar de um servidor dedicado e o programa que você está desenvolvendo pode criar o banco, as tabelas e transacionar dados nelas!\n",
    "\n",
    "Vamos criar um código para ler um arquivo CSV, conectar ao SQLite, criar um banco, uma tabela e inserir os dados do CSV nessa tabela.\n",
    "\n",
    "Arquivo e descrição em https://wiki.csc.calpoly.edu/datasets/wiki/Houses\n",
    "\n",
    "[Home](#Pós-Graduação-em-Ciência-de-Dados-e-Big-Data-PUC-Minas-Uberlândia)"
   ]
  },
  {
   "cell_type": "code",
   "execution_count": 106,
   "metadata": {
    "collapsed": true
   },
   "outputs": [],
   "source": [
    "import sqlite3\n",
    "\n",
    "with open('RealEstate.csv', 'r') as arquivo:\n",
    "    dados = arquivo.read().split('\\n') # Cria uma lista onde cada linha é um elemento\n",
    "del dados[0] # Remove o primeiro item da lista que é só os nomes das colunas\n",
    "del dados[-1] # Remove o último item da lista que é apenas um \\n\n",
    "\n",
    "def processa_dados(dado):\n",
    "    alterado = dado.split(',')\n",
    "    alterado[0] = int(alterado[0])\n",
    "    alterado[2] = float(alterado[2])\n",
    "    alterado[3] = int(alterado[3])\n",
    "    alterado[4] = int(alterado[4])\n",
    "    alterado[5] = float(alterado[5])\n",
    "    alterado[6] = float(alterado[6])\n",
    "    \n",
    "    return alterado\n",
    "\n",
    "\n",
    "for i, dado in enumerate(dados): #enumerate retorna a posição do elemento e o valor da lista\n",
    "    if dado:\n",
    "        dados[i] = processa_dados(dado)\n",
    "    \n",
    "\n",
    "conexão = sqlite3.connect('realestate.db') # Cria uma conexão com o banco. Se ele não existir é criado.\n",
    "cursor = conexão.cursor() # O cursor que irá \"navegar\" pelo banco executando comandos SQL\n",
    "# Cria a tabela housing\n",
    "cursor.execute(\"\"\"\n",
    "CREATE TABLE housing (\n",
    "    mls INTEGER,\n",
    "    location TEXT,\n",
    "    price REAL,\n",
    "    bedrooms INTEGER,\n",
    "    bathrooms INTEGER,\n",
    "    size REAL,\n",
    "    price_per_sq_ft REAL,\n",
    "    status TEXT)\"\"\")\n",
    "# Insere os dados\n",
    "for dado in dados:\n",
    "    if dado:\n",
    "        cursor.execute(\"\"\"\n",
    "        INSERT INTO HOUSING\n",
    "        VALUES (?, ?, ?, ?, ?, ?, ?, ?)\"\"\", dado)\n",
    "\n",
    "conexão.commit()\n",
    "cursor.close()\n",
    "conexão.close()"
   ]
  },
  {
   "cell_type": "markdown",
   "metadata": {},
   "source": [
    "Da forma que fizemos acima o código executa um INSERT para cada linha da tabela.\n",
    "\n",
    "#### E se quisermos inserir muitos dados de uma só vez?\n",
    "\n",
    "Este é um processo mais rápido e deve ser preferido se for necessário inserir vários dados"
   ]
  },
  {
   "cell_type": "code",
   "execution_count": 107,
   "metadata": {
    "collapsed": true
   },
   "outputs": [],
   "source": [
    "conexão = sqlite3.connect('realestate.db') # Cria uma conexão com o banco. Se ele não existir é criado.\n",
    "cursor = conexão.cursor() # O cursor que irá \"navegar\" pelo banco executando comandos SQL\n",
    "# Como a tabela já existe vamos apagá-la para criar novamente do zero\n",
    "cursor.execute(\"DROP TABLE housing\")\n",
    "\n",
    "\n",
    "# Cria a tabela housing\n",
    "cursor.execute(\"\"\"\n",
    "CREATE TABLE housing (\n",
    "    mls INTEGER,\n",
    "    location TEXT,\n",
    "    price REAL,\n",
    "    bedrooms INTEGER,\n",
    "    bathrooms INTEGER,\n",
    "    size REAL,\n",
    "    price_per_sq_ft REAL,\n",
    "    status TEXT)\"\"\")\n",
    "# Insere os dados\n",
    "cursor.executemany(\"\"\"\n",
    "INSERT INTO HOUSING\n",
    "VALUES (?, ?, ?, ?, ?, ?, ?, ?)\"\"\", dados)\n",
    "\n",
    "conexão.commit()\n",
    "cursor.close()\n",
    "conexão.close()"
   ]
  },
  {
   "cell_type": "markdown",
   "metadata": {},
   "source": [
    "#### Agora vamos ler dados do banco\n",
    "Vamos ler os dados que acabamos de gravar no banco"
   ]
  },
  {
   "cell_type": "code",
   "execution_count": 108,
   "metadata": {},
   "outputs": [
    {
     "name": "stdout",
     "output_type": "stream",
     "text": [
      "Location            Price     Status    \n",
      "––––––––––––––––––––––––––––––––––––––––\n",
      "Arroyo Grande       795000.0  Short Sale\n",
      "Paso Robles         399000.0  Short Sale\n",
      "Paso Robles         545000.0  Short Sale\n",
      "Morro Bay           909000.0  Short Sale\n",
      "Santa Maria-Orcutt  109900.0  Short Sale\n",
      "Oceano              324900.0  Short Sale\n",
      "Santa Maria-Orcutt  192900.0  Short Sale\n",
      "Santa Maria-Orcutt  215000.0  Short Sale\n",
      "Morro Bay           999000.0  Short Sale\n",
      "Atascadero          319000.0  Short Sale\n",
      "Santa Maria-Orcutt  350000.0  Short Sale\n",
      "Santa Maria-Orcutt  249000.0  Short Sale\n",
      "Arroyo Grande       299000.0  Short Sale\n",
      "Santa Maria-Orcutt  235900.0  Short Sale\n",
      "Santa Maria-Orcutt  348000.0  Short Sale\n",
      "Paso Robles         314000.0  Short Sale\n",
      "Los Alamos          399000.0  Short Sale\n",
      "San Miguel          599000.0  Short Sale\n",
      "Paso Robles         299000.0  Short Sale\n",
      "San Luis Obispo     425000.0  Short Sale\n",
      "Morro Bay           1100000.0 Short Sale\n",
      "Cayucos             1500000.0 Short Sale\n",
      "Santa Maria-Orcutt  110000.0  Short Sale\n",
      "Santa Maria-Orcutt  200000.0  Short Sale\n",
      "Santa Maria-Orcutt  134900.0  Short Sale\n",
      "Santa Maria-Orcutt  250000.0  Short Sale\n",
      "Pismo Beach         950000.0  Short Sale\n",
      "Santa Maria-Orcutt  239950.0  Short Sale\n",
      "Santa Maria-Orcutt  170000.0  Short Sale\n",
      "Santa Maria-Orcutt  285000.0  Short Sale\n",
      "Santa Maria-Orcutt  279000.0  Short Sale\n",
      "Santa Maria-Orcutt  219000.0  Short Sale\n",
      "Santa Maria-Orcutt  155000.0  Short Sale\n",
      "Atascadero          389000.0  Short Sale\n",
      "Nipomo              340000.0  Short Sale\n",
      "Guadalupe           95000.0   Short Sale\n",
      "Santa Maria-Orcutt  140000.0  Short Sale\n",
      "Pismo Beach         1100000.0 Short Sale\n",
      "Santa Maria-Orcutt  360000.0  Short Sale\n",
      "Morro Bay           415000.0  Short Sale\n",
      "Santa Maria-Orcutt  250000.0  Short Sale\n",
      "Santa Maria-Orcutt  559000.0  Short Sale\n",
      "Nipomo              525000.0  Short Sale\n",
      "Los Osos            779000.0  Short Sale\n",
      "Arroyo Grande       595000.0  Short Sale\n",
      "Templeton           1150000.0 Short Sale\n",
      "Templeton           550000.0  Short Sale\n",
      "Grover Beach        500000.0  Short Sale\n",
      "Santa Maria-Orcutt  279000.0  Short Sale\n",
      "Santa Maria-Orcutt  375000.0  Short Sale\n",
      "Santa Maria-Orcutt  330000.0  Short Sale\n",
      "Santa Maria-Orcutt  199000.0  Short Sale\n",
      "Santa Maria-Orcutt  165000.0  Short Sale\n",
      "Templeton           1399000.0 Foreclosure\n",
      "Santa Maria-Orcutt  255000.0  Short Sale\n",
      "Cambria             325000.0  Short Sale\n",
      "Morro Bay           789000.0  Foreclosure\n",
      "Nipomo              498000.0  Short Sale\n",
      "Nipomo              430000.0  Short Sale\n",
      "Paso Robles         539900.0  Short Sale\n",
      "Pismo Beach         499000.0  Short Sale\n",
      "Los Osos            275000.0  Short Sale\n",
      "Santa Maria-Orcutt  499000.0  Short Sale\n",
      "Morro Bay           899000.0  Foreclosure\n",
      "Morro Bay           1045000.0 Foreclosure\n",
      "Morro Bay           774000.0  Foreclosure\n",
      "Santa Maria-Orcutt  239000.0  Short Sale\n",
      "Santa Maria-Orcutt  195000.0  Short Sale\n",
      "Grover Beach        325000.0  Short Sale\n",
      "Nipomo              320000.0  Short Sale\n",
      "Santa Maria-Orcutt  275000.0  Short Sale\n",
      "Paso Robles         329000.0  Short Sale\n",
      "Santa Maria-Orcutt  140000.0  Short Sale\n",
      "Paso Robles         409000.0  Short Sale\n",
      "Santa Maria-Orcutt  167900.0  Foreclosure\n",
      "Nipomo              325000.0  Short Sale\n",
      "Santa Maria-Orcutt  119000.0  Short Sale\n",
      "Santa Maria-Orcutt  245000.0  Short Sale\n",
      "Santa Maria-Orcutt  259900.0  Short Sale\n",
      "Arroyo Grande       495000.0  Short Sale\n",
      "San Luis Obispo     399000.0  Short Sale\n",
      "Santa Maria-Orcutt  329700.0  Short Sale\n",
      "Atascadero          199000.0  Short Sale\n",
      "Santa Maria-Orcutt  149000.0  Short Sale\n",
      "Paso Robles         225000.0  Short Sale\n",
      "Santa Maria-Orcutt  195000.0  Short Sale\n",
      "Paso Robles         359900.0  Short Sale\n",
      "Templeton           799000.0  Short Sale\n",
      "San Luis Obispo     595000.0  Short Sale\n",
      "Paso Robles         89000.0   Short Sale\n",
      "Santa Maria-Orcutt  129900.0  Short Sale\n",
      "Los Osos            375000.0  Short Sale\n",
      "Atascadero          599000.0  Short Sale\n",
      "Paso Robles         235000.0  Short Sale\n",
      "Santa Maria-Orcutt  255900.0  Foreclosure\n",
      "Santa Maria-Orcutt  148900.0  Short Sale\n",
      "Arroyo Grande       749000.0  Short Sale\n",
      "Santa Maria-Orcutt  189900.0  Foreclosure\n",
      "Paso Robles         183000.0  Short Sale\n",
      "Santa Maria-Orcutt  232600.0  Short Sale\n",
      "Cambria             520000.0  Short Sale\n",
      "Solvang             355000.0  Foreclosure\n",
      "Pismo Beach         275000.0  Short Sale\n",
      "Santa Maria-Orcutt  225000.0  Short Sale\n",
      "Santa Maria-Orcutt  161900.0  Short Sale\n",
      "Santa Maria-Orcutt  249999.0  Short Sale\n",
      "Santa Maria-Orcutt  208000.0  Short Sale\n",
      "Guadalupe           135000.0  Short Sale\n",
      "San Luis Obispo     385000.0  Short Sale\n",
      "Atascadero          750000.0  Foreclosure\n",
      "Atascadero          810000.0  Foreclosure\n",
      "Atascadero          890000.0  Foreclosure\n",
      "Atascadero          895000.0  Foreclosure\n",
      "San Miguel          229900.0  Short Sale\n",
      "Grover Beach        240000.0  Short Sale\n",
      "Atascadero          429000.0  Foreclosure\n",
      "Santa Maria-Orcutt  399000.0  Short Sale\n",
      "Santa Maria-Orcutt  385000.0  Short Sale\n",
      "Paso Robles         294900.0  Foreclosure\n",
      "Paso Robles         399000.0  Short Sale\n",
      "Santa Maria-Orcutt  269000.0  Short Sale\n",
      "Cambria             449000.0  Short Sale\n",
      "Arroyo Grande       555900.0  Foreclosure\n",
      "Paso Robles         319900.0  Foreclosure\n",
      "Cambria             332000.0  Foreclosure\n",
      "Bradley             499000.0  Short Sale\n",
      "Paso Robles         432000.0  Short Sale\n",
      "Arroyo Grande       199000.0  Short Sale\n",
      "Santa Maria-Orcutt  29000.0   Foreclosure\n",
      "Atascadero          299000.0  Short Sale\n",
      "Santa Maria-Orcutt  259000.0  Short Sale\n",
      "Los Osos            99000.0   Short Sale\n",
      "Avila Beach         779000.0  Foreclosure\n",
      "Avila Beach         839000.0  Foreclosure\n",
      "Santa Ynez          525000.0  Short Sale\n",
      "Santa Ynez          795000.0  Short Sale\n",
      "Santa Maria-Orcutt  337000.0  Short Sale\n",
      "Oceano              164900.0  Foreclosure\n",
      "San Luis Obispo     449000.0  Short Sale\n",
      "Guadalupe           94000.0   Foreclosure\n",
      "Pismo Beach         899000.0  Short Sale\n",
      "Santa Maria-Orcutt  180000.0  Short Sale\n",
      "Bradley             194900.0  Foreclosure\n",
      "Los Osos            350000.0  Short Sale\n",
      "King City           167770.0  Foreclosure\n",
      "Creston             309900.0  Foreclosure\n",
      "Templeton           479000.0  Short Sale\n",
      "Los Alamos          350000.0  Short Sale\n",
      "Grover Beach        350000.0  Short Sale\n",
      "Santa Maria-Orcutt  275000.0  Short Sale\n",
      "Paso Robles         379000.0  Short Sale\n",
      "King City           155900.0  Foreclosure\n",
      "San Miguel          229000.0  Short Sale\n",
      "Pismo Beach         604995.0  Foreclosure\n",
      "Pismo Beach         599000.0  Short Sale\n",
      "Morro Bay           359000.0  Short Sale\n",
      "Lompoc              199000.0  Foreclosure\n",
      "Paso Robles         164900.0  Short Sale\n",
      "Coalinga            179000.0  Short Sale\n",
      "Paso Robles         370000.0  Short Sale\n",
      "Santa Ynez          999000.0  Short Sale\n",
      "Paso Robles         365000.0  Short Sale\n",
      "San Miguel          345000.0  Short Sale\n",
      "Paso Robles         299000.0  Short Sale\n",
      "Pismo Beach         519500.0  Short Sale\n",
      "Buellton            645000.0  Short Sale\n",
      "Santa Maria-Orcutt  242500.0  Foreclosure\n",
      "Santa Maria-Orcutt  259900.0  Short Sale\n",
      "Santa Maria-Orcutt  310000.0  Short Sale\n",
      "Atascadero          450000.0  Short Sale\n",
      "Santa Maria-Orcutt  220000.0  Short Sale\n",
      "San Luis Obispo     585000.0  Short Sale\n",
      "Santa Maria-Orcutt  324000.0  Short Sale\n",
      "Cambria             375000.0  Short Sale\n",
      "Paso Robles         329000.0  Short Sale\n",
      "Paso Robles         599900.0  Foreclosure\n",
      "Santa Maria-Orcutt  74900.0   Short Sale\n",
      "Los Osos            285000.0  Short Sale\n",
      "Santa Maria-Orcutt  751900.0  Foreclosure\n",
      "Santa Maria-Orcutt  295000.0  Short Sale\n",
      "Coalinga            170000.0  Short Sale\n",
      "Santa Maria-Orcutt  197000.0  Short Sale\n",
      "Oceano              1250000.0 Short Sale\n",
      "Paso Robles         249000.0  Short Sale\n",
      "Nipomo              179000.0  Short Sale\n",
      "Santa Maria-Orcutt  132000.0  Short Sale\n",
      "Lockwood            425000.0  Short Sale\n",
      "Santa Maria-Orcutt  290000.0  Short Sale\n",
      "Los Osos            150000.0  Short Sale\n",
      "Los Osos            150000.0  Short Sale\n",
      "Los Osos            150000.0  Short Sale\n",
      "Los Osos            150000.0  Short Sale\n",
      "Los Osos            150000.0  Short Sale\n",
      "Los Osos            205000.0  Short Sale\n",
      "Atascadero          599000.0  Short Sale\n",
      "Paso Robles         269000.0  Short Sale\n",
      "Santa Maria-Orcutt  249000.0  Short Sale\n",
      "Santa Maria-Orcutt  235000.0  Short Sale\n",
      "Grover Beach        469000.0  Foreclosure\n",
      "Nipomo              159000.0  Short Sale\n",
      "King City           69900.0   Foreclosure\n",
      "Arroyo Grande       1499000.0 Short Sale\n",
      "Atascadero          239000.0  Short Sale\n",
      "Atascadero          399500.0  Short Sale\n",
      "Paso Robles         299900.0  Foreclosure\n",
      "Lompoc              275000.0  Short Sale\n",
      "Morro Bay           395000.0  Short Sale\n",
      "Santa Maria-Orcutt  105000.0  Short Sale\n",
      "Santa Maria-Orcutt  179999.0  Short Sale\n",
      "Santa Maria-Orcutt  219000.0  Short Sale\n",
      "Solvang             325000.0  Short Sale\n",
      "Atascadero          829900.0  Short Sale\n",
      "Santa Maria-Orcutt  165000.0  Short Sale\n",
      "Santa Maria-Orcutt  179000.0  Short Sale\n",
      "Paso Robles         279000.0  Short Sale\n",
      "Atascadero          820000.0  Foreclosure\n",
      "Paso Robles         399000.0  Short Sale\n",
      "San Miguel          164900.0  Short Sale\n",
      "Santa Maria-Orcutt  235000.0  Short Sale\n",
      "Arroyo Grande       1900000.0 Short Sale\n",
      "Nipomo              289000.0  Short Sale\n",
      "Paso Robles         355000.0  Short Sale\n",
      "Santa Maria-Orcutt  199000.0  Short Sale\n",
      "Santa Maria-Orcutt  209000.0  Short Sale\n",
      "Lompoc              186900.0  Foreclosure\n",
      "Santa Maria-Orcutt  240000.0  Short Sale\n",
      "Nipomo              515000.0  Short Sale\n",
      "Santa Maria-Orcutt  215000.0  Short Sale\n",
      "Santa Maria-Orcutt  399900.0  Short Sale\n",
      "Paso Robles         369000.0  Short Sale\n",
      "Paso Robles         250000.0  Short Sale\n",
      "Paso Robles         259000.0  Short Sale\n",
      "Santa Maria-Orcutt  180000.0  Short Sale\n",
      "Solvang             399900.0  Short Sale\n",
      "Arroyo Grande       385000.0  Short Sale\n",
      "Santa Maria-Orcutt  154000.0  Short Sale\n",
      "San Luis Obispo     254900.0  Foreclosure\n",
      "Paso Robles         315000.0  Short Sale\n",
      "Santa Maria-Orcutt  437500.0  Short Sale\n",
      "Santa Maria-Orcutt  299900.0  Short Sale\n",
      "Arroyo Grande       399000.0  Short Sale\n",
      "Paso Robles         330000.0  Short Sale\n",
      "Arroyo Grande       279000.0  Short Sale\n",
      "Santa Maria-Orcutt  248000.0  Short Sale\n",
      "Santa Maria-Orcutt  209000.0  Short Sale\n",
      "Los Osos            729000.0  Short Sale\n",
      "Atascadero          454500.0  Foreclosure\n",
      "Paso Robles         249000.0  Short Sale\n",
      "Nipomo              1700000.0 Short Sale\n",
      "Grover Beach        349000.0  Short Sale\n",
      "Grover Beach        575000.0  Short Sale\n",
      "Santa Maria-Orcutt  185000.0  Short Sale\n",
      "Santa Maria-Orcutt  165000.0  Short Sale\n",
      "Morro Bay           311900.0  Foreclosure\n",
      "Santa Maria-Orcutt  175000.0  Short Sale\n",
      "Lompoc              180000.0  Short Sale\n",
      "Santa Maria-Orcutt  78000.0   Short Sale\n",
      "Oceano              142900.0  Foreclosure\n",
      "Atascadero          850000.0  Foreclosure\n",
      "Paso Robles         389000.0  Short Sale\n",
      "Santa Maria-Orcutt  641900.0  Foreclosure\n",
      "Templeton           305000.0  Short Sale\n",
      "Paso Robles         260000.0  Short Sale\n",
      "Paso Robles         320000.0  Short Sale\n",
      "Atascadero          199000.0  Short Sale\n",
      "Santa Maria-Orcutt  299000.0  Short Sale\n",
      "Buellton            289000.0  Short Sale\n",
      "Santa Maria-Orcutt  229900.0  Short Sale\n",
      "Atascadero          865000.0  Foreclosure\n",
      "Atascadero          900000.0  Short Sale\n",
      "Atascadero          199000.0  Short Sale\n",
      "Santa Maria-Orcutt  160000.0  Short Sale\n",
      "Santa Maria-Orcutt  299000.0  Short Sale\n",
      "Oceano              300000.0  Short Sale\n",
      "Santa Maria-Orcutt  270000.0  Short Sale\n",
      "Nipomo              490000.0  Short Sale\n",
      "Santa Maria-Orcutt  295000.0  Short Sale\n",
      "Paso Robles         225000.0  Short Sale\n",
      "Atascadero          324900.0  Short Sale\n",
      "Santa Maria-Orcutt  165000.0  Short Sale\n",
      "Santa Maria-Orcutt  157900.0  Short Sale\n",
      "Nipomo              299000.0  Short Sale\n",
      "Paso Robles         369000.0  Short Sale\n",
      "Santa Maria-Orcutt  233000.0  Short Sale\n",
      "Santa Maria-Orcutt  109900.0  Foreclosure\n",
      "Paso Robles         309000.0  Short Sale\n",
      "Pismo Beach         1799000.0 Foreclosure\n",
      "Santa Maria-Orcutt  209900.0  Short Sale\n",
      "Solvang             499000.0  Short Sale\n",
      "Arroyo Grande       525000.0  Short Sale\n",
      "Los Osos            650000.0  Short Sale\n",
      "Morro Bay           529000.0  Short Sale\n",
      "Santa Maria-Orcutt  179000.0  Short Sale\n",
      "Lompoc              282000.0  Short Sale\n",
      "Templeton           899000.0  Short Sale\n",
      "Santa Maria-Orcutt  130000.0  Short Sale\n",
      "Santa Maria-Orcutt  205000.0  Short Sale\n",
      "Santa Maria-Orcutt  180900.0  Short Sale\n",
      "Atascadero          409900.0  Short Sale\n",
      "Atascadero          409900.0  Short Sale\n",
      "Grover Beach        469000.0  Short Sale\n",
      "Arroyo Grande       289000.0  Short Sale\n",
      "Santa Maria-Orcutt  99999.0   Short Sale\n",
      "Santa Maria-Orcutt  445000.0  Foreclosure\n",
      "Atascadero          640000.0  Short Sale\n",
      "San Miguel          185000.0  Short Sale\n",
      "Santa Maria-Orcutt  210000.0  Short Sale\n",
      "Santa Maria-Orcutt  199900.0  Short Sale\n",
      "Santa Maria-Orcutt  225000.0  Short Sale\n",
      "Paso Robles         369900.0  Foreclosure\n",
      "Santa Maria-Orcutt  120000.0  Short Sale\n",
      "Paso Robles         199000.0  Short Sale\n",
      "Arroyo Grande       520000.0  Short Sale\n",
      "Paso Robles         579000.0  Foreclosure\n",
      "Santa Maria-Orcutt  300000.0  Short Sale\n",
      "Arroyo Grande       325000.0  Short Sale\n",
      "Santa Maria-Orcutt  225000.0  Short Sale\n",
      "Atascadero          395000.0  Short Sale\n",
      "Santa Maria-Orcutt  399000.0  Short Sale\n",
      "Lompoc              165000.0  Short Sale\n",
      "Arroyo Grande       374900.0  Short Sale\n",
      "Santa Maria-Orcutt  199900.0  Short Sale\n",
      "Arroyo Grande       365000.0  Short Sale\n",
      "Santa Maria-Orcutt  222900.0  Short Sale\n",
      "Los Osos            249900.0  Foreclosure\n",
      "Paso Robles         290000.0  Short Sale\n",
      "Santa Maria-Orcutt  170500.0  Short Sale\n",
      "Atascadero          560000.0  Short Sale\n",
      "Nipomo              339900.0  Short Sale\n",
      "Nipomo              550000.0  Short Sale\n",
      "San Miguel          269900.0  Short Sale\n",
      "Paso Robles         350000.0  Short Sale\n",
      "Los Osos            214000.0  Foreclosure\n",
      "Santa Maria-Orcutt  299900.0  Short Sale\n",
      "Nipomo              139500.0  Foreclosure\n",
      "Lompoc              360000.0  Short Sale\n",
      "Paso Robles         315000.0  Short Sale\n",
      "Paso Robles         279900.0  Foreclosure\n",
      "Paso Robles         399000.0  Short Sale\n",
      "Atascadero          475000.0  Short Sale\n",
      "Santa Maria-Orcutt  65900.0   Foreclosure\n",
      "Coalinga            212000.0  Short Sale\n",
      "San Miguel          180000.0  Short Sale\n",
      "Santa Maria-Orcutt  210000.0  Short Sale\n",
      "Buellton            375000.0  Short Sale\n",
      "Atascadero          106900.0  Foreclosure\n",
      "Paso Robles         221830.0  Short Sale\n",
      "Nipomo              239000.0  Short Sale\n",
      "Atascadero          187500.0  Short Sale\n",
      "Los Alamos          445000.0  Short Sale\n",
      "Santa Maria-Orcutt  309000.0  Short Sale\n",
      "Santa Maria-Orcutt  315000.0  Short Sale\n",
      "Santa Maria-Orcutt  191100.0  Foreclosure\n",
      "Cambria             699900.0  Foreclosure\n",
      "Nipomo              189500.0  Short Sale\n",
      "Santa Maria-Orcutt  199000.0  Short Sale\n",
      "Santa Maria-Orcutt  359000.0  Short Sale\n",
      "Atascadero          264450.0  Short Sale\n",
      "Templeton           459000.0  Short Sale\n",
      "Santa Maria-Orcutt  150000.0  Short Sale\n",
      "Pismo Beach         875000.0  Short Sale\n",
      "Pismo Beach         599000.0  Short Sale\n",
      "Atascadero          250000.0  Short Sale\n",
      "Lompoc              165000.0  Short Sale\n",
      "Santa Maria-Orcutt  229900.0  Short Sale\n",
      "Santa Maria-Orcutt  229900.0  Short Sale\n",
      "Paso Robles         269900.0  Short Sale\n",
      "Santa Maria-Orcutt  245000.0  Short Sale\n",
      "Santa Maria-Orcutt  165000.0  Short Sale\n",
      "Lompoc              429000.0  Short Sale\n",
      "Santa Maria-Orcutt  309900.0  Short Sale\n",
      "Arroyo Grande       265000.0  Foreclosure\n",
      "Santa Maria-Orcutt  169900.0  Short Sale\n",
      "Santa Maria-Orcutt  380900.0  Short Sale\n",
      "Santa Maria-Orcutt  315000.0  Short Sale\n",
      "Lompoc              260000.0  Short Sale\n",
      "Santa Maria-Orcutt  119900.0  Short Sale\n",
      "Santa Maria-Orcutt  211500.0  Foreclosure\n",
      "Santa Maria-Orcutt  149000.0  Short Sale\n",
      "San Luis Obispo     890000.0  Short Sale\n",
      "Cambria             289900.0  Foreclosure\n",
      "Santa Maria-Orcutt  289000.0  Short Sale\n",
      "Oceano              399900.0  Short Sale\n",
      "Santa Maria-Orcutt  125000.0  Short Sale\n",
      "Nipomo              359900.0  Short Sale\n",
      "Santa Maria-Orcutt  239000.0  Short Sale\n",
      "Santa Maria-Orcutt  199900.0  Short Sale\n",
      "Santa Maria-Orcutt  179900.0  Short Sale\n",
      "Santa Maria-Orcutt  195000.0  Short Sale\n",
      "San Luis Obispo     299000.0  Foreclosure\n",
      "Santa Maria-Orcutt  265000.0  Short Sale\n",
      "Nipomo              699000.0  Foreclosure\n",
      "Grover Beach        275000.0  Short Sale\n",
      "Paso Robles         169990.0  Foreclosure\n",
      "Santa Maria-Orcutt  189000.0  Short Sale\n",
      "Santa Ynez          695000.0  Foreclosure\n",
      "Santa Maria-Orcutt  105000.0  Short Sale\n",
      "Santa Maria-Orcutt  365000.0  Short Sale\n",
      "Paso Robles         335900.0  Foreclosure\n",
      "Lompoc              170000.0  Short Sale\n",
      "Santa Maria-Orcutt  339900.0  Short Sale\n",
      "Santa Maria-Orcutt  359900.0  Short Sale\n",
      "Santa Maria-Orcutt  143000.0  Short Sale\n",
      "Santa Maria-Orcutt  199000.0  Short Sale\n",
      "San Luis Obispo     374800.0  Short Sale\n",
      "Los Osos            499000.0  Short Sale\n",
      "Atascadero          138900.0  Foreclosure\n",
      "Avila Beach         1999000.0 Short Sale\n",
      "Paso Robles         359000.0  Short Sale\n",
      "Santa Maria-Orcutt  294900.0  Short Sale\n",
      "Atascadero          299500.0  Foreclosure\n",
      "Santa Maria-Orcutt  427900.0  Short Sale\n",
      "Nipomo              269000.0  Short Sale\n",
      "Bradley             449000.0  Short Sale\n",
      "Santa Maria-Orcutt  144900.0  Foreclosure\n",
      "Santa Maria-Orcutt  345000.0  Short Sale\n",
      "Paso Robles         239000.0  Short Sale\n",
      "Los Osos            310000.0  Short Sale\n",
      "Santa Maria-Orcutt  225000.0  Short Sale\n",
      "Paso Robles         695000.0  Short Sale\n",
      "Nipomo              242500.0  Short Sale\n",
      "Arroyo Grande       249250.0  Short Sale\n",
      "Grover Beach        479000.0  Short Sale\n",
      "Lompoc              169900.0  Foreclosure\n",
      "Santa Maria-Orcutt  219900.0  Short Sale\n",
      "Paso Robles         150000.0  Short Sale\n",
      "Nipomo              649000.0  Foreclosure\n",
      "Santa Maria-Orcutt  285000.0  Short Sale\n",
      "Paso Robles         163999.0  Short Sale\n",
      "Nipomo              349000.0  Short Sale\n",
      "Buellton            409900.0  Foreclosure\n",
      "Los Osos            275000.0  Short Sale\n",
      "Santa Maria-Orcutt  179900.0  Foreclosure\n",
      "Oceano              789000.0  Short Sale\n",
      "Santa Maria-Orcutt  299000.0  Short Sale\n",
      "Arroyo Grande       850000.0  Foreclosure\n",
      "Santa Maria-Orcutt  295900.0  Short Sale\n",
      "Santa Maria-Orcutt  199000.0  Short Sale\n",
      "Santa Maria-Orcutt  199900.0  Short Sale\n",
      "Santa Maria-Orcutt  179900.0  Foreclosure\n",
      "Atascadero          290000.0  Short Sale\n",
      "Santa Maria-Orcutt  168000.0  Short Sale\n",
      "Santa Maria-Orcutt  270000.0  Short Sale\n",
      "Los Osos            1249000.0 Foreclosure\n",
      "Santa Maria-Orcutt  240000.0  Short Sale\n",
      "Coalinga            219500.0  Short Sale\n",
      "Santa Maria-Orcutt  235000.0  Short Sale\n",
      "San Luis Obispo     239800.0  Foreclosure\n",
      "Santa Maria-Orcutt  269000.0  Short Sale\n",
      "Paso Robles         319200.0  Foreclosure\n",
      "Paso Robles         402500.0  Foreclosure\n",
      "Paso Robles         425000.0  Short Sale\n",
      "Atascadero          669000.0  Short Sale\n",
      "Atascadero          369000.0  Short Sale\n",
      "Paso Robles         239900.0  Foreclosure\n",
      "Grover Beach        249500.0  Short Sale\n",
      "Solvang             557000.0  Short Sale\n",
      "Santa Maria-Orcutt  339900.0  Foreclosure\n",
      "Nipomo              149900.0  Short Sale\n",
      "Arroyo Grande       849900.0  Short Sale\n",
      "Lompoc              307000.0  Foreclosure\n",
      "Santa Maria-Orcutt  259000.0  Short Sale\n",
      "Santa Maria-Orcutt  165000.0  Short Sale\n",
      "Santa Maria-Orcutt  289900.0  Foreclosure\n",
      "Nipomo              879000.0  Short Sale\n",
      "Santa Maria-Orcutt  220000.0  Short Sale\n",
      "Atascadero          309000.0  Short Sale\n",
      "Paso Robles         580000.0  Short Sale\n",
      "Santa Maria-Orcutt  459900.0  Short Sale\n",
      "Santa Maria-Orcutt  299000.0  Short Sale\n",
      "Santa Maria-Orcutt  309900.0  Short Sale\n",
      "Paso Robles         287000.0  Short Sale\n",
      "Grover Beach        310000.0  Short Sale\n",
      "Atascadero          229900.0  Foreclosure\n",
      "Buellton            377000.0  Foreclosure\n",
      "Lompoc              295000.0  Short Sale\n",
      "Santa Maria-Orcutt  225000.0  Short Sale\n",
      "Santa Maria-Orcutt  130000.0  Short Sale\n",
      "Santa Maria-Orcutt  169990.0  Short Sale\n",
      "Santa Maria-Orcutt  145000.0  Foreclosure\n",
      "Greenfield          184800.0  Foreclosure\n",
      "Santa Maria-Orcutt  189900.0  Foreclosure\n",
      "Santa Maria-Orcutt  249000.0  Short Sale\n",
      "Santa Maria-Orcutt  185000.0  Short Sale\n",
      "Atascadero          145000.0  Short Sale\n",
      "Paso Robles         429000.0  Foreclosure\n",
      "Arroyo Grande       419000.0  Short Sale\n",
      "Santa Maria-Orcutt  245000.0  Short Sale\n",
      "Santa Maria-Orcutt  289900.0  Short Sale\n",
      "Santa Maria-Orcutt  175000.0  Short Sale\n",
      "Santa Maria-Orcutt  139000.0  Short Sale\n",
      "Arroyo Grande       514900.0  Foreclosure\n",
      "Pismo Beach         549000.0  Short Sale\n",
      "Atascadero          235000.0  Short Sale\n",
      "Atascadero          399000.0  Foreclosure\n",
      "Los Osos            259900.0  Short Sale\n",
      "Lompoc              350900.0  Foreclosure\n",
      "Nipomo              1399900.0 Short Sale\n",
      "Santa Maria-Orcutt  399000.0  Short Sale\n",
      "Solvang             399000.0  Short Sale\n",
      "Atascadero          199000.0  Short Sale\n",
      "Santa Maria-Orcutt  350000.0  Short Sale\n",
      "Nipomo              296800.0  Foreclosure\n",
      "Santa Maria-Orcutt  165000.0  Short Sale\n",
      "Santa Maria-Orcutt  210000.0  Short Sale\n",
      "San Miguel          229000.0  Short Sale\n",
      "San Miguel          199500.0  Short Sale\n",
      "Santa Maria-Orcutt  110000.0  Short Sale\n",
      "Paso Robles         264900.0  Foreclosure\n",
      "Atascadero          449900.0  Foreclosure\n",
      "Santa Maria-Orcutt  159900.0  Short Sale\n",
      "Paso Robles         429000.0  Short Sale\n",
      "Grover Beach        265000.0  Short Sale\n",
      "Nipomo              279900.0  Short Sale\n",
      "Santa Maria-Orcutt  174900.0  Foreclosure\n",
      "Lompoc              158900.0  Foreclosure\n",
      "Santa Maria-Orcutt  150000.0  Short Sale\n",
      "Buellton            269000.0  Short Sale\n",
      "Atascadero          489900.0  Foreclosure\n",
      "Santa Maria-Orcutt  256000.0  Short Sale\n",
      "Atascadero          335000.0  Short Sale\n",
      "Morro Bay           435000.0  Short Sale\n",
      "Santa Maria-Orcutt  280000.0  Short Sale\n",
      "Paso Robles         409000.0  Foreclosure\n",
      "Paso Robles         409000.0  Foreclosure\n",
      "Paso Robles         399000.0  Foreclosure\n",
      "Paso Robles         389000.0  Foreclosure\n",
      "Nipomo              222600.0  Foreclosure\n",
      "Santa Maria-Orcutt  140000.0  Short Sale\n",
      "Soledad             220000.0  Foreclosure\n",
      "Nipomo              650000.0  Short Sale\n",
      "Lompoc              405000.0  Short Sale\n",
      "Paso Robles         409000.0  Foreclosure\n",
      "Santa Maria-Orcutt  164900.0  Foreclosure\n",
      "Santa Margarita     59900.0   Foreclosure\n",
      "Santa Maria-Orcutt  199900.0  Short Sale\n",
      "Atascadero          95000.0   Foreclosure\n",
      "Oceano              170000.0  Short Sale\n",
      "San Miguel          720000.0  Foreclosure\n",
      "Santa Maria-Orcutt  204000.0  Short Sale\n",
      "Santa Maria-Orcutt  220000.0  Short Sale\n",
      "Buellton            498900.0  Foreclosure\n",
      "Santa Maria-Orcutt  229900.0  Short Sale\n",
      "San Luis Obispo     531905.0  Foreclosure\n",
      "Santa Maria-Orcutt  114900.0  Foreclosure\n",
      "Guadalupe           145000.0  Short Sale\n",
      "Lompoc              191330.0  Foreclosure\n",
      "Lompoc              199900.0  Short Sale\n",
      "Santa Maria-Orcutt  266800.0  Short Sale\n",
      "San Miguel          84900.0   Foreclosure\n",
      "Santa Maria-Orcutt  250000.0  Short Sale\n",
      "Santa Maria-Orcutt  220000.0  Short Sale\n",
      "Lompoc              227900.0  Foreclosure\n",
      "Buellton            384900.0  Foreclosure\n",
      "Paso Robles         529000.0  Short Sale\n",
      "Santa Maria-Orcutt  159900.0  Foreclosure\n",
      "Atascadero          199000.0  Short Sale\n",
      "Lompoc              125000.0  Foreclosure\n",
      "Bakersfield         91500.0   Short Sale\n",
      "Santa Maria-Orcutt  155000.0  Short Sale\n",
      "Paso Robles         409000.0  Short Sale\n",
      "Atascadero          949000.0  Short Sale\n",
      "Atascadero          90000.0   Short Sale\n",
      "Santa Maria-Orcutt  300000.0  Foreclosure\n",
      "Santa Maria-Orcutt  179900.0  Short Sale\n",
      "Grover Beach        349000.0  Short Sale\n",
      "Nipomo              220000.0  Foreclosure\n",
      "Santa Maria-Orcutt  155000.0  Short Sale\n",
      "Paso Robles         390000.0  Short Sale\n",
      "Santa Maria-Orcutt  425000.0  Short Sale\n",
      "Santa Maria-Orcutt  249900.0  Short Sale\n",
      "Santa Maria-Orcutt  239000.0  Short Sale\n",
      "Buellton            395000.0  Short Sale\n",
      "Buellton            375000.0  Short Sale\n",
      "Buellton            395000.0  Short Sale\n",
      "Buellton            395000.0  Short Sale\n",
      "Santa Maria-Orcutt  230000.0  Short Sale\n",
      "Santa Maria-Orcutt  189000.0  Foreclosure\n",
      "Paso Robles         304900.0  Foreclosure\n",
      "Santa Maria-Orcutt  169900.0  Foreclosure\n",
      "Santa Maria-Orcutt  286500.0  Short Sale\n",
      "San Miguel          325000.0  Short Sale\n",
      "Grover Beach        375000.0  Short Sale\n",
      "Paso Robles         278000.0  Foreclosure\n",
      "Paso Robles         149000.0  Short Sale\n",
      "Santa Maria-Orcutt  209000.0  Short Sale\n",
      "Santa Maria-Orcutt  95000.0   Short Sale\n",
      "Santa Maria-Orcutt  199900.0  Short Sale\n",
      "Santa Maria-Orcutt  185000.0  Short Sale\n",
      "Lompoc              449900.0  Foreclosure\n",
      "Santa Maria-Orcutt  310000.0  Short Sale\n",
      "Santa Maria-Orcutt  239900.0  Short Sale\n",
      "Santa Maria-Orcutt  187900.0  Foreclosure\n",
      "Arroyo Grande       450000.0  Short Sale\n",
      "San Luis Obispo     440000.0  Short Sale\n",
      "Santa Maria-Orcutt  260000.0  Short Sale\n",
      "New Cuyama          40900.0   Short Sale\n",
      "Paso Robles         249000.0  Short Sale\n",
      "Atascadero          349000.0  Short Sale\n",
      "Santa Maria-Orcutt  175000.0  Short Sale\n",
      "Atascadero          449970.0  Foreclosure\n",
      "Grover Beach        419000.0  Short Sale\n",
      "Arroyo Grande       400000.0  Short Sale\n",
      "Santa Maria-Orcutt  185000.0  Short Sale\n",
      "Santa Maria-Orcutt  139900.0  Short Sale\n",
      "Santa Maria-Orcutt  174900.0  Foreclosure\n",
      "Soledad             165360.0  Foreclosure\n",
      "Santa Maria-Orcutt  169000.0  Short Sale\n",
      "Santa Maria-Orcutt  240000.0  Short Sale\n",
      "Santa Maria-Orcutt  364000.0  Short Sale\n",
      "Arroyo Grande       250000.0  Short Sale\n",
      "Santa Maria-Orcutt  299900.0  Foreclosure\n",
      "Santa Maria-Orcutt  281900.0  Foreclosure\n",
      "Grover Beach        349900.0  Short Sale\n",
      "Santa Maria-Orcutt  220000.0  Short Sale\n",
      "Templeton           774800.0  Foreclosure\n",
      "Santa Maria-Orcutt  135000.0  Short Sale\n",
      " Lompoc             149900.0  Regular   \n",
      "Paso Robles         599000.0  Foreclosure\n",
      "Santa Maria-Orcutt  179000.0  Foreclosure\n",
      "Santa Maria-Orcutt  177000.0  Foreclosure\n",
      "Santa Maria-Orcutt  177000.0  Regular   \n",
      " Nipomo             122500.0  Regular   \n",
      "Santa Maria-Orcutt  239500.0  Short Sale\n",
      "Paso Robles         214900.0  Foreclosure\n",
      "Santa Maria-Orcutt  275000.0  Short Sale\n",
      " Arroyo Grande      425000.0  Regular   \n",
      "San Simeon          274900.0  Foreclosure\n",
      " Nipomo             175000.0  Regular   \n",
      " Morro Bay          535000.0  Regular   \n",
      " Pismo Beach        540000.0  Regular   \n",
      " Cambria            389000.0  Regular   \n",
      "Paso Robles         250000.0  Short Sale\n",
      " Paso Robles        425000.0  Regular   \n",
      " Out Of Area        1195000.0 Regular   \n",
      " Los Osos           1350000.0 Regular   \n",
      "Santa Maria-Orcutt  78500.0   Foreclosure\n",
      " Paso Robles        549000.0  Regular   \n",
      " Santa Maria-Orcutt 399900.0  Regular   \n",
      "Atascadero          699000.0  Short Sale\n",
      " Santa Maria-Orcutt 129000.0  Regular   \n",
      " Cambria            480000.0  Regular   \n",
      "Nipomo              189000.0  Foreclosure\n",
      " Pismo Beach        639900.0  Regular   \n",
      " Santa Maria-Orcutt 699900.0  Regular   \n",
      " Grover Beach       999000.0  Regular   \n",
      " Arroyo Grande      599000.0  Regular   \n",
      " Santa Maria-Orcutt 365000.0  Regular   \n",
      "Cambria             359900.0  Foreclosure\n",
      " Arroyo Grande      995000.0  Regular   \n",
      "Lompoc              193450.0  Foreclosure\n",
      "Santa Maria-Orcutt  179900.0  Short Sale\n",
      "Grover Beach        329900.0  Short Sale\n",
      " Templeton          509000.0  Regular   \n",
      " Atascadero         995000.0  Regular   \n",
      " Pismo Beach        545000.0  Regular   \n",
      " Pismo Beach        795000.0  Regular   \n",
      " Atascadero         830000.0  Regular   \n",
      " Arroyo Grande      54500.0   Regular   \n",
      " Arroyo Grande      149000.0  Regular   \n",
      " Santa Maria-Orcutt 36000.0   Regular   \n",
      " Paso Robles        349000.0  Regular   \n",
      "Santa Maria-Orcutt  299900.0  Short Sale\n",
      " Morro Bay          469000.0  Regular   \n",
      " Oceano             1195000.0 Regular   \n",
      "Solvang             419900.0  Foreclosure\n",
      " Los Osos           189000.0  Regular   \n",
      "Lompoc              163900.0  Foreclosure\n",
      "Lompoc              163900.0  Foreclosure\n",
      " Los Osos           648000.0  Regular   \n",
      "Santa Maria-Orcutt  130000.0  Short Sale\n",
      "Atascadero          264900.0  Foreclosure\n",
      "Santa Maria-Orcutt  189900.0  Foreclosure\n",
      "Santa Maria-Orcutt  200000.0  Short Sale\n",
      " Arroyo Grande      1249000.0 Regular   \n",
      " Cayucos            525000.0  Regular   \n",
      " Cambria            729000.0  Regular   \n",
      "Santa Maria-Orcutt  109900.0  Foreclosure\n",
      " Santa Maria-Orcutt 850000.0  Regular   \n",
      "Santa Maria-Orcutt  249500.0  Short Sale\n",
      "Oceano              179900.0  Foreclosure\n",
      " Los Osos           149000.0  Regular   \n",
      " Creston            549000.0  Regular   \n",
      " Atascadero         435000.0  Regular   \n",
      " Atascadero         299000.0  Regular   \n",
      " Los Osos           625000.0  Regular   \n",
      "Santa Maria-Orcutt  399000.0  Short Sale\n",
      "Out Of Area         186900.0  Regular   \n",
      " Cambria            1290000.0 Regular   \n",
      "Solvang             264900.0  Foreclosure\n",
      "Lompoc              198900.0  Foreclosure\n",
      " Paso Robles        318000.0  Regular   \n",
      " Cambria            2000000.0 Regular   \n",
      " Cambria            598000.0  Regular   \n",
      "Paso Robles         439900.0  Foreclosure\n",
      " Pismo Beach        920000.0  Regular   \n",
      "Santa Maria-Orcutt  179900.0  Short Sale\n",
      "Templeton           325000.0  Short Sale\n",
      " Grover Beach       369000.0  Regular   \n",
      " Santa Maria-Orcutt 312900.0  Regular   \n",
      " Atascadero         575000.0  Regular   \n",
      " Santa Maria-Orcutt 26500.0   Regular   \n",
      " San Luis Obispo    2369000.0 Regular   \n",
      " Atascadero         67500.0   Regular   \n",
      " San Luis Obispo    1490000.0 Regular   \n",
      " Morro Bay          652000.0  Regular   \n",
      " Atascadero         449000.0  Regular   \n",
      " Morro Bay          982800.0  Regular   \n",
      "Santa Maria-Orcutt  235000.0  Short Sale\n",
      " Paso Robles        579900.0  Regular   \n",
      "Santa Maria-Orcutt  250000.0  Short Sale\n",
      "Coalinga            100000.0  Short Sale\n",
      "Coalinga            125000.0  Short Sale\n",
      " Cambria            650000.0  Regular   \n",
      "Santa Maria-Orcutt  119900.0  Foreclosure\n",
      "San Miguel          209900.0  Foreclosure\n",
      " Paso Robles        524900.0  Regular   \n",
      "Atascadero          349000.0  Short Sale\n",
      " Atascadero         349000.0  Regular   \n",
      " Cambria            825000.0  Regular   \n",
      "Grover Beach        255000.0  Short Sale\n",
      "Nipomo              259000.0  Short Sale\n",
      "Paso Robles         199000.0  Short Sale\n",
      "Santa Maria-Orcutt  410000.0  Foreclosure\n",
      " Paso Robles        199000.0  Regular   \n",
      " Paso Robles        270000.0  Regular   \n",
      " Cayucos            695000.0  Regular   \n",
      " Cambria            2995000.0 Regular   \n",
      " Paso Robles        131900.0  Regular   \n",
      " Cambria            995000.0  Regular   \n",
      " Santa Maria-Orcutt 250000.0  Regular   \n",
      "Arroyo Grande       239800.0  Foreclosure\n",
      " Atascadero         425000.0  Regular   \n",
      " Arroyo Grande      525000.0  Regular   \n",
      " Pismo Beach        459900.0  Regular   \n",
      "Atascadero          229900.0  Foreclosure\n",
      "Out Of Area         199900.0  Regular   \n",
      " Arroyo Grande      599000.0  Regular   \n",
      "Santa Maria-Orcutt  197600.0  Foreclosure\n",
      " Santa Maria-Orcutt 355000.0  Regular   \n",
      " Paso Robles        339900.0  Regular   \n",
      " Santa Maria-Orcutt 299000.0  Regular   \n",
      "Soledad             166800.0  Foreclosure\n",
      "Grover Beach        379000.0  Short Sale\n",
      "Santa Ynez          1395000.0 Short Sale\n",
      "Santa Maria-Orcutt  150000.0  Short Sale\n",
      " San Luis Obispo    475000.0  Regular   \n",
      "Santa Maria-Orcutt  265000.0  Foreclosure\n",
      "Atascadero          265000.0  Short Sale\n",
      " Los Osos           225000.0  Regular   \n",
      "Paso Robles         249900.0  Foreclosure\n",
      " Arroyo Grande      509000.0  Regular   \n",
      " Paso Robles        214900.0  Regular   \n",
      " Arroyo Grande      5499000.0 Regular   \n",
      " Santa Maria-Orcutt 349900.0  Regular   \n",
      " Solvang            125000.0  Regular   \n",
      "Cambria             549000.0  Short Sale\n",
      " Cambria            865000.0  Regular   \n",
      " Bradley            1600000.0 Regular   \n",
      " Nipomo             1065000.0 Regular   \n",
      "Templeton           625000.0  Foreclosure\n",
      " Santa Maria-Orcutt 249999.0  Regular   \n",
      " Arroyo Grande      975000.0  Regular   \n",
      "Oceano              204900.0  Short Sale\n",
      " Atascadero         355000.0  Regular   \n",
      "Out Of Area         134900.0  Regular   \n",
      "Santa Maria-Orcutt  199900.0  Short Sale\n",
      "Santa Maria-Orcutt  349900.0  Short Sale\n",
      "Santa Maria-Orcutt  99000.0   Foreclosure\n",
      "Coalinga            409000.0  Short Sale\n",
      " Pismo Beach        339000.0  Regular   \n",
      " San Miguel         595000.0  Regular   \n",
      " Pismo Beach        849500.0  Regular   \n",
      " Paso Robles        399000.0  Regular   \n",
      " Paso Robles        399000.0  Regular   \n",
      " Solvang            525000.0  Regular   \n",
      " Paso Robles        319900.0  Regular   \n",
      " Paso Robles        495000.0  Regular   \n",
      "San Luis Obispo     372000.0  Foreclosure\n",
      " Arroyo Grande      589000.0  Regular   \n",
      " Cambria            1100000.0 Regular   \n"
     ]
    }
   ],
   "source": [
    "conexão = sqlite3.connect('realestate.db') # Cria uma conexão com o banco. Se ele não existir é criado.\n",
    "cursor = conexão.cursor() # O cursor que irá \"navegar\" pelo banco executando comandos SQL\n",
    "\n",
    "# Lê os dados\n",
    "cursor.execute(\"\"\"\n",
    "    SELECT\n",
    "        location,\n",
    "        price,\n",
    "        status\n",
    "    FROM housing\"\"\")\n",
    "\n",
    "print(\"{:<20}{:<10}{:<10}\".format('Location', 'Price', 'Status'))\n",
    "print(\"–\"*40)\n",
    "for linha in cursor.fetchall():\n",
    "    print(\"{0[0]:<20}{0[1]:<10}{0[2]:<10}\".format(linha))\n",
    "\n",
    "conexão.commit()\n",
    "cursor.close()\n",
    "conexão.close()"
   ]
  },
  {
   "cell_type": "markdown",
   "metadata": {},
   "source": [
    "### Atenção\n",
    "\n",
    "A função `.fetchall()` retorna todos os dados existentes na tabela. Se forem muitos dados o tempo de retorno pode ser muito demorado. Existem outras funções como `.fetchone()` que retorna uma linha de cada vez (retorna `None` quando os dados acabarem) e também a `.fetchmany()` que recebe como parâmetro a quantidade de linhas que serão retornadas.\n",
    "\n",
    "Para tabelas muito grandes essas podem ser boas opções."
   ]
  },
  {
   "cell_type": "markdown",
   "metadata": {},
   "source": [
    "## 10. Os principais módulos para ciência de dados\n",
    "\n",
    "Python é uma linguagem de propósito geral e, como já dito, já vem com *baterias inclusas* mas essas baterias não permitem que façamos Ciência de Dados de uma forma rápida e amigável. Um exemplo simples disso é o fato de que a bilioteca padrão de Python não gera nem mesmo uma regressão linear simples. Só a partir do Python 3.4 disponibilizaram o módulo `statistics` para cálculos simples como média, mediana e desvio padrão.\n",
    "\n",
    "Mas os cientistas de dados usam módulos de terceiros - mas ainda assim de código aberto - para realizarem suas atividades. As bibliotecas mais intimamente ligadas à ciência de dados são:\n",
    "\n",
    "* Statsmodels: http://statsmodels.sourceforge.net/\n",
    "* scikit-learn: http://scikit-learn.org/stable/\n",
    "* NumPy: http://www.numpy.org/\n",
    "* Matplotlib: http://matplotlib.org/\n",
    "* pandas: http://pandas.pydata.org/\n",
    "\n",
    "\n",
    "### 10.1. Statsmodels\n",
    "\n",
    "<img src='https://pydata.org/images/statsmodels.png' />\n",
    "\n",
    "Statsmodels é um módulo Python que permite ao usuário explorar dados, estimar modelos estatísticos e realizar testes estatísticos. Uma lista extensa de estatísticas descritivas, testes estatísticos, funções gráficas e resultados estatísticos estão disponíveis.\n",
    "\n",
    "### 10.2. scikit-learn\n",
    "\n",
    "<img src='https://pydata.org/images/sckit-learn.png' />\n",
    "\n",
    "scikit-learn: machine learning in Python. Tem slogan mais significativo que esse? &#128521;\n",
    "\n",
    "scikit-learn tem funções para:\n",
    "* Classificação\n",
    "* Regressão\n",
    "* Agrupamento (Clustering)\n",
    "* Redução de dimensionalidade\n",
    "* Seleção de modelos\n",
    "* Pré-processamento\n",
    "\n",
    "### 10.3. NumPy\n",
    "\n",
    "<img src='https://pydata.org/images/numpy.png' />\n",
    "\n",
    "NumPy é um módulo fundamental para computação científica em Python. A principal característica de NumPy é seu array N-dimensional extremamente poderoso. Vários outros módulos trabalham internamente com os famosos `ndarrays` do NumPy. Tanto que ao instalar o pandas, por exemplo, NumPy será instalado também.\n",
    "\n",
    "Quando estiverem com tempo disponível leiam o [quickstart do NumPy](https://docs.scipy.org/doc/numpy-dev/user/quickstart.html) e tentem executar e entender os códigos de lá.\n",
    "\n",
    "### 10.4. Matplotlib\n",
    "\n",
    "<img src='https://pydata.org/images/matplotlib.png' />\n",
    "\n",
    "Matplotlib é um módulo para plotagens 2D que produz imagens de qualidade para publicações. Matplotlib se integra perfeitamente com o Jupyter através do comando mágico **`%matplotlib inline`**. Sempre que for plotar algum gráfico em um notebook Jupyter utilize esse comando logo no início do seu código.\n",
    "\n",
    "A principal característica do Matplotlib é tornar simples as coisas complicadas e fazer as coisas complicadas possíveis. Ou seja, se você só quer plotar um boxplot isso é muito fácil, mas se quiser personalizar detalhes do gráfico isso é possível.\n",
    "\n",
    "[Home](#Pós-Graduação-em-Ciência-de-Dados-e-Big-Data-PUC-Minas-Uberlândia)"
   ]
  },
  {
   "cell_type": "code",
   "execution_count": 110,
   "metadata": {},
   "outputs": [
    {
     "ename": "ModuleNotFoundError",
     "evalue": "No module named 'matplotlib'",
     "output_type": "error",
     "traceback": [
      "\u001b[1;31m---------------------------------------------------------------------------\u001b[0m",
      "\u001b[1;31mModuleNotFoundError\u001b[0m                       Traceback (most recent call last)",
      "\u001b[1;32m<ipython-input-110-ff55a79b60f5>\u001b[0m in \u001b[0;36m<module>\u001b[1;34m()\u001b[0m\n\u001b[1;32m----> 1\u001b[1;33m \u001b[0mget_ipython\u001b[0m\u001b[1;33m(\u001b[0m\u001b[1;33m)\u001b[0m\u001b[1;33m.\u001b[0m\u001b[0mmagic\u001b[0m\u001b[1;33m(\u001b[0m\u001b[1;34m'matplotlib inline'\u001b[0m\u001b[1;33m)\u001b[0m\u001b[1;33m\u001b[0m\u001b[0m\n\u001b[0m\u001b[0;32m      2\u001b[0m \u001b[1;33m\u001b[0m\u001b[0m\n\u001b[0;32m      3\u001b[0m \u001b[1;32mfrom\u001b[0m \u001b[0mmatplotlib\u001b[0m \u001b[1;32mimport\u001b[0m \u001b[0mpyplot\u001b[0m \u001b[1;32mas\u001b[0m \u001b[0mplt\u001b[0m\u001b[1;33m\u001b[0m\u001b[0m\n\u001b[0;32m      4\u001b[0m \u001b[1;33m\u001b[0m\u001b[0m\n\u001b[0;32m      5\u001b[0m \u001b[0mplt\u001b[0m\u001b[1;33m.\u001b[0m\u001b[0mfigure\u001b[0m\u001b[1;33m(\u001b[0m\u001b[1;33m)\u001b[0m\u001b[1;33m\u001b[0m\u001b[0m\n",
      "\u001b[1;32mC:\\ProgramData\\Miniconda3\\envs\\marcelo\\lib\\site-packages\\IPython\\core\\interactiveshell.py\u001b[0m in \u001b[0;36mmagic\u001b[1;34m(self, arg_s)\u001b[0m\n\u001b[0;32m   2128\u001b[0m         \u001b[0mmagic_name\u001b[0m\u001b[1;33m,\u001b[0m \u001b[0m_\u001b[0m\u001b[1;33m,\u001b[0m \u001b[0mmagic_arg_s\u001b[0m \u001b[1;33m=\u001b[0m \u001b[0marg_s\u001b[0m\u001b[1;33m.\u001b[0m\u001b[0mpartition\u001b[0m\u001b[1;33m(\u001b[0m\u001b[1;34m' '\u001b[0m\u001b[1;33m)\u001b[0m\u001b[1;33m\u001b[0m\u001b[0m\n\u001b[0;32m   2129\u001b[0m         \u001b[0mmagic_name\u001b[0m \u001b[1;33m=\u001b[0m \u001b[0mmagic_name\u001b[0m\u001b[1;33m.\u001b[0m\u001b[0mlstrip\u001b[0m\u001b[1;33m(\u001b[0m\u001b[0mprefilter\u001b[0m\u001b[1;33m.\u001b[0m\u001b[0mESC_MAGIC\u001b[0m\u001b[1;33m)\u001b[0m\u001b[1;33m\u001b[0m\u001b[0m\n\u001b[1;32m-> 2130\u001b[1;33m         \u001b[1;32mreturn\u001b[0m \u001b[0mself\u001b[0m\u001b[1;33m.\u001b[0m\u001b[0mrun_line_magic\u001b[0m\u001b[1;33m(\u001b[0m\u001b[0mmagic_name\u001b[0m\u001b[1;33m,\u001b[0m \u001b[0mmagic_arg_s\u001b[0m\u001b[1;33m)\u001b[0m\u001b[1;33m\u001b[0m\u001b[0m\n\u001b[0m\u001b[0;32m   2131\u001b[0m \u001b[1;33m\u001b[0m\u001b[0m\n\u001b[0;32m   2132\u001b[0m     \u001b[1;31m#-------------------------------------------------------------------------\u001b[0m\u001b[1;33m\u001b[0m\u001b[1;33m\u001b[0m\u001b[0m\n",
      "\u001b[1;32mC:\\ProgramData\\Miniconda3\\envs\\marcelo\\lib\\site-packages\\IPython\\core\\interactiveshell.py\u001b[0m in \u001b[0;36mrun_line_magic\u001b[1;34m(self, magic_name, line)\u001b[0m\n\u001b[0;32m   2049\u001b[0m                 \u001b[0mkwargs\u001b[0m\u001b[1;33m[\u001b[0m\u001b[1;34m'local_ns'\u001b[0m\u001b[1;33m]\u001b[0m \u001b[1;33m=\u001b[0m \u001b[0msys\u001b[0m\u001b[1;33m.\u001b[0m\u001b[0m_getframe\u001b[0m\u001b[1;33m(\u001b[0m\u001b[0mstack_depth\u001b[0m\u001b[1;33m)\u001b[0m\u001b[1;33m.\u001b[0m\u001b[0mf_locals\u001b[0m\u001b[1;33m\u001b[0m\u001b[0m\n\u001b[0;32m   2050\u001b[0m             \u001b[1;32mwith\u001b[0m \u001b[0mself\u001b[0m\u001b[1;33m.\u001b[0m\u001b[0mbuiltin_trap\u001b[0m\u001b[1;33m:\u001b[0m\u001b[1;33m\u001b[0m\u001b[0m\n\u001b[1;32m-> 2051\u001b[1;33m                 \u001b[0mresult\u001b[0m \u001b[1;33m=\u001b[0m \u001b[0mfn\u001b[0m\u001b[1;33m(\u001b[0m\u001b[1;33m*\u001b[0m\u001b[0margs\u001b[0m\u001b[1;33m,\u001b[0m\u001b[1;33m**\u001b[0m\u001b[0mkwargs\u001b[0m\u001b[1;33m)\u001b[0m\u001b[1;33m\u001b[0m\u001b[0m\n\u001b[0m\u001b[0;32m   2052\u001b[0m             \u001b[1;32mreturn\u001b[0m \u001b[0mresult\u001b[0m\u001b[1;33m\u001b[0m\u001b[0m\n\u001b[0;32m   2053\u001b[0m \u001b[1;33m\u001b[0m\u001b[0m\n",
      "\u001b[1;32m<decorator-gen-106>\u001b[0m in \u001b[0;36mmatplotlib\u001b[1;34m(self, line)\u001b[0m\n",
      "\u001b[1;32mC:\\ProgramData\\Miniconda3\\envs\\marcelo\\lib\\site-packages\\IPython\\core\\magic.py\u001b[0m in \u001b[0;36m<lambda>\u001b[1;34m(f, *a, **k)\u001b[0m\n\u001b[0;32m    186\u001b[0m     \u001b[1;31m# but it's overkill for just that one bit of state.\u001b[0m\u001b[1;33m\u001b[0m\u001b[1;33m\u001b[0m\u001b[0m\n\u001b[0;32m    187\u001b[0m     \u001b[1;32mdef\u001b[0m \u001b[0mmagic_deco\u001b[0m\u001b[1;33m(\u001b[0m\u001b[0marg\u001b[0m\u001b[1;33m)\u001b[0m\u001b[1;33m:\u001b[0m\u001b[1;33m\u001b[0m\u001b[0m\n\u001b[1;32m--> 188\u001b[1;33m         \u001b[0mcall\u001b[0m \u001b[1;33m=\u001b[0m \u001b[1;32mlambda\u001b[0m \u001b[0mf\u001b[0m\u001b[1;33m,\u001b[0m \u001b[1;33m*\u001b[0m\u001b[0ma\u001b[0m\u001b[1;33m,\u001b[0m \u001b[1;33m**\u001b[0m\u001b[0mk\u001b[0m\u001b[1;33m:\u001b[0m \u001b[0mf\u001b[0m\u001b[1;33m(\u001b[0m\u001b[1;33m*\u001b[0m\u001b[0ma\u001b[0m\u001b[1;33m,\u001b[0m \u001b[1;33m**\u001b[0m\u001b[0mk\u001b[0m\u001b[1;33m)\u001b[0m\u001b[1;33m\u001b[0m\u001b[0m\n\u001b[0m\u001b[0;32m    189\u001b[0m \u001b[1;33m\u001b[0m\u001b[0m\n\u001b[0;32m    190\u001b[0m         \u001b[1;32mif\u001b[0m \u001b[0mcallable\u001b[0m\u001b[1;33m(\u001b[0m\u001b[0marg\u001b[0m\u001b[1;33m)\u001b[0m\u001b[1;33m:\u001b[0m\u001b[1;33m\u001b[0m\u001b[0m\n",
      "\u001b[1;32mC:\\ProgramData\\Miniconda3\\envs\\marcelo\\lib\\site-packages\\IPython\\core\\magics\\pylab.py\u001b[0m in \u001b[0;36mmatplotlib\u001b[1;34m(self, line)\u001b[0m\n\u001b[0;32m     97\u001b[0m             \u001b[0mprint\u001b[0m\u001b[1;33m(\u001b[0m\u001b[1;34m\"Available matplotlib backends: %s\"\u001b[0m \u001b[1;33m%\u001b[0m \u001b[0mbackends_list\u001b[0m\u001b[1;33m)\u001b[0m\u001b[1;33m\u001b[0m\u001b[0m\n\u001b[0;32m     98\u001b[0m         \u001b[1;32melse\u001b[0m\u001b[1;33m:\u001b[0m\u001b[1;33m\u001b[0m\u001b[0m\n\u001b[1;32m---> 99\u001b[1;33m             \u001b[0mgui\u001b[0m\u001b[1;33m,\u001b[0m \u001b[0mbackend\u001b[0m \u001b[1;33m=\u001b[0m \u001b[0mself\u001b[0m\u001b[1;33m.\u001b[0m\u001b[0mshell\u001b[0m\u001b[1;33m.\u001b[0m\u001b[0menable_matplotlib\u001b[0m\u001b[1;33m(\u001b[0m\u001b[0margs\u001b[0m\u001b[1;33m.\u001b[0m\u001b[0mgui\u001b[0m\u001b[1;33m)\u001b[0m\u001b[1;33m\u001b[0m\u001b[0m\n\u001b[0m\u001b[0;32m    100\u001b[0m             \u001b[0mself\u001b[0m\u001b[1;33m.\u001b[0m\u001b[0m_show_matplotlib_backend\u001b[0m\u001b[1;33m(\u001b[0m\u001b[0margs\u001b[0m\u001b[1;33m.\u001b[0m\u001b[0mgui\u001b[0m\u001b[1;33m,\u001b[0m \u001b[0mbackend\u001b[0m\u001b[1;33m)\u001b[0m\u001b[1;33m\u001b[0m\u001b[0m\n\u001b[0;32m    101\u001b[0m \u001b[1;33m\u001b[0m\u001b[0m\n",
      "\u001b[1;32mC:\\ProgramData\\Miniconda3\\envs\\marcelo\\lib\\site-packages\\IPython\\core\\interactiveshell.py\u001b[0m in \u001b[0;36menable_matplotlib\u001b[1;34m(self, gui)\u001b[0m\n\u001b[0;32m   2901\u001b[0m         \"\"\"\n\u001b[0;32m   2902\u001b[0m         \u001b[1;32mfrom\u001b[0m \u001b[0mIPython\u001b[0m\u001b[1;33m.\u001b[0m\u001b[0mcore\u001b[0m \u001b[1;32mimport\u001b[0m \u001b[0mpylabtools\u001b[0m \u001b[1;32mas\u001b[0m \u001b[0mpt\u001b[0m\u001b[1;33m\u001b[0m\u001b[0m\n\u001b[1;32m-> 2903\u001b[1;33m         \u001b[0mgui\u001b[0m\u001b[1;33m,\u001b[0m \u001b[0mbackend\u001b[0m \u001b[1;33m=\u001b[0m \u001b[0mpt\u001b[0m\u001b[1;33m.\u001b[0m\u001b[0mfind_gui_and_backend\u001b[0m\u001b[1;33m(\u001b[0m\u001b[0mgui\u001b[0m\u001b[1;33m,\u001b[0m \u001b[0mself\u001b[0m\u001b[1;33m.\u001b[0m\u001b[0mpylab_gui_select\u001b[0m\u001b[1;33m)\u001b[0m\u001b[1;33m\u001b[0m\u001b[0m\n\u001b[0m\u001b[0;32m   2904\u001b[0m \u001b[1;33m\u001b[0m\u001b[0m\n\u001b[0;32m   2905\u001b[0m         \u001b[1;32mif\u001b[0m \u001b[0mgui\u001b[0m \u001b[1;33m!=\u001b[0m \u001b[1;34m'inline'\u001b[0m\u001b[1;33m:\u001b[0m\u001b[1;33m\u001b[0m\u001b[0m\n",
      "\u001b[1;32mC:\\ProgramData\\Miniconda3\\envs\\marcelo\\lib\\site-packages\\IPython\\core\\pylabtools.py\u001b[0m in \u001b[0;36mfind_gui_and_backend\u001b[1;34m(gui, gui_select)\u001b[0m\n\u001b[0;32m    269\u001b[0m     \"\"\"\n\u001b[0;32m    270\u001b[0m \u001b[1;33m\u001b[0m\u001b[0m\n\u001b[1;32m--> 271\u001b[1;33m     \u001b[1;32mimport\u001b[0m \u001b[0mmatplotlib\u001b[0m\u001b[1;33m\u001b[0m\u001b[0m\n\u001b[0m\u001b[0;32m    272\u001b[0m \u001b[1;33m\u001b[0m\u001b[0m\n\u001b[0;32m    273\u001b[0m     \u001b[1;32mif\u001b[0m \u001b[0mgui\u001b[0m \u001b[1;32mand\u001b[0m \u001b[0mgui\u001b[0m \u001b[1;33m!=\u001b[0m \u001b[1;34m'auto'\u001b[0m\u001b[1;33m:\u001b[0m\u001b[1;33m\u001b[0m\u001b[0m\n",
      "\u001b[1;31mModuleNotFoundError\u001b[0m: No module named 'matplotlib'"
     ]
    }
   ],
   "source": [
    "%matplotlib inline\n",
    "\n",
    "from matplotlib import pyplot as plt\n",
    "\n",
    "plt.figure()\n",
    "dados = [[1, 2, 3, 4, 5, 6, 7, 8, 9],\n",
    "         [5, 6, 7, 8, 9, 10, 11, 12, 13]]\n",
    "plt.boxplot(dados)\n",
    "plt.show()"
   ]
  },
  {
   "cell_type": "code",
   "execution_count": null,
   "metadata": {
    "collapsed": true
   },
   "outputs": [],
   "source": [
    "# Personalizando um pouco\n",
    "from matplotlib import style\n",
    "style.use('ggplot')\n",
    "ax = plt.subplot()\n",
    "bp = ax.boxplot(dados, patch_artist=True, \n",
    "                whiskerprops={'color': 'black', 'linestyle': '-', 'linewidth': 0.5},\n",
    "                boxprops={'color': 'black', 'facecolor': 'firebrick'},\n",
    "                medianprops={'color': 'black'})\n",
    "ax.set_title('Boxplot')\n",
    "ax.set_ylabel('Quantidade')\n",
    "ax.set_xlabel('Amostra')"
   ]
  },
  {
   "cell_type": "markdown",
   "metadata": {},
   "source": [
    "## 10.5. pandas\n",
    "\n",
    "<img src='https://pydata.org/images/pandas.png' />\n",
    "\n",
    "**pandas: Python Data Analysis Library. Biblioteca de Análise de Dados em Python**\n",
    "\n",
    "pandas é uma biblioteca de código aberto que fornece estruturas de dados de alta performance (baseadas em NumPy) e ferramentas para análise de dados.\n",
    "\n",
    "Folha de colas do pandas (não use na prova!): https://github.com/pandas-dev/pandas/tree/master/doc/cheatsheet/Pandas_Cheat_Sheet.pdf\n",
    "\n",
    "A grande vantagem do pandas é fornecer o objeto DataFrame (baseado no R) que fornece uma estrutura semelhante a uma tabela em um banco SQL. Pandas permite até fazer inner e outer joins!\n",
    "\n",
    "[Home](#Pós-Graduação-em-Ciência-de-Dados-e-Big-Data-PUC-Minas-Uberlândia)"
   ]
  },
  {
   "cell_type": "code",
   "execution_count": 111,
   "metadata": {},
   "outputs": [
    {
     "ename": "ModuleNotFoundError",
     "evalue": "No module named 'pandas'",
     "output_type": "error",
     "traceback": [
      "\u001b[1;31m---------------------------------------------------------------------------\u001b[0m",
      "\u001b[1;31mModuleNotFoundError\u001b[0m                       Traceback (most recent call last)",
      "\u001b[1;32m<ipython-input-111-223244bd480b>\u001b[0m in \u001b[0;36m<module>\u001b[1;34m()\u001b[0m\n\u001b[1;32m----> 1\u001b[1;33m \u001b[1;32mimport\u001b[0m \u001b[0mpandas\u001b[0m \u001b[1;32mas\u001b[0m \u001b[0mpd\u001b[0m\u001b[1;33m\u001b[0m\u001b[0m\n\u001b[0m\u001b[0;32m      2\u001b[0m \u001b[1;32mimport\u001b[0m \u001b[0mnumpy\u001b[0m \u001b[1;32mas\u001b[0m \u001b[0mnp\u001b[0m\u001b[1;33m\u001b[0m\u001b[0m\n\u001b[0;32m      3\u001b[0m \u001b[1;31m# Se não tiver importado o matplotlib lá em cima...\u001b[0m\u001b[1;33m\u001b[0m\u001b[1;33m\u001b[0m\u001b[0m\n\u001b[0;32m      4\u001b[0m \u001b[1;32mimport\u001b[0m \u001b[0mmatplotlib\u001b[0m\u001b[1;33m.\u001b[0m\u001b[0mpyplot\u001b[0m \u001b[1;32mas\u001b[0m \u001b[0mplt\u001b[0m\u001b[1;33m\u001b[0m\u001b[0m\n",
      "\u001b[1;31mModuleNotFoundError\u001b[0m: No module named 'pandas'"
     ]
    }
   ],
   "source": [
    "import pandas as pd\n",
    "import numpy as np\n",
    "# Se não tiver importado o matplotlib lá em cima...\n",
    "import matplotlib.pyplot as plt"
   ]
  },
  {
   "cell_type": "code",
   "execution_count": null,
   "metadata": {
    "collapsed": true
   },
   "outputs": [],
   "source": [
    "# Criando um Series, o objeto mais básico do pandas\n",
    "s = pd.Series([1,3,5,np.nan,6,8])\n",
    "s"
   ]
  },
  {
   "cell_type": "code",
   "execution_count": null,
   "metadata": {
    "collapsed": true
   },
   "outputs": [],
   "source": [
    "# Criando um dataframe passando um array NumPy com um index de datas (datetime) e colunas nomeadas\n",
    "dates = pd.date_range(end=pd.Timestamp.now().date(), periods=6)\n",
    "dates"
   ]
  },
  {
   "cell_type": "code",
   "execution_count": null,
   "metadata": {
    "collapsed": true
   },
   "outputs": [],
   "source": [
    "df = pd.DataFrame(np.random.randn(6,4), index=dates, columns=list('ABCD'))\n",
    "df"
   ]
  },
  {
   "cell_type": "code",
   "execution_count": null,
   "metadata": {
    "collapsed": true
   },
   "outputs": [],
   "source": [
    "# Criando um DataFrame passando um dict de objetos que podem ser convertidos em Series\n",
    "df2 = pd.DataFrame({ 'A' : 1.,\n",
    "                     'B' : pd.Timestamp('now').date(),\n",
    "                     'C' : pd.Series(1,index=list(range(4)),dtype='float32'),\n",
    "                     'D' : np.array([3] * 4,dtype='int32'),\n",
    "                     'E' : pd.Categorical([\"test\",\"train\",\"test\",\"train\"]),\n",
    "                     'F' : 'foo' })\n",
    "df2"
   ]
  },
  {
   "cell_type": "code",
   "execution_count": null,
   "metadata": {
    "collapsed": true
   },
   "outputs": [],
   "source": [
    "# Criando um DataFrame de um arquivo\n",
    "df3 = pd.read_csv('iris.data', header=None, names=['sepal_length','sepal_width','petal_length','petal_width','class'])\n",
    "df3"
   ]
  },
  {
   "cell_type": "code",
   "execution_count": null,
   "metadata": {
    "collapsed": true
   },
   "outputs": [],
   "source": [
    "# Criando um dataframe de um banco de dados\n",
    "conexão = sqlite3.connect('realestate.db')\n",
    "df4 = pd.read_sql(\"select * from housing limit 100\", conexão)\n",
    "conexão.close()\n",
    "df4"
   ]
  },
  {
   "cell_type": "code",
   "execution_count": null,
   "metadata": {
    "collapsed": true
   },
   "outputs": [],
   "source": [
    "# Informações do DataFrame\n",
    "df3.info()"
   ]
  },
  {
   "cell_type": "code",
   "execution_count": null,
   "metadata": {
    "collapsed": true
   },
   "outputs": [],
   "source": [
    "# Resumo estatístico dos dados\n",
    "df3.describe()"
   ]
  },
  {
   "cell_type": "markdown",
   "metadata": {},
   "source": [
    "#### Selecionando, indexando e fatiando\n",
    "\n",
    "Pode-se selecionar, indexar e fatiar um DataFrame como em uma lista Python, mas também utilizando as funções de alto desempenho `.loc`, `.iloc` e `.ix`"
   ]
  },
  {
   "cell_type": "code",
   "execution_count": null,
   "metadata": {
    "collapsed": true
   },
   "outputs": [],
   "source": [
    "df"
   ]
  },
  {
   "cell_type": "code",
   "execution_count": null,
   "metadata": {
    "collapsed": true
   },
   "outputs": [],
   "source": [
    "# Selecionando pelo nome da coluna\n",
    "df['A'] # ou df.A"
   ]
  },
  {
   "cell_type": "code",
   "execution_count": null,
   "metadata": {
    "collapsed": true
   },
   "outputs": [],
   "source": [
    "# Selecionando pelo nome da coluna mas retornando um DataFrame ao invés de um Series\n",
    "df[['A']]"
   ]
  },
  {
   "cell_type": "code",
   "execution_count": null,
   "metadata": {
    "collapsed": true
   },
   "outputs": [],
   "source": [
    "# Selecionando um valor pelo índice e nome da coluna\n",
    "df.loc[pd.Timestamp(\"now\").date().strftime('%Y-%m-%d'), 'B']"
   ]
  },
  {
   "cell_type": "code",
   "execution_count": null,
   "metadata": {
    "collapsed": true
   },
   "outputs": [],
   "source": [
    "# Selecionando apenas as linhas onde o valor de A é maior que zero\n",
    "df.loc[df.A > 0, :]"
   ]
  },
  {
   "cell_type": "code",
   "execution_count": null,
   "metadata": {
    "collapsed": true
   },
   "outputs": [],
   "source": [
    "# Selecionando duas colunas\n",
    "df[['A', 'C']]"
   ]
  },
  {
   "cell_type": "code",
   "execution_count": null,
   "metadata": {
    "collapsed": true
   },
   "outputs": [],
   "source": [
    "# Fatiando as duas primeiras linhas\n",
    "df.iloc[:2, :]"
   ]
  },
  {
   "cell_type": "code",
   "execution_count": null,
   "metadata": {
    "collapsed": true
   },
   "outputs": [],
   "source": [
    "# Plotando um boxplot dos preços das casas por status\n",
    "_ = df4.boxplot(column='price', by='status')"
   ]
  },
  {
   "cell_type": "markdown",
   "metadata": {
    "collapsed": true
   },
   "source": [
    "#### E agora?\n",
    "\n",
    "Aqui fizemos alguns exemplos do *10 Minutes to pandas*. Recomendo fazer e entender tudo. http://pandas.pydata.org/pandas-docs/stable/10min.html\n",
    "\n",
    "Para o trabalho final estudem e entendam pelo menos:\n",
    "* [Operações](http://pandas.pydata.org/pandas-docs/stable/10min.html#operations)\n",
    "* [Merge e join](http://pandas.pydata.org/pandas-docs/stable/10min.html#merge)\n",
    "* [Agrupamento](http://pandas.pydata.org/pandas-docs/stable/10min.html#grouping)\n",
    "\n",
    "Um exemplo de um projeto real que utiliza pandas exaustivamente: https://gist.github.com/arthur-gouveia/1cdde580d3d933b1f5882a546879fd33"
   ]
  },
  {
   "cell_type": "markdown",
   "metadata": {},
   "source": [
    "\n",
    "## 11. Próximos passos, referências, links\n",
    "\n",
    "### 11.1. Próximos passos\n",
    "\n",
    "* Se você não entendeu nada do que fizemos até agora, https://docs.python.org/3/tutorial/index.html\n",
    "* Usem e abusem da documentação do Python, do pandas, do Matplotlib.....\n",
    "* Usem e abusem do Google. Pesquisar em inglês normalmente traz resultados melhores.\n",
    "* **Faça parte da comunidade, principalmente no Telegram**\n",
    "\n",
    "### 11.2. Referências para este curso (tanto Python quanto R)\n",
    "* https://wiki.python.org/moin/PortugueseLanguage (Esse está em Português)\n",
    "* https://python.nilo.pro.br/ (Livro muito bom de programação com Python)\n",
    "* https://wiki.python.org/moin/BeginnersGuide\n",
    "* http://pandas.pydata.org/pandas-docs/version/0.18.1/10min.html\n",
    "* https://sites.google.com/site/undergraduateguidetor/manual-files/undergradguidetoR.pdf\n",
    "* https://cran.r-project.org/doc/contrib/Verzani-SimpleR.pdf\n",
    "* https://www.tutorialspoint.com/r/\n",
    "\n",
    "\n",
    "### 11.3. Lista com 21 cursos gratuitos de Python para iniciantes.\n",
    "https://m.facebook.com/groups/138322456272633?view=permalink&id=1064175937020609\n",
    "\n",
    "1. Introdução à Ciência da Computação com Python Parte 1 (USP)\n",
    "https://www.coursera.org/learn/ciencia-computacao-python-conceitos\n",
    "\n",
    "2. Python Fundamentos para Análise de Dados\n",
    "http://www.datascienceacademy.com.br/pages/curso-python-fundamentos-para-analise-de-dados\n",
    "\n",
    "3. Python Básico\n",
    "https://solyd.com.br/treinamentos/python-basico\n",
    "\n",
    "4. Aulas Python \n",
    "https://www.youtube.com/playlist?list=PLfCKf0-awunOu2WyLe2pSD2fXUo795xRe\n",
    "\n",
    "5. Python para Zumbis \n",
    "https://www.youtube.com/playlist?list=PLUukMN0DTKCtbzhbYe2jdF4cr8MOWClXc\n",
    "\n",
    "6. Curso Python 300\n",
    "https://www.youtube.com/playlist?list=PL8eBmR3QtPL0j3QLEjQ6rcx8rVB8Ir893\n",
    "\n",
    "7. Python Programming: A Concise Introduction (Wesleyan University)\n",
    "https://www.coursera.org/learn/python-programming-introduction\n",
    "\n",
    "8. Data Analysis and Interpretation Specialization (Wesleyan University)\n",
    "https://www.coursera.org/specializations/data-analysis (Este item é uma especialização composta por 4 cursos + 1 projeto. Pode se aprender Python ou SAS.)\n",
    "\n",
    "    1. Data Management and Visualization\n",
    "    https://pt.coursera.org/learn/data-visualization\n",
    "\n",
    "    2. Data Analysis Tools\n",
    "    https://pt.coursera.org/learn/data-analysis-tools\n",
    "\n",
    "    3. Regression Modeling in Practice\n",
    "    https://pt.coursera.org/learn/regression-modeling-practice\n",
    "\n",
    "    4. Machine Learning for Data Analysis\n",
    "    https://pt.coursera.org/learn/machine-learning-data-analysis\n",
    "\n",
    "    5. Data Analysis and Interpretation Capstone\n",
    "    https://pt.coursera.org/learn/data-analysis-capstone\n",
    "\n",
    "9. Introduction to Computer Science and Programming Using Python (MIT)\n",
    "https://www.edx.org/course/introduction-computer-science-mitx-6-00-1x-9\n",
    "\n",
    "10. Using Python for Research (Harvard)\n",
    "https://www.edx.org/course/using-python-research-harvardx-ph526x\n",
    "\n",
    "11. Intro to Python for Data Science\n",
    "https://www.datacamp.com/courses/intro-to-python-for-data-science\n",
    "\n",
    "12. Introduction To Python Programming\n",
    "https://www.udemy.com/pythonforbeginnersintro/\n",
    "\n",
    "13. Learn Python: Python for Beginners\n",
    "https://www.udemy.com/learn-python/\n",
    "\n",
    "14. Python for Beginners with Examples\n",
    "https://www.udemy.com/ardit-sulce-python-for-beginners/\n",
    "\n",
    "15. Python for Absolute Beginners\n",
    "https://www.udemy.com/python-for-absolute-beginners-u/\n",
    "\n",
    "16. Learn Python, it's CAKE (Beginners)\n",
    "https://www.udemy.com/learning-python-not-the-snake/\n",
    "\n",
    "17. Deep Learning Prerequisites: The Numpy Stack in Python\n",
    "https://www.udemy.com/deep-learning-prerequisites-the-numpy-stack-in-python/\n",
    "\n",
    "18. Start Programming Today with Python!\n",
    "https://www.udemy.com/free-python/\n",
    "\n",
    "19. Making Graphs in Python using Matplotlib for Beginners\n",
    "https://www.udemy.com/making-graphs-in-python-using-matplotlib-for-beginners/\n",
    "\n",
    "20. Python Object Oriented Full Guide\n",
    "https://www.udemy.com/python-object-oriented-from-scratch/\n",
    "\n",
    "21. Google's Python Class\n",
    "https://developers.google.com/edu/python/\n",
    "\n",
    "Bons estudos!\n",
    "\n",
    "### 11.4. Links do pptx\n",
    "\n",
    "**Como me encontrar**\n",
    "* https://t.me/arthurg\n",
    "* gouveia.arthur@gmail.com\n",
    "* https://www.linkedin.com/in/arthur-gouveia/\n",
    "* https://twitter.com/arthur_gouveia\n",
    "* https://github.com/arthur-gouveia\n",
    "\n",
    "**Gartner e Forrester data science platforms 2017**\n",
    "* http://www.kdnuggets.com/2017/04/forrester-gartner-data-science-platforms-machine-learning.html\n",
    "* http://www.kdnuggets.com/2017/02/gartner-2017-mq-data-science-platforms-gainers-losers.html\n",
    "\n",
    "**Linguagens solicitadas nas vagas de emprego para cientista de dados**\n",
    "* http://www.kdnuggets.com/2017/01/most-popular-language-machine-learning-data-science.html\n",
    "* https://www.indeed.com/jobtrends/q-python-and-(%22machine-learning%22-or-%22data-science%22)-q-R-and-(%22machine-learning%22-or-%22data-science%22)-q-Java-and-(%22machine-learning%22-or-%22data-science%22)-q-Javascript-and-(%22machine-learning%22-or-%22data-science%22)-q-C-and-(%22machine-learning%22-or-%22data-science%22)-q-C++-and-(%22machine-learning%22-or-%22data-science%22)-q-Julia-and-(%22machine-learning%22-or-%22data-science%22)-q-scala-and-(%22machine-learning%22-or-%22data-science%22).html\n",
    "* http://r4stats.com/2017/02/28/r-passes-sas/\n",
    "\n",
    "**Recorde mundial cubo 3x3x3: 4.73s Feliks Zemdegs 11/12/2016**\n",
    "* https://www.youtube.com/watch?v=R07JiT0PlcE\n",
    "\n",
    "**Documentação Python**\n",
    "* Tipos de dados: https://docs.python.org/3/library/stdtypes.html\n",
    "* Precedência de operadores: https://docs.python.org/3/reference/expressions.html#operator-precedence\n",
    "* Tutorial: https://docs.python.org/3/tutorial/index.html\n",
    "* Configuração e uso do Python: https://docs.python.org/3/using/index.html\n",
    "* Download do Python: https://www.python.org/\n",
    "* Recomendo o Anaconda: https://www.continuum.io/downloads\n",
    "* Recomendo ainda mais o miniconda: https://conda.io/miniconda.html\n",
    "* Faça parte da comunidade!\n",
    "    * http://python.org.br/\n",
    "    * https://t.me/pythonbr\n",
    "    * https://www.facebook.com/groups/python.brasil\n",
    "    * https://t.me/datasciencepython\n",
    "    * https://github.com/datascience-python\n",
    "* \"Folha de colas\" do anaconda: https://conda.io/docs/_downloads/conda-cheatsheet.pdf\n",
    "* Gestão de ambientes conda: https://conda.io/docs/using/envs.html\n",
    "* Criação de ambientes em Python: https://docs.python.org/3/library/venv.html\n",
    "* Instalando módulos: https://docs.python.org/3/installing/index.html\n",
    "* Jupyter:\n",
    "    * http://jupyter.org/\n",
    "    * https://nbviewer.jupyter.org/\n",
    "* Boas práticas do uso do Jupyter: https://www.svds.com/jupyter-notebook-best-practices-for-data-science/\n",
    "* Acesso remoto ao Jupyter: http://jupyter-notebook.readthedocs.io/en/latest/public_server.html\n",
    "* Dicas de uso do Jupyter: https://medium.com/towards-data-science/jupyter-notebook-hints-1f26b08429ad\n",
    "* IDEs para Python: IDEs para Python: https://wiki.python.org/moin/IntegratedDevelopmentEnvironments e https://wiki.python.org.br/IdesPython\n",
    "* Baterias inclusas: https://docs.python.org/3/py-modindex.html e https://docs.python.org/3/library/index.html\n",
    "* Modelo de dados: https://docs.python.org/3/reference/datamodel.html#objects-values-and-types\n",
    "* Operadores de comparação: https://docs.python.org/3/library/stdtypes.html#comparisons\n",
    "* Operadores lógicos: https://docs.python.org/3/library/stdtypes.html#boolean-operations-and-or-not\n",
    "* Strings: https://docs.python.org/3/library/stdtypes.html#text-sequence-type-str\n",
    "* Métodos das strings: https://docs.python.org/3/library/stdtypes.html#string-methods\n",
    "* Formatação de strings: https://docs.python.org/3/library/string.html#custom-string-formatting\n",
    "* Condicionais: https://docs.python.org/3/reference/compound_stmts.html#the-if-statement\n",
    "* Repetição com While: https://docs.python.org/3/reference/compound_stmts.html#the-while-statement\n",
    "* Repetições com for, range e outras estruturas:\n",
    "    * https://docs.python.org/3/reference/compound_stmts.html#the-for-statement\n",
    "    * https://docs.python.org/3/library/stdtypes.html#range\n",
    "    * https://docs.python.org/3/tutorial/controlflow.html#more-control-flow-tools\n",
    "* Estruturas de dados (Listas, tuplas, dicionários): https://docs.python.org/3/tutorial/datastructures.html\n",
    "* Listas: https://docs.python.org/3/library/stdtypes.html#list\n",
    "* Dicts: https://docs.python.org/3/library/stdtypes.html#mapping-types-dict\n",
    "* Tuplas: https://docs.python.org/3/library/stdtypes.html#tuple\n",
    "* Definições de funções: https://docs.python.org/3/reference/compound_stmts.html#function-definitions\n",
    "* Mais sobre funções: https://docs.python.org/3/library/functions.html#sorted e \n",
    "https://docs.python.org/3/tutorial/controlflow.html#more-on-defining-functions\n",
    "* Acessando arquivos: https://docs.python.org/3/library/io.html#module-io e \n",
    "https://docs.python.org/3/library/functions.html#open\n",
    "* Módulo csv: https://docs.python.org/3/library/csv.html\n",
    "* Módulo sqlite3 para banco de dados SQLite: https://docs.python.org/3/library/sqlite3.html\n",
    "* Principais módulos para ciência de dados:\n",
    "    * Statsmodels: http://statsmodels.sourceforge.net/\n",
    "    * scikit-learn: http://scikit-learn.org/stable/\n",
    "    * NumPy: http://www.numpy.org/\n",
    "    * Matplotlib: http://matplotlib.org/\n",
    "        * Folha de colas: https://s3.amazonaws.com/assets.datacamp.com/blog_assets/Python_Matplotlib_Cheat_Sheet.pdf\n",
    "    * pandas: http://pandas.pydata.org/\n",
    "        * Folha de colas oficial: https://github.com/pandas-dev/pandas/blob/master/doc/cheatsheet/Pandas_Cheat_Sheet.pdf\n",
    "        * Outra folha de colas: https://s3.amazonaws.com/assets.datacamp.com/blog_assets/PandasPythonForDataScience+(1).pdf\n",
    "\n",
    "\n",
    "\n",
    "[Home](#Pós-Graduação-em-Ciência-de-Dados-e-Big-Data-PUC-Minas-Uberlândia)"
   ]
  }
 ],
 "metadata": {
  "anaconda-cloud": {},
  "kernelspec": {
   "display_name": "Python 3",
   "language": "python",
   "name": "python3"
  },
  "language_info": {
   "codemirror_mode": {
    "name": "ipython",
    "version": 3
   },
   "file_extension": ".py",
   "mimetype": "text/x-python",
   "name": "python",
   "nbconvert_exporter": "python",
   "pygments_lexer": "ipython3",
   "version": "3.6.1"
  },
  "nbpresent": {
   "slides": {
    "045c0bc0-3067-4d98-9227-fa4976c9ec79": {
     "id": "045c0bc0-3067-4d98-9227-fa4976c9ec79",
     "prev": null,
     "regions": {
      "9258b2db-bc2c-481d-8e2a-e4b834f7dca3": {
       "attrs": {
        "height": 0.8,
        "width": 0.8,
        "x": 0.1,
        "y": 0.1
       },
       "content": {
        "cell": "ee90cf8f-6492-4d0d-8a25-df74c1749129",
        "part": "whole"
       },
       "id": "9258b2db-bc2c-481d-8e2a-e4b834f7dca3"
      }
     }
    },
    "047ca86b-4fbf-4509-8401-16d68c399b7a": {
     "id": "047ca86b-4fbf-4509-8401-16d68c399b7a",
     "prev": "0d33a8f6-5f93-4e1e-9e96-c0c331639336",
     "regions": {
      "0a916478-f5cc-4c31-9a90-2e41dcbae161": {
       "attrs": {
        "height": 0.8,
        "width": 0.8,
        "x": 0.1,
        "y": 0.1
       },
       "content": {
        "cell": "71e63853-938c-44aa-b7e2-37977429b36d",
        "part": "whole"
       },
       "id": "0a916478-f5cc-4c31-9a90-2e41dcbae161"
      }
     }
    },
    "07529b94-9e84-4722-bb09-ea9aa4b0515a": {
     "id": "07529b94-9e84-4722-bb09-ea9aa4b0515a",
     "prev": "ce0b1bde-839c-4ce7-b783-90437592c9f9",
     "regions": {
      "f8c7706f-1670-49c0-ab52-ba522eed7f31": {
       "attrs": {
        "height": 0.8,
        "width": 0.8,
        "x": 0.1,
        "y": 0.1
       },
       "content": {
        "cell": "57414091-404d-45a8-b963-df44dc6205e6",
        "part": "whole"
       },
       "id": "f8c7706f-1670-49c0-ab52-ba522eed7f31"
      }
     }
    },
    "0d33a8f6-5f93-4e1e-9e96-c0c331639336": {
     "id": "0d33a8f6-5f93-4e1e-9e96-c0c331639336",
     "prev": "4897a6c3-c379-469d-9685-32e89b530eda",
     "regions": {
      "9d46dc05-3c12-4008-8c7c-1ed260ff817e": {
       "attrs": {
        "height": 0.8,
        "width": 0.8,
        "x": 0.1,
        "y": 0.1
       },
       "content": {
        "cell": "22ca6ffe-ce43-4cf7-a04c-870304266998",
        "part": "whole"
       },
       "id": "9d46dc05-3c12-4008-8c7c-1ed260ff817e"
      }
     }
    },
    "0f66af7f-7553-4998-8b23-524230ff8945": {
     "id": "0f66af7f-7553-4998-8b23-524230ff8945",
     "prev": "32c5a7b0-0fac-4567-987d-ad31c42d762d",
     "regions": {
      "effcf9cc-2410-4cf0-8087-17148d614a74": {
       "attrs": {
        "height": 0.8,
        "width": 0.8,
        "x": 0.1,
        "y": 0.1
       },
       "content": {
        "cell": "120d2def-8518-494a-9b69-43c6f5715b28",
        "part": "whole"
       },
       "id": "effcf9cc-2410-4cf0-8087-17148d614a74"
      }
     }
    },
    "159f8a97-24db-4207-ab37-af234b997779": {
     "id": "159f8a97-24db-4207-ab37-af234b997779",
     "prev": "5d221cb9-9901-481d-ad50-13b0acbc53fd",
     "regions": {
      "831bac7a-0772-4c00-a0ae-3d2c1508198d": {
       "attrs": {
        "height": 0.8,
        "width": 0.8,
        "x": 0.1,
        "y": 0.1
       },
       "content": {
        "cell": "a88de165-474e-465d-a09d-2022bdf19911",
        "part": "whole"
       },
       "id": "831bac7a-0772-4c00-a0ae-3d2c1508198d"
      }
     }
    },
    "1bada6ed-20ce-483b-bfb5-ea08c3a1a036": {
     "id": "1bada6ed-20ce-483b-bfb5-ea08c3a1a036",
     "prev": "f26770cb-b9fe-42a2-8bd7-f595e950ac22",
     "regions": {
      "5a16a083-be60-449d-a4bf-c69dcfacd290": {
       "attrs": {
        "height": 0.8,
        "width": 0.8,
        "x": 0.1,
        "y": 0.1
       },
       "content": {
        "cell": "07501229-d56a-4af5-bc88-2240b9a3317a",
        "part": "whole"
       },
       "id": "5a16a083-be60-449d-a4bf-c69dcfacd290"
      }
     }
    },
    "1d624774-50fd-4634-b7dc-d1e9e8af2fec": {
     "id": "1d624774-50fd-4634-b7dc-d1e9e8af2fec",
     "prev": "2c722162-a558-4378-9551-e5d320731139",
     "regions": {
      "60ba2872-3395-4197-92ad-5cc106b98841": {
       "attrs": {
        "height": 0.8,
        "width": 0.8,
        "x": 0.1,
        "y": 0.1
       },
       "content": {
        "cell": "92d29a4a-2f27-41e8-a3e9-7873f6d2ef0d",
        "part": "whole"
       },
       "id": "60ba2872-3395-4197-92ad-5cc106b98841"
      }
     }
    },
    "227f74a4-673c-4ff2-abe5-1c5130506581": {
     "id": "227f74a4-673c-4ff2-abe5-1c5130506581",
     "prev": "ff6f7ddb-73e9-4c0c-94b0-20fd7356542e",
     "regions": {
      "29296a81-c8b1-4176-a51a-5866a8d0dccf": {
       "attrs": {
        "height": 0.8,
        "width": 0.8,
        "x": 0.1,
        "y": 0.1
       },
       "content": {
        "cell": "fa7295c9-f37e-47dd-9bc2-1297a5ee57bc",
        "part": "whole"
       },
       "id": "29296a81-c8b1-4176-a51a-5866a8d0dccf"
      }
     }
    },
    "24e431bd-9002-4b8c-9613-a012e4c9916c": {
     "id": "24e431bd-9002-4b8c-9613-a012e4c9916c",
     "prev": "bf66d921-f80d-44c3-8d1e-7f223860ce6c",
     "regions": {
      "25f105ce-d8d2-4c65-b989-4406b350fa6d": {
       "attrs": {
        "height": 0.8,
        "width": 0.8,
        "x": 0.1,
        "y": 0.1
       },
       "content": {
        "cell": "591bd287-d2a7-45e9-8458-9a3e8cb302af",
        "part": "whole"
       },
       "id": "25f105ce-d8d2-4c65-b989-4406b350fa6d"
      }
     }
    },
    "288b6b81-fd59-4003-b6fa-6ce8501b2b6a": {
     "id": "288b6b81-fd59-4003-b6fa-6ce8501b2b6a",
     "prev": "6b7d8db2-c5a9-4661-9bc0-3b4cfbc0d617",
     "regions": {
      "caba8387-dc44-41d8-ad30-a4b558aebe08": {
       "attrs": {
        "height": 0.8,
        "width": 0.8,
        "x": 0.1,
        "y": 0.1
       },
       "content": {
        "cell": "5e3c23dd-e13d-4b8e-a63a-7e01e2bab5fb",
        "part": "whole"
       },
       "id": "caba8387-dc44-41d8-ad30-a4b558aebe08"
      }
     }
    },
    "29aad293-a0f7-491b-957d-7b6cfecebadd": {
     "id": "29aad293-a0f7-491b-957d-7b6cfecebadd",
     "prev": "3e9854a8-cc7f-47cd-bb40-e517145a891d",
     "regions": {
      "e50e9fc4-3f87-42e0-b03a-67a737661410": {
       "attrs": {
        "height": 0.8,
        "width": 0.8,
        "x": 0.1,
        "y": 0.1
       },
       "content": {
        "cell": "9a978aee-0275-4c32-a555-2e0b71c7fa6c",
        "part": "whole"
       },
       "id": "e50e9fc4-3f87-42e0-b03a-67a737661410"
      }
     }
    },
    "2aa773a5-042d-4bc0-b3f5-edc24e07a273": {
     "id": "2aa773a5-042d-4bc0-b3f5-edc24e07a273",
     "prev": "5148af7e-6003-40a2-a7a8-485659bfe8dc",
     "regions": {
      "a0da2b33-1552-4f27-af65-eecbed616743": {
       "attrs": {
        "height": 0.8,
        "width": 0.8,
        "x": 0.1,
        "y": 0.1
       },
       "content": {
        "cell": "38136eaa-d07e-48d9-a277-4b39fabfa83c",
        "part": "whole"
       },
       "id": "a0da2b33-1552-4f27-af65-eecbed616743"
      }
     }
    },
    "2c722162-a558-4378-9551-e5d320731139": {
     "id": "2c722162-a558-4378-9551-e5d320731139",
     "prev": "e31eb4d4-8b23-4678-9a0a-c8d050b58656",
     "regions": {
      "3cb85deb-a8b7-4059-9a6c-35e58fe64988": {
       "attrs": {
        "height": 0.8,
        "width": 0.8,
        "x": 0.1,
        "y": 0.1
       },
       "content": {
        "cell": "4f8187bd-8193-4665-b1d3-bbfdd102b4e5",
        "part": "whole"
       },
       "id": "3cb85deb-a8b7-4059-9a6c-35e58fe64988"
      }
     }
    },
    "32c5a7b0-0fac-4567-987d-ad31c42d762d": {
     "id": "32c5a7b0-0fac-4567-987d-ad31c42d762d",
     "prev": "63db283b-f6f5-4a87-bbb3-3fa24105a513",
     "regions": {
      "82beae55-ad27-436c-9f0b-5d541f165986": {
       "attrs": {
        "height": 0.8,
        "width": 0.8,
        "x": 0.1,
        "y": 0.1
       },
       "content": {
        "cell": "3342448e-930d-4383-9c2a-d3e78e02a8ff",
        "part": "whole"
       },
       "id": "82beae55-ad27-436c-9f0b-5d541f165986"
      }
     }
    },
    "341f0780-62b4-4457-8fdb-a358408e383c": {
     "id": "341f0780-62b4-4457-8fdb-a358408e383c",
     "prev": "c637003b-2d4f-4662-a35e-a87e9e1345ef",
     "regions": {
      "98289634-380f-45cf-964e-ccdb1176c0d5": {
       "attrs": {
        "height": 0.8,
        "width": 0.8,
        "x": 0.1,
        "y": 0.1
       },
       "content": {
        "cell": "0c1913a3-3d9c-45e0-a1f0-10af11104af3",
        "part": "whole"
       },
       "id": "98289634-380f-45cf-964e-ccdb1176c0d5"
      }
     }
    },
    "3484312b-4d10-4a4e-b9fc-fde10345d105": {
     "id": "3484312b-4d10-4a4e-b9fc-fde10345d105",
     "prev": "288b6b81-fd59-4003-b6fa-6ce8501b2b6a",
     "regions": {
      "b051a843-7827-4ee0-80ae-6eb6514147a1": {
       "attrs": {
        "height": 0.8,
        "width": 0.8,
        "x": 0.1,
        "y": 0.1
       },
       "content": {
        "cell": "82a62851-9fa5-41ca-aaf2-1b8fc652a53b",
        "part": "whole"
       },
       "id": "b051a843-7827-4ee0-80ae-6eb6514147a1"
      }
     }
    },
    "34fd379a-527c-4966-b7cf-0f18bed4e4fb": {
     "id": "34fd379a-527c-4966-b7cf-0f18bed4e4fb",
     "prev": "45842c08-1151-4f04-8fb0-7ccc405bf23f",
     "regions": {
      "791854d1-4e81-41ec-90df-85a73603c40a": {
       "attrs": {
        "height": 0.8,
        "width": 0.8,
        "x": 0.1,
        "y": 0.1
       },
       "content": {
        "cell": "0ca16943-7615-4d15-a82b-3a8d22c07b01",
        "part": "whole"
       },
       "id": "791854d1-4e81-41ec-90df-85a73603c40a"
      }
     }
    },
    "36edfbde-3d46-4cf1-9125-4c71c7f03080": {
     "id": "36edfbde-3d46-4cf1-9125-4c71c7f03080",
     "prev": "89b7363c-9b74-40c9-8710-0a949b31ff61",
     "regions": {
      "5aa41abe-03bb-438a-adf1-ec2279060c7b": {
       "attrs": {
        "height": 0.8,
        "width": 0.8,
        "x": 0.1,
        "y": 0.1
       },
       "content": {
        "cell": "001b2596-929f-4b7b-8e02-33cb7e8c2d8c",
        "part": "whole"
       },
       "id": "5aa41abe-03bb-438a-adf1-ec2279060c7b"
      }
     }
    },
    "38f42c9e-8da4-4fc8-a6fc-c88130ffe4ec": {
     "id": "38f42c9e-8da4-4fc8-a6fc-c88130ffe4ec",
     "prev": "e6df0774-d276-4301-a579-65381792af3e",
     "regions": {
      "ec80b1a2-0846-43c6-82a5-888ae3951380": {
       "attrs": {
        "height": 0.8,
        "width": 0.8,
        "x": 0.1,
        "y": 0.1
       },
       "content": {
        "cell": "9192b5ed-227d-46b5-a0ca-474a03ded826",
        "part": "whole"
       },
       "id": "ec80b1a2-0846-43c6-82a5-888ae3951380"
      }
     }
    },
    "3e9854a8-cc7f-47cd-bb40-e517145a891d": {
     "id": "3e9854a8-cc7f-47cd-bb40-e517145a891d",
     "prev": "5818b60e-7fa7-436b-8c5a-30bb16a5a5d5",
     "regions": {
      "540251a3-a5bc-4957-9abc-48248a94ad06": {
       "attrs": {
        "height": 0.8,
        "width": 0.8,
        "x": 0.1,
        "y": 0.1
       },
       "content": {
        "cell": "b5fdca5e-8d8f-4bd8-8857-088ad593b115",
        "part": "whole"
       },
       "id": "540251a3-a5bc-4957-9abc-48248a94ad06"
      }
     }
    },
    "4089b160-d81b-42d7-8aca-fea037118d66": {
     "id": "4089b160-d81b-42d7-8aca-fea037118d66",
     "prev": "c9fc2dac-7ff4-4adb-832c-b32766a92e21",
     "regions": {
      "23a9797d-9318-456a-a665-bbbc2038c3d7": {
       "attrs": {
        "height": 0.8,
        "width": 0.8,
        "x": 0.1,
        "y": 0.1
       },
       "content": {
        "cell": "e077a128-6fe8-47dd-9e03-47f321b84b9e",
        "part": "whole"
       },
       "id": "23a9797d-9318-456a-a665-bbbc2038c3d7"
      }
     }
    },
    "4459d70a-b2d9-4f04-b6b1-2de7a77a5ef7": {
     "id": "4459d70a-b2d9-4f04-b6b1-2de7a77a5ef7",
     "prev": "97098d7a-4e9f-4163-ac9c-ce6c806eea4c",
     "regions": {
      "5c00753e-31d4-43de-a66b-ffe6a7d45562": {
       "attrs": {
        "height": 0.8,
        "width": 0.8,
        "x": 0.1,
        "y": 0.1
       },
       "content": {
        "cell": "288c27a9-ae82-4c56-88af-52ea4d4068d2",
        "part": "whole"
       },
       "id": "5c00753e-31d4-43de-a66b-ffe6a7d45562"
      }
     }
    },
    "45842c08-1151-4f04-8fb0-7ccc405bf23f": {
     "id": "45842c08-1151-4f04-8fb0-7ccc405bf23f",
     "prev": "dee09997-f69b-4619-8b9b-85d1560933fa",
     "regions": {
      "40f826c3-24c0-4ce9-9699-62fd87700312": {
       "attrs": {
        "height": 0.8,
        "width": 0.8,
        "x": 0.1,
        "y": 0.1
       },
       "content": {
        "cell": "1921deb6-da01-4a9c-ab03-0bacf7f139ef",
        "part": "whole"
       },
       "id": "40f826c3-24c0-4ce9-9699-62fd87700312"
      }
     }
    },
    "46c0c81e-8df7-4208-a6ac-e71442160ff9": {
     "id": "46c0c81e-8df7-4208-a6ac-e71442160ff9",
     "prev": "8ff49e24-8898-4137-8609-f74849c6ea59",
     "regions": {
      "45d4c304-8aee-4ad6-8f63-7716479798cb": {
       "attrs": {
        "height": 0.8,
        "width": 0.8,
        "x": 0.1,
        "y": 0.1
       },
       "content": {
        "cell": "a25d02c1-b19f-4ec3-ae8b-d40897cc12f2",
        "part": "whole"
       },
       "id": "45d4c304-8aee-4ad6-8f63-7716479798cb"
      }
     }
    },
    "4897a6c3-c379-469d-9685-32e89b530eda": {
     "id": "4897a6c3-c379-469d-9685-32e89b530eda",
     "prev": "a6237bd5-4fe1-49f5-ad15-97d40131d884",
     "regions": {
      "cf3529ed-eb2d-4b9c-a0a4-52bf42f3bab1": {
       "attrs": {
        "height": 0.8,
        "width": 0.8,
        "x": 0.1,
        "y": 0.1
       },
       "content": {
        "cell": "605c66d9-de4a-40d3-8f06-cb31b8273a4c",
        "part": "whole"
       },
       "id": "cf3529ed-eb2d-4b9c-a0a4-52bf42f3bab1"
      }
     }
    },
    "49139037-0986-4455-a478-349a1fc558f9": {
     "id": "49139037-0986-4455-a478-349a1fc558f9",
     "prev": "d7dac6aa-739a-4a01-a146-8e9522656035",
     "regions": {
      "b5493a9d-f48f-4873-841b-1fa82bce9819": {
       "attrs": {
        "height": 0.8,
        "width": 0.8,
        "x": 0.1,
        "y": 0.1
       },
       "content": {
        "cell": "ef3bd929-a8f7-45c4-b124-459c25016885",
        "part": "whole"
       },
       "id": "b5493a9d-f48f-4873-841b-1fa82bce9819"
      }
     }
    },
    "5055688a-44e9-43dd-a8f0-356b047ab7fd": {
     "id": "5055688a-44e9-43dd-a8f0-356b047ab7fd",
     "prev": "045c0bc0-3067-4d98-9227-fa4976c9ec79",
     "regions": {
      "092787f9-cc63-47de-9ace-6a4c6dff518d": {
       "attrs": {
        "height": 0.8,
        "width": 0.8,
        "x": 0.1,
        "y": 0.1
       },
       "content": {
        "cell": "40ba917b-b204-4d82-aa35-4d4db4a39eec",
        "part": "whole"
       },
       "id": "092787f9-cc63-47de-9ace-6a4c6dff518d"
      }
     }
    },
    "510cb9be-24b1-4b09-b1bb-d7b4c35c30bc": {
     "id": "510cb9be-24b1-4b09-b1bb-d7b4c35c30bc",
     "prev": "d1e64014-5708-41f8-b501-f7e4e55e30e5",
     "regions": {
      "9ec9009a-b862-4707-9434-0eaf7ba7a83d": {
       "attrs": {
        "height": 0.8,
        "width": 0.8,
        "x": 0.1,
        "y": 0.1
       },
       "content": {
        "cell": "0608f60d-8470-4aa7-a5b4-6da3217f49f6",
        "part": "whole"
       },
       "id": "9ec9009a-b862-4707-9434-0eaf7ba7a83d"
      }
     }
    },
    "5148af7e-6003-40a2-a7a8-485659bfe8dc": {
     "id": "5148af7e-6003-40a2-a7a8-485659bfe8dc",
     "prev": "9f384e88-af00-470b-9aea-1384735a68af",
     "regions": {
      "fb4ecd94-4b25-40c7-9dba-ce482546fba0": {
       "attrs": {
        "height": 0.8,
        "width": 0.8,
        "x": 0.1,
        "y": 0.1
       },
       "content": {
        "cell": "550e575e-5d34-4ddf-89bd-d06b71666899",
        "part": "whole"
       },
       "id": "fb4ecd94-4b25-40c7-9dba-ce482546fba0"
      }
     }
    },
    "54f9f403-ea0c-45ac-acf0-370165ae3d86": {
     "id": "54f9f403-ea0c-45ac-acf0-370165ae3d86",
     "prev": "bded5191-8d34-4a6a-9372-0fcf16322ac9",
     "regions": {
      "c33b8d90-e9dc-4fe1-abe3-5d2f14db9547": {
       "attrs": {
        "height": 0.8,
        "width": 0.8,
        "x": 0.1,
        "y": 0.1
       },
       "content": {
        "cell": "c72137cc-b75f-49a5-8541-65f05d7fc6ff",
        "part": "whole"
       },
       "id": "c33b8d90-e9dc-4fe1-abe3-5d2f14db9547"
      }
     }
    },
    "5818b60e-7fa7-436b-8c5a-30bb16a5a5d5": {
     "id": "5818b60e-7fa7-436b-8c5a-30bb16a5a5d5",
     "prev": "f6ba02f3-d43c-4d01-ac73-3dbad4baf459",
     "regions": {
      "9b6818d1-c853-41f5-9e54-fe3a5856d3fc": {
       "attrs": {
        "height": 0.8,
        "width": 0.8,
        "x": 0.1,
        "y": 0.1
       },
       "content": {
        "cell": "e8019627-09d1-4084-9de4-2d60b68e55a9",
        "part": "whole"
       },
       "id": "9b6818d1-c853-41f5-9e54-fe3a5856d3fc"
      }
     }
    },
    "59979e39-b2d2-4110-ab52-3c8f6a307022": {
     "id": "59979e39-b2d2-4110-ab52-3c8f6a307022",
     "prev": "a2565863-ec72-4122-871e-62ddb8c04fe5",
     "regions": {
      "8b0506a3-f39b-4e3a-8df3-374d4a3ff806": {
       "attrs": {
        "height": 0.8,
        "width": 0.8,
        "x": 0.1,
        "y": 0.1
       },
       "content": {
        "cell": "218b32a5-4444-4816-ad31-8d38b7388882",
        "part": "whole"
       },
       "id": "8b0506a3-f39b-4e3a-8df3-374d4a3ff806"
      }
     }
    },
    "5adcdb3e-cdf2-4b2c-98c0-38a2931e1695": {
     "id": "5adcdb3e-cdf2-4b2c-98c0-38a2931e1695",
     "prev": "59979e39-b2d2-4110-ab52-3c8f6a307022",
     "regions": {
      "62e973e8-1f01-4adf-b472-869183982643": {
       "attrs": {
        "height": 0.8,
        "width": 0.8,
        "x": 0.1,
        "y": 0.1
       },
       "content": {
        "cell": "58194736-766e-4626-9814-864fa89ee5d9",
        "part": "whole"
       },
       "id": "62e973e8-1f01-4adf-b472-869183982643"
      }
     }
    },
    "5ae87167-d505-417a-bd88-f31c5c593b2d": {
     "id": "5ae87167-d505-417a-bd88-f31c5c593b2d",
     "prev": "74450604-70f3-454e-889c-eb494d069c24",
     "regions": {}
    },
    "5d221cb9-9901-481d-ad50-13b0acbc53fd": {
     "id": "5d221cb9-9901-481d-ad50-13b0acbc53fd",
     "prev": "7bc6e1fa-377e-4895-92c2-e5431fe92373",
     "regions": {
      "6120f4b7-2bca-4229-a32b-0bec53418e80": {
       "attrs": {
        "height": 0.8,
        "width": 0.8,
        "x": 0.1,
        "y": 0.1
       },
       "content": {
        "cell": "c416fad6-5e5e-487d-8267-9f3cc3467b33",
        "part": "whole"
       },
       "id": "6120f4b7-2bca-4229-a32b-0bec53418e80"
      }
     }
    },
    "5ec8abce-36ec-4865-aced-23e9faa5bba7": {
     "id": "5ec8abce-36ec-4865-aced-23e9faa5bba7",
     "prev": "b24357b7-1884-430e-823e-befa483a88e8",
     "regions": {
      "2ac5c15a-ac66-4e27-b5c7-80fb8889a6f5": {
       "attrs": {
        "height": 0.8,
        "width": 0.8,
        "x": 0.1,
        "y": 0.1
       },
       "content": {
        "cell": "29fedc2f-83f1-42cb-a9cd-8a484fe6dbf8",
        "part": "whole"
       },
       "id": "2ac5c15a-ac66-4e27-b5c7-80fb8889a6f5"
      }
     }
    },
    "63db283b-f6f5-4a87-bbb3-3fa24105a513": {
     "id": "63db283b-f6f5-4a87-bbb3-3fa24105a513",
     "prev": "cfeb1027-96c6-4b61-b691-cb3fe5be5503",
     "regions": {
      "aa9b7eb9-3a2c-42be-ad47-4db441a0817f": {
       "attrs": {
        "height": 0.8,
        "width": 0.8,
        "x": 0.1,
        "y": 0.1
       },
       "content": {
        "cell": "647599f9-0dfd-47e7-a27c-a18021f6285d",
        "part": "whole"
       },
       "id": "aa9b7eb9-3a2c-42be-ad47-4db441a0817f"
      }
     }
    },
    "6b7d8db2-c5a9-4661-9bc0-3b4cfbc0d617": {
     "id": "6b7d8db2-c5a9-4661-9bc0-3b4cfbc0d617",
     "prev": "76689837-be78-4934-b067-f260153c3817",
     "regions": {
      "61f29344-ad44-4576-b046-ba930df0765f": {
       "attrs": {
        "height": 0.8,
        "width": 0.8,
        "x": 0.1,
        "y": 0.1
       },
       "content": {
        "cell": "9c55c0d5-78af-4bfc-aa61-8725d6d4e156",
        "part": "whole"
       },
       "id": "61f29344-ad44-4576-b046-ba930df0765f"
      }
     }
    },
    "6c9dbd25-151a-4723-95c4-d17a33d3d359": {
     "id": "6c9dbd25-151a-4723-95c4-d17a33d3d359",
     "prev": "d7885887-48d2-4b60-b3bd-12b36bc0d3d7",
     "regions": {
      "bf842071-2a91-48af-be2d-98d5f5d14f88": {
       "attrs": {
        "height": 0.8,
        "width": 0.8,
        "x": 0.1,
        "y": 0.1
       },
       "content": {
        "cell": "9c25ea5c-abba-478d-85de-87d2b3885343",
        "part": "whole"
       },
       "id": "bf842071-2a91-48af-be2d-98d5f5d14f88"
      }
     }
    },
    "6fea2f23-0a5a-47b8-a76d-aae61bdd1ef0": {
     "id": "6fea2f23-0a5a-47b8-a76d-aae61bdd1ef0",
     "prev": "d1b0790f-e35d-4e48-a33e-13682c3ebee3",
     "regions": {
      "a92e07e6-7de4-4301-b173-b72baf58dca1": {
       "attrs": {
        "height": 0.8,
        "width": 0.8,
        "x": 0.1,
        "y": 0.1
       },
       "content": {
        "cell": "e7eb6d99-cded-435f-afa5-0b024d705c65",
        "part": "whole"
       },
       "id": "a92e07e6-7de4-4301-b173-b72baf58dca1"
      }
     }
    },
    "74450604-70f3-454e-889c-eb494d069c24": {
     "id": "74450604-70f3-454e-889c-eb494d069c24",
     "prev": "a50b01f4-e5ef-4191-858d-b93d13f32076",
     "regions": {
      "db9378f5-cffe-4825-bc5c-272d99c90720": {
       "attrs": {
        "height": 0.8,
        "width": 0.8,
        "x": 0.1,
        "y": 0.1
       },
       "content": {
        "cell": "354b2ab0-c7f1-430e-a1db-d21c925c69bb",
        "part": "whole"
       },
       "id": "db9378f5-cffe-4825-bc5c-272d99c90720"
      }
     }
    },
    "74f66bd9-2869-4c1c-9f60-3c9ef58205ee": {
     "id": "74f66bd9-2869-4c1c-9f60-3c9ef58205ee",
     "prev": "24e431bd-9002-4b8c-9613-a012e4c9916c",
     "regions": {
      "6c4c599a-771f-47f0-86aa-6279593fbc19": {
       "attrs": {
        "height": 0.8,
        "width": 0.8,
        "x": 0.1,
        "y": 0.1
       },
       "content": {
        "cell": "4068e254-3bef-47e6-9c3f-f8ae5b59cb10",
        "part": "whole"
       },
       "id": "6c4c599a-771f-47f0-86aa-6279593fbc19"
      }
     }
    },
    "76689837-be78-4934-b067-f260153c3817": {
     "id": "76689837-be78-4934-b067-f260153c3817",
     "prev": "159f8a97-24db-4207-ab37-af234b997779",
     "regions": {
      "460c0b71-b296-4a50-990a-c45076788375": {
       "attrs": {
        "height": 0.8,
        "width": 0.8,
        "x": 0.1,
        "y": 0.1
       },
       "content": {
        "cell": "e7fc6c23-47eb-4335-8feb-639da9fb65d1",
        "part": "whole"
       },
       "id": "460c0b71-b296-4a50-990a-c45076788375"
      }
     }
    },
    "78879bc8-96cb-459a-99cb-9a8509640126": {
     "id": "78879bc8-96cb-459a-99cb-9a8509640126",
     "prev": "cf4dc07f-e404-4622-b3e9-a212e8ccf186",
     "regions": {
      "158cab37-576c-4dc8-9f8c-180d132746ff": {
       "attrs": {
        "height": 0.8,
        "width": 0.8,
        "x": 0.1,
        "y": 0.1
       },
       "content": {
        "cell": "9bb9b670-f647-426c-a9f7-36c3479eb517",
        "part": "whole"
       },
       "id": "158cab37-576c-4dc8-9f8c-180d132746ff"
      }
     }
    },
    "7bc6e1fa-377e-4895-92c2-e5431fe92373": {
     "id": "7bc6e1fa-377e-4895-92c2-e5431fe92373",
     "prev": "1d624774-50fd-4634-b7dc-d1e9e8af2fec",
     "regions": {
      "4ab41383-ad85-4213-bc12-8fe7d221399f": {
       "attrs": {
        "height": 0.8,
        "width": 0.8,
        "x": 0.1,
        "y": 0.1
       },
       "content": {
        "cell": "01e648d6-213c-485b-b673-e628218f1598",
        "part": "whole"
       },
       "id": "4ab41383-ad85-4213-bc12-8fe7d221399f"
      }
     }
    },
    "7ef81ab1-e520-4c89-8bb5-84777bf72df3": {
     "id": "7ef81ab1-e520-4c89-8bb5-84777bf72df3",
     "prev": "c9f5d8e9-7c4f-4793-b157-605ff6170e0a",
     "regions": {
      "5479defb-b731-452f-8888-dc95d370e4b3": {
       "attrs": {
        "height": 0.8,
        "width": 0.8,
        "x": 0.1,
        "y": 0.1
       },
       "content": {
        "cell": "0b00f327-58e6-432f-855b-bd5d435e11a0",
        "part": "whole"
       },
       "id": "5479defb-b731-452f-8888-dc95d370e4b3"
      }
     }
    },
    "7f8ed0a8-f880-4573-9eb5-94d12dc29309": {
     "id": "7f8ed0a8-f880-4573-9eb5-94d12dc29309",
     "prev": "4459d70a-b2d9-4f04-b6b1-2de7a77a5ef7",
     "regions": {
      "0ca1bcd1-d34c-4f7c-87ed-8564afd24932": {
       "attrs": {
        "height": 0.8,
        "width": 0.8,
        "x": 0.1,
        "y": 0.1
       },
       "content": {
        "cell": "3d196bf1-3a45-40c4-ae14-5c44735a2c04",
        "part": "whole"
       },
       "id": "0ca1bcd1-d34c-4f7c-87ed-8564afd24932"
      }
     }
    },
    "89030aca-85d6-4201-b8c3-49b55ab914ca": {
     "id": "89030aca-85d6-4201-b8c3-49b55ab914ca",
     "prev": "1bada6ed-20ce-483b-bfb5-ea08c3a1a036",
     "regions": {
      "c7068cd1-e27d-46ee-8664-a752d61a3f42": {
       "attrs": {
        "height": 0.8,
        "width": 0.8,
        "x": 0.1,
        "y": 0.1
       },
       "content": {
        "cell": "9c1dcd39-82a0-4c3d-bb07-7c4773c3973d",
        "part": "whole"
       },
       "id": "c7068cd1-e27d-46ee-8664-a752d61a3f42"
      }
     }
    },
    "89b7363c-9b74-40c9-8710-0a949b31ff61": {
     "id": "89b7363c-9b74-40c9-8710-0a949b31ff61",
     "prev": "a61d7adb-cf92-4400-a34f-eb6481c0d674",
     "regions": {
      "97d63a4d-6208-4a47-89cd-b8881f1b9bc2": {
       "attrs": {
        "height": 0.8,
        "width": 0.8,
        "x": 0.1,
        "y": 0.1
       },
       "content": {
        "cell": "43734d7a-33d2-4553-8c69-7684e0d759a7",
        "part": "whole"
       },
       "id": "97d63a4d-6208-4a47-89cd-b8881f1b9bc2"
      }
     }
    },
    "8da79e48-da87-4b83-9b18-34d5a09ba15c": {
     "id": "8da79e48-da87-4b83-9b18-34d5a09ba15c",
     "prev": "510cb9be-24b1-4b09-b1bb-d7b4c35c30bc",
     "regions": {
      "289aef00-f57d-4b6e-b311-abb02ff3fd48": {
       "attrs": {
        "height": 0.8,
        "width": 0.8,
        "x": 0.1,
        "y": 0.1
       },
       "content": {
        "cell": "1c6fd550-86e2-4c63-a2ae-1143ff313f64",
        "part": "whole"
       },
       "id": "289aef00-f57d-4b6e-b311-abb02ff3fd48"
      }
     }
    },
    "8ff49e24-8898-4137-8609-f74849c6ea59": {
     "id": "8ff49e24-8898-4137-8609-f74849c6ea59",
     "prev": "5adcdb3e-cdf2-4b2c-98c0-38a2931e1695",
     "regions": {
      "d8e7acc1-fe7c-4c11-9e71-fcaeae7ab30a": {
       "attrs": {
        "height": 0.8,
        "width": 0.8,
        "x": 0.1,
        "y": 0.1
       },
       "content": {
        "cell": "d1072132-4601-4fbc-bf48-dc7b7119b6e6",
        "part": "whole"
       },
       "id": "d8e7acc1-fe7c-4c11-9e71-fcaeae7ab30a"
      }
     }
    },
    "952eb978-f551-4252-bb54-895c8517d175": {
     "id": "952eb978-f551-4252-bb54-895c8517d175",
     "prev": "5055688a-44e9-43dd-a8f0-356b047ab7fd",
     "regions": {
      "22ad1079-840d-4f0d-a0e3-edeb7d7e67ab": {
       "attrs": {
        "height": 0.8,
        "width": 0.8,
        "x": 0.1,
        "y": 0.1
       },
       "content": {
        "cell": "ec044c96-b221-4dd9-b1f6-07f4d8d3b0f6",
        "part": "whole"
       },
       "id": "22ad1079-840d-4f0d-a0e3-edeb7d7e67ab"
      }
     }
    },
    "97098d7a-4e9f-4163-ac9c-ce6c806eea4c": {
     "id": "97098d7a-4e9f-4163-ac9c-ce6c806eea4c",
     "prev": "74f66bd9-2869-4c1c-9f60-3c9ef58205ee",
     "regions": {
      "78675c1f-1f79-42d9-b5e5-d117b6a23819": {
       "attrs": {
        "height": 0.8,
        "width": 0.8,
        "x": 0.1,
        "y": 0.1
       },
       "content": {
        "cell": "0760d137-d261-4846-8385-42be30c26b8b",
        "part": "whole"
       },
       "id": "78675c1f-1f79-42d9-b5e5-d117b6a23819"
      }
     }
    },
    "9f384e88-af00-470b-9aea-1384735a68af": {
     "id": "9f384e88-af00-470b-9aea-1384735a68af",
     "prev": "6fea2f23-0a5a-47b8-a76d-aae61bdd1ef0",
     "regions": {
      "32a3bf24-6826-45b8-a205-c67509846402": {
       "attrs": {
        "height": 0.8,
        "width": 0.8,
        "x": 0.1,
        "y": 0.1
       },
       "content": {
        "cell": "ab2e95c1-b4f7-4a28-8ace-db97a1259819",
        "part": "whole"
       },
       "id": "32a3bf24-6826-45b8-a205-c67509846402"
      }
     }
    },
    "9f4f5054-34b0-4eaa-b6b7-b5fac4369b24": {
     "id": "9f4f5054-34b0-4eaa-b6b7-b5fac4369b24",
     "prev": "d323bf49-9861-4110-8dff-eab4c865e69f",
     "regions": {
      "e4cc101b-1bb7-48c7-a30e-e296f89dd2df": {
       "attrs": {
        "height": 0.8,
        "width": 0.8,
        "x": 0.1,
        "y": 0.1
       },
       "content": {
        "cell": "b97a98e9-9380-4549-bf0d-75174b2956ef",
        "part": "whole"
       },
       "id": "e4cc101b-1bb7-48c7-a30e-e296f89dd2df"
      }
     }
    },
    "a2565863-ec72-4122-871e-62ddb8c04fe5": {
     "id": "a2565863-ec72-4122-871e-62ddb8c04fe5",
     "prev": "fc4874d2-5b3c-4738-9dfd-33891cb372bf",
     "regions": {
      "8d675a0b-19af-43bf-ac7b-3ac8e7b1d804": {
       "attrs": {
        "height": 0.8,
        "width": 0.8,
        "x": 0.1,
        "y": 0.1
       },
       "content": {
        "cell": "39f35980-2fac-462e-86d7-32101c4c3865",
        "part": "whole"
       },
       "id": "8d675a0b-19af-43bf-ac7b-3ac8e7b1d804"
      }
     }
    },
    "a50b01f4-e5ef-4191-858d-b93d13f32076": {
     "id": "a50b01f4-e5ef-4191-858d-b93d13f32076",
     "prev": "bd7a921b-383a-4558-873f-5020fbfd3737",
     "regions": {
      "0ed2b125-e5a4-403b-aa47-a1f6436b6a74": {
       "attrs": {
        "height": 0.8,
        "width": 0.8,
        "x": 0.1,
        "y": 0.1
       },
       "content": {
        "cell": "84ddd5d2-ebc9-4f59-9fe0-23347ed8e05e",
        "part": "whole"
       },
       "id": "0ed2b125-e5a4-403b-aa47-a1f6436b6a74"
      }
     }
    },
    "a61d7adb-cf92-4400-a34f-eb6481c0d674": {
     "id": "a61d7adb-cf92-4400-a34f-eb6481c0d674",
     "prev": "49139037-0986-4455-a478-349a1fc558f9",
     "regions": {
      "f72b9594-ad2b-44a7-af46-ab1b6db8892d": {
       "attrs": {
        "height": 0.8,
        "width": 0.8,
        "x": 0.1,
        "y": 0.1
       },
       "content": {
        "cell": "df418a6a-15ff-45a9-a89e-afc6adde5220",
        "part": "whole"
       },
       "id": "f72b9594-ad2b-44a7-af46-ab1b6db8892d"
      }
     }
    },
    "a6237bd5-4fe1-49f5-ad15-97d40131d884": {
     "id": "a6237bd5-4fe1-49f5-ad15-97d40131d884",
     "prev": "4089b160-d81b-42d7-8aca-fea037118d66",
     "regions": {
      "25abda9a-326b-45ae-8db0-b382791905af": {
       "attrs": {
        "height": 0.8,
        "width": 0.8,
        "x": 0.1,
        "y": 0.1
       },
       "content": {
        "cell": "72ccb76a-2282-45f8-bf21-94bb17034261",
        "part": "whole"
       },
       "id": "25abda9a-326b-45ae-8db0-b382791905af"
      }
     }
    },
    "a9f9e50d-b3f3-4bc9-b94c-3d803b196d7f": {
     "id": "a9f9e50d-b3f3-4bc9-b94c-3d803b196d7f",
     "prev": "f93e9f2e-5f38-4db8-8088-129bcf580e80",
     "regions": {
      "2d417d37-c7b0-4d63-83aa-2382208acc2d": {
       "attrs": {
        "height": 0.8,
        "width": 0.8,
        "x": 0.1,
        "y": 0.1
       },
       "content": {
        "cell": "0b8c1146-f8f0-40e6-99a4-4c73e483d0a7",
        "part": "whole"
       },
       "id": "2d417d37-c7b0-4d63-83aa-2382208acc2d"
      }
     }
    },
    "b0681c92-8b38-491d-9223-766c8deb4659": {
     "id": "b0681c92-8b38-491d-9223-766c8deb4659",
     "prev": "3484312b-4d10-4a4e-b9fc-fde10345d105",
     "regions": {
      "cc65d8a2-ddce-41ee-a5bd-f32397364578": {
       "attrs": {
        "height": 0.8,
        "width": 0.8,
        "x": 0.1,
        "y": 0.1
       },
       "content": {
        "cell": "7db0a56a-891b-4461-bc51-dd07d3a6b906",
        "part": "whole"
       },
       "id": "cc65d8a2-ddce-41ee-a5bd-f32397364578"
      }
     }
    },
    "b098c833-6e5f-4047-84ec-13489825a011": {
     "id": "b098c833-6e5f-4047-84ec-13489825a011",
     "prev": "29aad293-a0f7-491b-957d-7b6cfecebadd",
     "regions": {
      "8944f011-fe34-4c97-8a98-1d6e9a039fd6": {
       "attrs": {
        "height": 0.8,
        "width": 0.8,
        "x": 0.1,
        "y": 0.1
       },
       "content": {
        "cell": "4f3ba07c-26db-471f-909b-55d6603e314c",
        "part": "whole"
       },
       "id": "8944f011-fe34-4c97-8a98-1d6e9a039fd6"
      }
     }
    },
    "b24357b7-1884-430e-823e-befa483a88e8": {
     "id": "b24357b7-1884-430e-823e-befa483a88e8",
     "prev": "34fd379a-527c-4966-b7cf-0f18bed4e4fb",
     "regions": {
      "e1db9525-3a6e-4e9a-ab5c-5005bb1ca24a": {
       "attrs": {
        "height": 0.8,
        "width": 0.8,
        "x": 0.1,
        "y": 0.1
       },
       "content": {
        "cell": "033cbfd9-dfa9-41f4-a62a-15884b3cf26e",
        "part": "whole"
       },
       "id": "e1db9525-3a6e-4e9a-ab5c-5005bb1ca24a"
      }
     }
    },
    "bd7a921b-383a-4558-873f-5020fbfd3737": {
     "id": "bd7a921b-383a-4558-873f-5020fbfd3737",
     "prev": "b0681c92-8b38-491d-9223-766c8deb4659",
     "regions": {
      "a9e2b89e-4cec-48a1-9388-1344260d5d6b": {
       "attrs": {
        "height": 0.8,
        "width": 0.8,
        "x": 0.1,
        "y": 0.1
       },
       "content": {
        "cell": "6c885429-1ec4-4f89-ad9b-d12d10373f1d",
        "part": "whole"
       },
       "id": "a9e2b89e-4cec-48a1-9388-1344260d5d6b"
      }
     }
    },
    "bded5191-8d34-4a6a-9372-0fcf16322ac9": {
     "id": "bded5191-8d34-4a6a-9372-0fcf16322ac9",
     "prev": "e0c07b48-0f13-48ef-ba61-332795f9da6b",
     "regions": {
      "603271fd-d8fb-4433-b027-1153eb97b8fa": {
       "attrs": {
        "height": 0.8,
        "width": 0.8,
        "x": 0.1,
        "y": 0.1
       },
       "content": {
        "cell": "fa784c45-1a0e-43be-acae-b752abe285a0",
        "part": "whole"
       },
       "id": "603271fd-d8fb-4433-b027-1153eb97b8fa"
      }
     }
    },
    "bf66d921-f80d-44c3-8d1e-7f223860ce6c": {
     "id": "bf66d921-f80d-44c3-8d1e-7f223860ce6c",
     "prev": "952eb978-f551-4252-bb54-895c8517d175",
     "regions": {
      "18ce8b4d-5cf1-47bf-b7a8-5703d7f0ec21": {
       "attrs": {
        "height": 0.8,
        "width": 0.8,
        "x": 0.1,
        "y": 0.1
       },
       "content": {
        "cell": "28c8ad63-de4e-4f53-84e9-229091e1c967",
        "part": "whole"
       },
       "id": "18ce8b4d-5cf1-47bf-b7a8-5703d7f0ec21"
      }
     }
    },
    "c637003b-2d4f-4662-a35e-a87e9e1345ef": {
     "id": "c637003b-2d4f-4662-a35e-a87e9e1345ef",
     "prev": "36edfbde-3d46-4cf1-9125-4c71c7f03080",
     "regions": {
      "fbb07c77-a87d-45af-8c9f-51ecbc106794": {
       "attrs": {
        "height": 0.8,
        "width": 0.8,
        "x": 0.1,
        "y": 0.1
       },
       "content": {
        "cell": "f794ab1c-3048-404e-9ba5-a0d9142c28fb",
        "part": "whole"
       },
       "id": "fbb07c77-a87d-45af-8c9f-51ecbc106794"
      }
     }
    },
    "c9f5d8e9-7c4f-4793-b157-605ff6170e0a": {
     "id": "c9f5d8e9-7c4f-4793-b157-605ff6170e0a",
     "prev": "f1483ddc-4c31-4b30-b935-5289a8eb7678",
     "regions": {
      "a1c9df7a-2ce6-46be-8aee-a388a4dfcdf7": {
       "attrs": {
        "height": 0.8,
        "width": 0.8,
        "x": 0.1,
        "y": 0.1
       },
       "content": {
        "cell": "ca65b98d-cf03-4c58-b39f-bde6466a4f2c",
        "part": "whole"
       },
       "id": "a1c9df7a-2ce6-46be-8aee-a388a4dfcdf7"
      }
     }
    },
    "c9fc2dac-7ff4-4adb-832c-b32766a92e21": {
     "id": "c9fc2dac-7ff4-4adb-832c-b32766a92e21",
     "prev": "df430aa6-5095-46c7-acf7-1ed13d4511b8",
     "regions": {
      "530d4726-878c-411c-aeac-c3470ff1ce01": {
       "attrs": {
        "height": 0.8,
        "width": 0.8,
        "x": 0.1,
        "y": 0.1
       },
       "content": {
        "cell": "8bd3984f-edd4-4086-8bfc-902a867a7f25",
        "part": "whole"
       },
       "id": "530d4726-878c-411c-aeac-c3470ff1ce01"
      }
     }
    },
    "ce0b1bde-839c-4ce7-b783-90437592c9f9": {
     "id": "ce0b1bde-839c-4ce7-b783-90437592c9f9",
     "prev": "5ec8abce-36ec-4865-aced-23e9faa5bba7",
     "regions": {
      "400303a9-8849-4276-ba13-8ff413fa989b": {
       "attrs": {
        "height": 0.8,
        "width": 0.8,
        "x": 0.1,
        "y": 0.1
       },
       "content": {
        "cell": "e175750c-5b69-4b3f-a510-988d1a5dcca4",
        "part": "whole"
       },
       "id": "400303a9-8849-4276-ba13-8ff413fa989b"
      }
     }
    },
    "cf4dc07f-e404-4622-b3e9-a212e8ccf186": {
     "id": "cf4dc07f-e404-4622-b3e9-a212e8ccf186",
     "prev": "fb101386-bbc0-4915-98db-e7f9f600676c",
     "regions": {
      "23360f65-fc3c-4a53-9ac1-c69964e39f37": {
       "attrs": {
        "height": 0.8,
        "width": 0.8,
        "x": 0.1,
        "y": 0.1
       },
       "content": {
        "cell": "e3500500-704d-4ac6-8e3a-7adade7ad5fd",
        "part": "whole"
       },
       "id": "23360f65-fc3c-4a53-9ac1-c69964e39f37"
      }
     }
    },
    "cfeb1027-96c6-4b61-b691-cb3fe5be5503": {
     "id": "cfeb1027-96c6-4b61-b691-cb3fe5be5503",
     "prev": "9f4f5054-34b0-4eaa-b6b7-b5fac4369b24",
     "regions": {
      "0f995a5f-f8db-460e-806d-3cef1d4d2517": {
       "attrs": {
        "height": 0.8,
        "width": 0.8,
        "x": 0.1,
        "y": 0.1
       },
       "content": {
        "cell": "870b421e-fbfd-48b4-95a7-df9029b0a1c8",
        "part": "whole"
       },
       "id": "0f995a5f-f8db-460e-806d-3cef1d4d2517"
      }
     }
    },
    "d1848321-be4d-40f4-a51d-42d1b796c537": {
     "id": "d1848321-be4d-40f4-a51d-42d1b796c537",
     "prev": "54f9f403-ea0c-45ac-acf0-370165ae3d86",
     "regions": {
      "649515eb-b30d-4335-87c5-4c2c86ba9b16": {
       "attrs": {
        "height": 0.8,
        "width": 0.8,
        "x": 0.1,
        "y": 0.1
       },
       "content": {
        "cell": "35f18a3b-718d-4c00-9868-b1ad7e0efbfe",
        "part": "whole"
       },
       "id": "649515eb-b30d-4335-87c5-4c2c86ba9b16"
      }
     }
    },
    "d1b0790f-e35d-4e48-a33e-13682c3ebee3": {
     "id": "d1b0790f-e35d-4e48-a33e-13682c3ebee3",
     "prev": "78879bc8-96cb-459a-99cb-9a8509640126",
     "regions": {
      "cbbd5af3-6dcd-4fd7-b66b-e2c6a7712b7e": {
       "attrs": {
        "height": 0.8,
        "width": 0.8,
        "x": 0.1,
        "y": 0.1
       },
       "content": {
        "cell": "8984fa98-4e68-46b9-a2c6-ea544c83b2c9",
        "part": "whole"
       },
       "id": "cbbd5af3-6dcd-4fd7-b66b-e2c6a7712b7e"
      }
     }
    },
    "d1e64014-5708-41f8-b501-f7e4e55e30e5": {
     "id": "d1e64014-5708-41f8-b501-f7e4e55e30e5",
     "prev": "07529b94-9e84-4722-bb09-ea9aa4b0515a",
     "regions": {
      "50c7ef51-f637-4dc7-955e-8b67aa3c1333": {
       "attrs": {
        "height": 0.8,
        "width": 0.8,
        "x": 0.1,
        "y": 0.1
       },
       "content": {
        "cell": "bcad16cc-06ac-413f-ac01-e6e450c45261",
        "part": "whole"
       },
       "id": "50c7ef51-f637-4dc7-955e-8b67aa3c1333"
      }
     }
    },
    "d323bf49-9861-4110-8dff-eab4c865e69f": {
     "id": "d323bf49-9861-4110-8dff-eab4c865e69f",
     "prev": "a9f9e50d-b3f3-4bc9-b94c-3d803b196d7f",
     "regions": {
      "529a5ca3-f765-4713-a429-c04a7ef84792": {
       "attrs": {
        "height": 0.8,
        "width": 0.8,
        "x": 0.1,
        "y": 0.1
       },
       "content": {
        "cell": "dc403a2e-ef8b-47e9-85de-844bdf7606ee",
        "part": "whole"
       },
       "id": "529a5ca3-f765-4713-a429-c04a7ef84792"
      }
     }
    },
    "d361dd55-5da5-403b-b718-3557a9d4256e": {
     "id": "d361dd55-5da5-403b-b718-3557a9d4256e",
     "prev": "5ae87167-d505-417a-bd88-f31c5c593b2d",
     "regions": {
      "241fc16f-ba9d-4d00-a392-89ac7a577f96": {
       "attrs": {
        "height": 0.8,
        "width": 0.8,
        "x": 0.1,
        "y": 0.1
       },
       "content": {
        "cell": "f6256d76-9836-4e52-8473-c4dbf804705d",
        "part": "whole"
       },
       "id": "241fc16f-ba9d-4d00-a392-89ac7a577f96"
      }
     }
    },
    "d7885887-48d2-4b60-b3bd-12b36bc0d3d7": {
     "id": "d7885887-48d2-4b60-b3bd-12b36bc0d3d7",
     "prev": "047ca86b-4fbf-4509-8401-16d68c399b7a",
     "regions": {
      "991b5e2a-ef98-45bb-8b69-333e01df6a13": {
       "attrs": {
        "height": 0.8,
        "width": 0.8,
        "x": 0.1,
        "y": 0.1
       },
       "content": {
        "cell": "cb6b722b-2918-4363-b9e6-2d33ee0dfb45",
        "part": "whole"
       },
       "id": "991b5e2a-ef98-45bb-8b69-333e01df6a13"
      }
     }
    },
    "d7dac6aa-739a-4a01-a146-8e9522656035": {
     "id": "d7dac6aa-739a-4a01-a146-8e9522656035",
     "prev": "d361dd55-5da5-403b-b718-3557a9d4256e",
     "regions": {
      "4676e6b9-2a2a-4d60-b029-8289925cc926": {
       "attrs": {
        "height": 0.8,
        "width": 0.8,
        "x": 0.1,
        "y": 0.1
       },
       "content": {
        "cell": "ce9d36ed-d2a0-4581-833f-bf25b6047299",
        "part": "whole"
       },
       "id": "4676e6b9-2a2a-4d60-b029-8289925cc926"
      }
     }
    },
    "deb44fd8-3638-43c1-b852-a46e80070fc5": {
     "id": "deb44fd8-3638-43c1-b852-a46e80070fc5",
     "prev": "8da79e48-da87-4b83-9b18-34d5a09ba15c",
     "regions": {
      "788e3d78-906e-432d-831f-95a338bac6d0": {
       "attrs": {
        "height": 0.8,
        "width": 0.8,
        "x": 0.1,
        "y": 0.1
       },
       "content": {
        "cell": "30bd480e-9266-4295-a5d0-5d9da8fe60c7",
        "part": "whole"
       },
       "id": "788e3d78-906e-432d-831f-95a338bac6d0"
      }
     }
    },
    "dee09997-f69b-4619-8b9b-85d1560933fa": {
     "id": "dee09997-f69b-4619-8b9b-85d1560933fa",
     "prev": "0f66af7f-7553-4998-8b23-524230ff8945",
     "regions": {
      "1bdf5a40-a621-4eed-913e-f330bacf57f5": {
       "attrs": {
        "height": 0.8,
        "width": 0.8,
        "x": 0.1,
        "y": 0.1
       },
       "content": {
        "cell": "2ed6535f-bd89-4349-8ec5-90b484ac88da",
        "part": "whole"
       },
       "id": "1bdf5a40-a621-4eed-913e-f330bacf57f5"
      }
     }
    },
    "df430aa6-5095-46c7-acf7-1ed13d4511b8": {
     "id": "df430aa6-5095-46c7-acf7-1ed13d4511b8",
     "prev": "b098c833-6e5f-4047-84ec-13489825a011",
     "regions": {
      "7872080c-acb6-4c1f-90f0-6a83435bbe9a": {
       "attrs": {
        "height": 0.8,
        "width": 0.8,
        "x": 0.1,
        "y": 0.1
       },
       "content": {
        "cell": "30f4c40b-1353-4839-a727-6355d93ec491",
        "part": "whole"
       },
       "id": "7872080c-acb6-4c1f-90f0-6a83435bbe9a"
      }
     }
    },
    "e0c07b48-0f13-48ef-ba61-332795f9da6b": {
     "id": "e0c07b48-0f13-48ef-ba61-332795f9da6b",
     "prev": "89030aca-85d6-4201-b8c3-49b55ab914ca",
     "regions": {
      "2bdea259-729d-4862-b0f9-9cc8c3296727": {
       "attrs": {
        "height": 0.8,
        "width": 0.8,
        "x": 0.1,
        "y": 0.1
       },
       "content": {
        "cell": "c790d9da-0697-448a-a61e-e64537fd6f3b",
        "part": "whole"
       },
       "id": "2bdea259-729d-4862-b0f9-9cc8c3296727"
      }
     }
    },
    "e31eb4d4-8b23-4678-9a0a-c8d050b58656": {
     "id": "e31eb4d4-8b23-4678-9a0a-c8d050b58656",
     "prev": "7f8ed0a8-f880-4573-9eb5-94d12dc29309",
     "regions": {
      "1a8cee1e-f946-471d-a813-d13debc02f53": {
       "attrs": {
        "height": 0.8,
        "width": 0.8,
        "x": 0.1,
        "y": 0.1
       },
       "content": {
        "cell": "57ac2d42-8a07-4c6b-beea-8d92f8c24f51",
        "part": "whole"
       },
       "id": "1a8cee1e-f946-471d-a813-d13debc02f53"
      }
     }
    },
    "e56c9da4-bff6-4899-9965-a897ec58761b": {
     "id": "e56c9da4-bff6-4899-9965-a897ec58761b",
     "prev": "d1848321-be4d-40f4-a51d-42d1b796c537",
     "regions": {
      "6d5e2784-17a1-44ff-8bfa-2e8f1f59d390": {
       "attrs": {
        "height": 0.8,
        "width": 0.8,
        "x": 0.1,
        "y": 0.1
       },
       "content": {
        "cell": "94563581-bb10-4dbc-bba1-47d56e75354a",
        "part": "whole"
       },
       "id": "6d5e2784-17a1-44ff-8bfa-2e8f1f59d390"
      }
     }
    },
    "e6df0774-d276-4301-a579-65381792af3e": {
     "id": "e6df0774-d276-4301-a579-65381792af3e",
     "prev": "2aa773a5-042d-4bc0-b3f5-edc24e07a273",
     "regions": {
      "b54720fe-e287-4cfb-ae36-1f0e088f8b10": {
       "attrs": {
        "height": 0.8,
        "width": 0.8,
        "x": 0.1,
        "y": 0.1
       },
       "content": {
        "cell": "2501b9c0-6596-4f2c-aa06-6be643a14cff",
        "part": "whole"
       },
       "id": "b54720fe-e287-4cfb-ae36-1f0e088f8b10"
      }
     }
    },
    "eab7931a-84c1-4ad2-bac5-af5ea9873443": {
     "id": "eab7931a-84c1-4ad2-bac5-af5ea9873443",
     "prev": "eaf50b26-bd6e-4a3a-ba13-dda48a223f1a",
     "regions": {
      "a5ebf9dc-f6e3-40c3-a0ce-22b856e3695f": {
       "attrs": {
        "height": 0.8,
        "width": 0.8,
        "x": 0.1,
        "y": 0.1
       },
       "content": {
        "cell": "6ac9618a-fa2d-44b8-843b-f5db8d2e438b",
        "part": "whole"
       },
       "id": "a5ebf9dc-f6e3-40c3-a0ce-22b856e3695f"
      }
     }
    },
    "eaf50b26-bd6e-4a3a-ba13-dda48a223f1a": {
     "id": "eaf50b26-bd6e-4a3a-ba13-dda48a223f1a",
     "prev": "ffc2d570-9693-420f-a95f-57fd2d67f007",
     "regions": {
      "ad5cb2fe-4d35-46da-91b3-809b0f1f47c7": {
       "attrs": {
        "height": 0.8,
        "width": 0.8,
        "x": 0.1,
        "y": 0.1
       },
       "content": {
        "cell": "24a4e278-527a-4df3-b354-f5872a990bd6",
        "part": "whole"
       },
       "id": "ad5cb2fe-4d35-46da-91b3-809b0f1f47c7"
      }
     }
    },
    "f1483ddc-4c31-4b30-b935-5289a8eb7678": {
     "id": "f1483ddc-4c31-4b30-b935-5289a8eb7678",
     "prev": "46c0c81e-8df7-4208-a6ac-e71442160ff9",
     "regions": {
      "a79b3ba3-dfcd-46b9-be42-03c226af8148": {
       "attrs": {
        "height": 0.8,
        "width": 0.8,
        "x": 0.1,
        "y": 0.1
       },
       "content": {
        "cell": "66d60b5f-1970-4a67-b8a9-097f9931ffb6",
        "part": "whole"
       },
       "id": "a79b3ba3-dfcd-46b9-be42-03c226af8148"
      }
     }
    },
    "f26770cb-b9fe-42a2-8bd7-f595e950ac22": {
     "id": "f26770cb-b9fe-42a2-8bd7-f595e950ac22",
     "prev": "7ef81ab1-e520-4c89-8bb5-84777bf72df3",
     "regions": {
      "caa3359d-36c3-473c-81e6-87bd0dddbc57": {
       "attrs": {
        "height": 0.8,
        "width": 0.8,
        "x": 0.1,
        "y": 0.1
       },
       "content": {
        "cell": "b9d6e6e3-bc92-4729-a8fa-d2e2218e69e8",
        "part": "whole"
       },
       "id": "caa3359d-36c3-473c-81e6-87bd0dddbc57"
      }
     }
    },
    "f6ba02f3-d43c-4d01-ac73-3dbad4baf459": {
     "id": "f6ba02f3-d43c-4d01-ac73-3dbad4baf459",
     "prev": "341f0780-62b4-4457-8fdb-a358408e383c",
     "regions": {
      "888ac8ea-5448-4443-ba72-16f573843b55": {
       "attrs": {
        "height": 0.8,
        "width": 0.8,
        "x": 0.1,
        "y": 0.1
       },
       "content": {
        "cell": "4dca24b4-955a-4bc1-863e-8c829ad8f716",
        "part": "whole"
       },
       "id": "888ac8ea-5448-4443-ba72-16f573843b55"
      }
     }
    },
    "f93e9f2e-5f38-4db8-8088-129bcf580e80": {
     "id": "f93e9f2e-5f38-4db8-8088-129bcf580e80",
     "prev": "227f74a4-673c-4ff2-abe5-1c5130506581",
     "regions": {
      "b4208d97-32ed-4959-aa6c-edcafbe10dea": {
       "attrs": {
        "height": 0.8,
        "width": 0.8,
        "x": 0.1,
        "y": 0.1
       },
       "content": {
        "cell": "698d89df-74e2-4000-a901-a51903f8dbe1",
        "part": "whole"
       },
       "id": "b4208d97-32ed-4959-aa6c-edcafbe10dea"
      }
     }
    },
    "fb101386-bbc0-4915-98db-e7f9f600676c": {
     "id": "fb101386-bbc0-4915-98db-e7f9f600676c",
     "prev": "deb44fd8-3638-43c1-b852-a46e80070fc5",
     "regions": {
      "17a63f62-d3c7-4a06-b011-806ef53cb496": {
       "attrs": {
        "height": 0.8,
        "width": 0.8,
        "x": 0.1,
        "y": 0.1
       },
       "content": {
        "cell": "aad8ea25-8eb6-4149-bdc0-d60ac79cbe07",
        "part": "whole"
       },
       "id": "17a63f62-d3c7-4a06-b011-806ef53cb496"
      }
     }
    },
    "fc4874d2-5b3c-4738-9dfd-33891cb372bf": {
     "id": "fc4874d2-5b3c-4738-9dfd-33891cb372bf",
     "prev": "6c9dbd25-151a-4723-95c4-d17a33d3d359",
     "regions": {
      "97f2f1db-9938-4132-86de-47303684ee4d": {
       "attrs": {
        "height": 0.8,
        "width": 0.8,
        "x": 0.1,
        "y": 0.1
       },
       "content": {
        "cell": "c354010a-5ce5-403a-b9a2-d25a951d8520",
        "part": "whole"
       },
       "id": "97f2f1db-9938-4132-86de-47303684ee4d"
      }
     }
    },
    "ff6f7ddb-73e9-4c0c-94b0-20fd7356542e": {
     "id": "ff6f7ddb-73e9-4c0c-94b0-20fd7356542e",
     "prev": "eab7931a-84c1-4ad2-bac5-af5ea9873443",
     "regions": {
      "10a26257-ab77-47d8-9558-bbf3244fcacd": {
       "attrs": {
        "height": 0.8,
        "width": 0.8,
        "x": 0.1,
        "y": 0.1
       },
       "content": {
        "cell": "bd2027b3-8bff-4589-8133-20fd6ae3c079",
        "part": "whole"
       },
       "id": "10a26257-ab77-47d8-9558-bbf3244fcacd"
      }
     }
    },
    "ffc2d570-9693-420f-a95f-57fd2d67f007": {
     "id": "ffc2d570-9693-420f-a95f-57fd2d67f007",
     "prev": "e56c9da4-bff6-4899-9965-a897ec58761b",
     "regions": {
      "0ffeb72b-6575-455c-8dae-4c50326d551c": {
       "attrs": {
        "height": 0.8,
        "width": 0.8,
        "x": 0.1,
        "y": 0.1
       },
       "content": {
        "cell": "6f386ac2-0517-45d2-a51a-6bc4d1fbcafb",
        "part": "whole"
       },
       "id": "0ffeb72b-6575-455c-8dae-4c50326d551c"
      }
     }
    }
   },
   "themes": {}
  }
 },
 "nbformat": 4,
 "nbformat_minor": 1
}
